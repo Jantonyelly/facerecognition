{
  "nbformat": 4,
  "nbformat_minor": 0,
  "metadata": {
    "colab": {
      "name": "contin2",
      "provenance": [],
      "collapsed_sections": [],
      "include_colab_link": true
    },
    "kernelspec": {
      "display_name": "Python 3",
      "name": "python3"
    },
    "language_info": {
      "name": "python"
    }
  },
  "cells": [
    {
      "cell_type": "markdown",
      "metadata": {
        "id": "view-in-github",
        "colab_type": "text"
      },
      "source": [
        "<a href=\"https://colab.research.google.com/github/Jantonyelly/facerecognition/blob/main/contin2.ipynb\" target=\"_parent\"><img src=\"https://colab.research.google.com/assets/colab-badge.svg\" alt=\"Open In Colab\"/></a>"
      ]
    },
    {
      "cell_type": "code",
      "metadata": {
        "id": "iFa0gfm94dCX",
        "colab": {
          "base_uri": "https://localhost:8080/",
          "height": 255
        },
        "outputId": "50d7e988-21f4-4e10-ab90-d46328d19dd9"
      },
      "source": [
        "import numpy as np\n",
        "import pandas as pd\n",
        "data = pd.read_csv(r'/content/zeta_sol_IEEE68AC--conti2.csv')\n",
        "data.head()"
      ],
      "execution_count": 65,
      "outputs": [
        {
          "output_type": "execute_result",
          "data": {
            "text/html": [
              "<div>\n",
              "<style scoped>\n",
              "    .dataframe tbody tr th:only-of-type {\n",
              "        vertical-align: middle;\n",
              "    }\n",
              "\n",
              "    .dataframe tbody tr th {\n",
              "        vertical-align: top;\n",
              "    }\n",
              "\n",
              "    .dataframe thead th {\n",
              "        text-align: right;\n",
              "    }\n",
              "</style>\n",
              "<table border=\"1\" class=\"dataframe\">\n",
              "  <thead>\n",
              "    <tr style=\"text-align: right;\">\n",
              "      <th></th>\n",
              "      <th>1</th>\n",
              "      <th>2</th>\n",
              "      <th>3</th>\n",
              "      <th>4</th>\n",
              "      <th>5</th>\n",
              "      <th>6</th>\n",
              "      <th>7</th>\n",
              "      <th>8</th>\n",
              "      <th>9</th>\n",
              "      <th>10</th>\n",
              "      <th>11</th>\n",
              "      <th>12</th>\n",
              "      <th>13</th>\n",
              "      <th>14</th>\n",
              "      <th>15</th>\n",
              "      <th>16</th>\n",
              "      <th>17</th>\n",
              "      <th>18</th>\n",
              "      <th>19</th>\n",
              "      <th>20</th>\n",
              "      <th>21</th>\n",
              "      <th>22</th>\n",
              "      <th>23</th>\n",
              "      <th>24</th>\n",
              "      <th>25</th>\n",
              "      <th>26</th>\n",
              "      <th>27</th>\n",
              "      <th>28</th>\n",
              "      <th>29</th>\n",
              "      <th>30</th>\n",
              "      <th>31</th>\n",
              "      <th>32</th>\n",
              "      <th>33</th>\n",
              "      <th>34</th>\n",
              "      <th>35</th>\n",
              "      <th>36</th>\n",
              "      <th>37</th>\n",
              "      <th>38</th>\n",
              "      <th>39</th>\n",
              "      <th>40</th>\n",
              "      <th>...</th>\n",
              "      <th>400</th>\n",
              "      <th>401</th>\n",
              "      <th>402</th>\n",
              "      <th>403</th>\n",
              "      <th>404</th>\n",
              "      <th>405</th>\n",
              "      <th>406</th>\n",
              "      <th>407</th>\n",
              "      <th>408</th>\n",
              "      <th>409</th>\n",
              "      <th>410</th>\n",
              "      <th>411</th>\n",
              "      <th>412</th>\n",
              "      <th>413</th>\n",
              "      <th>414</th>\n",
              "      <th>415</th>\n",
              "      <th>416</th>\n",
              "      <th>417</th>\n",
              "      <th>418</th>\n",
              "      <th>419</th>\n",
              "      <th>420</th>\n",
              "      <th>421</th>\n",
              "      <th>422</th>\n",
              "      <th>423</th>\n",
              "      <th>424</th>\n",
              "      <th>425</th>\n",
              "      <th>426</th>\n",
              "      <th>427</th>\n",
              "      <th>428</th>\n",
              "      <th>429</th>\n",
              "      <th>430</th>\n",
              "      <th>431</th>\n",
              "      <th>432</th>\n",
              "      <th>433</th>\n",
              "      <th>434</th>\n",
              "      <th>435</th>\n",
              "      <th>436</th>\n",
              "      <th>437</th>\n",
              "      <th>438</th>\n",
              "      <th>439</th>\n",
              "    </tr>\n",
              "  </thead>\n",
              "  <tbody>\n",
              "    <tr>\n",
              "      <th>0</th>\n",
              "      <td>-0.654767</td>\n",
              "      <td>-0.700667</td>\n",
              "      <td>-0.648094</td>\n",
              "      <td>-0.785926</td>\n",
              "      <td>-0.765472</td>\n",
              "      <td>-0.744509</td>\n",
              "      <td>-0.743870</td>\n",
              "      <td>-0.660407</td>\n",
              "      <td>-0.326413</td>\n",
              "      <td>-0.440122</td>\n",
              "      <td>-0.363301</td>\n",
              "      <td>-0.823662</td>\n",
              "      <td>-0.858138</td>\n",
              "      <td>0.542747</td>\n",
              "      <td>0.294155</td>\n",
              "      <td>0</td>\n",
              "      <td>-0.975084</td>\n",
              "      <td>-0.104050</td>\n",
              "      <td>-0.831740</td>\n",
              "      <td>-0.851927</td>\n",
              "      <td>-0.858042</td>\n",
              "      <td>-0.810257</td>\n",
              "      <td>-0.822169</td>\n",
              "      <td>-0.877014</td>\n",
              "      <td>-0.720492</td>\n",
              "      <td>-0.714268</td>\n",
              "      <td>-0.789899</td>\n",
              "      <td>-0.567929</td>\n",
              "      <td>-0.493200</td>\n",
              "      <td>-0.685745</td>\n",
              "      <td>-0.617162</td>\n",
              "      <td>-0.543370</td>\n",
              "      <td>-0.635749</td>\n",
              "      <td>-0.772084</td>\n",
              "      <td>-0.771810</td>\n",
              "      <td>-0.872363</td>\n",
              "      <td>-0.837815</td>\n",
              "      <td>-0.617261</td>\n",
              "      <td>-0.974259</td>\n",
              "      <td>-0.343236</td>\n",
              "      <td>...</td>\n",
              "      <td>0.009397</td>\n",
              "      <td>0.418476</td>\n",
              "      <td>-8.065883</td>\n",
              "      <td>7.398504</td>\n",
              "      <td>4.254639</td>\n",
              "      <td>6.864996</td>\n",
              "      <td>0.139002</td>\n",
              "      <td>0.075539</td>\n",
              "      <td>0.139005</td>\n",
              "      <td>0.035050</td>\n",
              "      <td>2.592105</td>\n",
              "      <td>2.957386</td>\n",
              "      <td>0.429199</td>\n",
              "      <td>2.716974</td>\n",
              "      <td>4.796688</td>\n",
              "      <td>1.972747</td>\n",
              "      <td>7.689734</td>\n",
              "      <td>-11.117909</td>\n",
              "      <td>0.425741</td>\n",
              "      <td>-2.020049</td>\n",
              "      <td>-1.233729</td>\n",
              "      <td>-5.503058</td>\n",
              "      <td>-0.215765</td>\n",
              "      <td>1.400113</td>\n",
              "      <td>2.791107</td>\n",
              "      <td>-2.436116</td>\n",
              "      <td>-1.387701</td>\n",
              "      <td>-0.061192</td>\n",
              "      <td>0.686391</td>\n",
              "      <td>2.037245</td>\n",
              "      <td>-2.129039</td>\n",
              "      <td>0.091794</td>\n",
              "      <td>-3.205714</td>\n",
              "      <td>-0.001006</td>\n",
              "      <td>0.377888</td>\n",
              "      <td>-3.197011</td>\n",
              "      <td>-2.803898</td>\n",
              "      <td>0.474972</td>\n",
              "      <td>-0.362934</td>\n",
              "      <td>0</td>\n",
              "    </tr>\n",
              "    <tr>\n",
              "      <th>1</th>\n",
              "      <td>-1.056926</td>\n",
              "      <td>-1.036600</td>\n",
              "      <td>-1.042843</td>\n",
              "      <td>-1.140621</td>\n",
              "      <td>-1.084272</td>\n",
              "      <td>-1.147664</td>\n",
              "      <td>-1.130044</td>\n",
              "      <td>-1.058712</td>\n",
              "      <td>-0.721367</td>\n",
              "      <td>-1.016123</td>\n",
              "      <td>-1.005416</td>\n",
              "      <td>-1.115213</td>\n",
              "      <td>-1.151219</td>\n",
              "      <td>0.023641</td>\n",
              "      <td>-0.271096</td>\n",
              "      <td>0</td>\n",
              "      <td>-1.274404</td>\n",
              "      <td>-0.145641</td>\n",
              "      <td>-1.187639</td>\n",
              "      <td>-1.191768</td>\n",
              "      <td>-1.246038</td>\n",
              "      <td>-1.204081</td>\n",
              "      <td>-1.213255</td>\n",
              "      <td>-1.259231</td>\n",
              "      <td>-1.117432</td>\n",
              "      <td>-1.106434</td>\n",
              "      <td>-1.179655</td>\n",
              "      <td>-0.962362</td>\n",
              "      <td>-0.888034</td>\n",
              "      <td>-1.116036</td>\n",
              "      <td>-1.079656</td>\n",
              "      <td>-1.065301</td>\n",
              "      <td>-1.093645</td>\n",
              "      <td>-1.133002</td>\n",
              "      <td>-1.115978</td>\n",
              "      <td>-1.194041</td>\n",
              "      <td>-1.222196</td>\n",
              "      <td>-1.061605</td>\n",
              "      <td>-1.282667</td>\n",
              "      <td>-0.808892</td>\n",
              "      <td>...</td>\n",
              "      <td>1.180861</td>\n",
              "      <td>0.685916</td>\n",
              "      <td>-7.792667</td>\n",
              "      <td>7.130660</td>\n",
              "      <td>4.408717</td>\n",
              "      <td>-2.076072</td>\n",
              "      <td>-0.050293</td>\n",
              "      <td>0.177691</td>\n",
              "      <td>-0.050242</td>\n",
              "      <td>2.608912</td>\n",
              "      <td>2.507077</td>\n",
              "      <td>2.821057</td>\n",
              "      <td>1.884704</td>\n",
              "      <td>2.547792</td>\n",
              "      <td>4.623510</td>\n",
              "      <td>3.443271</td>\n",
              "      <td>10.023562</td>\n",
              "      <td>-13.428598</td>\n",
              "      <td>0.305728</td>\n",
              "      <td>-1.891419</td>\n",
              "      <td>-0.368189</td>\n",
              "      <td>-4.853915</td>\n",
              "      <td>0.213406</td>\n",
              "      <td>1.941012</td>\n",
              "      <td>3.333238</td>\n",
              "      <td>-2.525194</td>\n",
              "      <td>-1.388292</td>\n",
              "      <td>-0.190286</td>\n",
              "      <td>0.569476</td>\n",
              "      <td>1.277127</td>\n",
              "      <td>-1.397630</td>\n",
              "      <td>0.120503</td>\n",
              "      <td>-3.153384</td>\n",
              "      <td>-0.029371</td>\n",
              "      <td>0.315159</td>\n",
              "      <td>-3.173158</td>\n",
              "      <td>-2.841741</td>\n",
              "      <td>0.390646</td>\n",
              "      <td>-0.228706</td>\n",
              "      <td>0</td>\n",
              "    </tr>\n",
              "    <tr>\n",
              "      <th>2</th>\n",
              "      <td>-0.485537</td>\n",
              "      <td>-0.424480</td>\n",
              "      <td>-0.425817</td>\n",
              "      <td>-0.487376</td>\n",
              "      <td>-0.439520</td>\n",
              "      <td>-0.481349</td>\n",
              "      <td>-0.429234</td>\n",
              "      <td>-0.435048</td>\n",
              "      <td>-0.071290</td>\n",
              "      <td>-0.279703</td>\n",
              "      <td>-0.381687</td>\n",
              "      <td>-0.422708</td>\n",
              "      <td>-0.519149</td>\n",
              "      <td>0.740181</td>\n",
              "      <td>0.445686</td>\n",
              "      <td>0</td>\n",
              "      <td>-0.643710</td>\n",
              "      <td>-0.084083</td>\n",
              "      <td>-0.534018</td>\n",
              "      <td>-0.538838</td>\n",
              "      <td>-0.581771</td>\n",
              "      <td>-0.533683</td>\n",
              "      <td>-0.536066</td>\n",
              "      <td>-0.599391</td>\n",
              "      <td>-0.495322</td>\n",
              "      <td>-0.465277</td>\n",
              "      <td>-0.534419</td>\n",
              "      <td>-0.313015</td>\n",
              "      <td>-0.237961</td>\n",
              "      <td>-0.472173</td>\n",
              "      <td>-0.426442</td>\n",
              "      <td>-0.440561</td>\n",
              "      <td>-0.474593</td>\n",
              "      <td>-0.524777</td>\n",
              "      <td>-0.530859</td>\n",
              "      <td>-0.546847</td>\n",
              "      <td>-0.574900</td>\n",
              "      <td>-0.440991</td>\n",
              "      <td>-0.697223</td>\n",
              "      <td>-0.148464</td>\n",
              "      <td>...</td>\n",
              "      <td>-0.982337</td>\n",
              "      <td>0.784885</td>\n",
              "      <td>-7.716205</td>\n",
              "      <td>7.091125</td>\n",
              "      <td>4.686792</td>\n",
              "      <td>8.598895</td>\n",
              "      <td>-1.096271</td>\n",
              "      <td>0.537843</td>\n",
              "      <td>-1.096039</td>\n",
              "      <td>-0.973860</td>\n",
              "      <td>2.009661</td>\n",
              "      <td>1.997118</td>\n",
              "      <td>-0.197204</td>\n",
              "      <td>2.662941</td>\n",
              "      <td>4.639289</td>\n",
              "      <td>1.243003</td>\n",
              "      <td>5.027094</td>\n",
              "      <td>-8.239500</td>\n",
              "      <td>-0.460580</td>\n",
              "      <td>-1.044383</td>\n",
              "      <td>-1.113178</td>\n",
              "      <td>-3.782257</td>\n",
              "      <td>0.336880</td>\n",
              "      <td>1.736286</td>\n",
              "      <td>2.892578</td>\n",
              "      <td>-2.224347</td>\n",
              "      <td>-1.153413</td>\n",
              "      <td>0.026642</td>\n",
              "      <td>0.875343</td>\n",
              "      <td>1.221359</td>\n",
              "      <td>-1.323085</td>\n",
              "      <td>0.101727</td>\n",
              "      <td>-2.680313</td>\n",
              "      <td>-0.014943</td>\n",
              "      <td>0.510444</td>\n",
              "      <td>-2.688377</td>\n",
              "      <td>-2.168758</td>\n",
              "      <td>0.889214</td>\n",
              "      <td>-0.225851</td>\n",
              "      <td>0</td>\n",
              "    </tr>\n",
              "    <tr>\n",
              "      <th>3</th>\n",
              "      <td>-0.399518</td>\n",
              "      <td>-0.338218</td>\n",
              "      <td>-0.402695</td>\n",
              "      <td>-0.397027</td>\n",
              "      <td>-0.418572</td>\n",
              "      <td>-0.385424</td>\n",
              "      <td>-0.333250</td>\n",
              "      <td>-0.382728</td>\n",
              "      <td>-0.028025</td>\n",
              "      <td>-0.250656</td>\n",
              "      <td>-0.153927</td>\n",
              "      <td>-0.505058</td>\n",
              "      <td>-0.766558</td>\n",
              "      <td>0.424546</td>\n",
              "      <td>-0.031722</td>\n",
              "      <td>0</td>\n",
              "      <td>-0.858034</td>\n",
              "      <td>-0.108983</td>\n",
              "      <td>-0.465640</td>\n",
              "      <td>-0.492057</td>\n",
              "      <td>-0.504717</td>\n",
              "      <td>-0.446986</td>\n",
              "      <td>-0.449269</td>\n",
              "      <td>-0.529199</td>\n",
              "      <td>-0.440422</td>\n",
              "      <td>-0.413758</td>\n",
              "      <td>-0.479668</td>\n",
              "      <td>-0.268133</td>\n",
              "      <td>-0.194119</td>\n",
              "      <td>-0.468489</td>\n",
              "      <td>-0.411294</td>\n",
              "      <td>-0.336216</td>\n",
              "      <td>-0.435582</td>\n",
              "      <td>-0.586300</td>\n",
              "      <td>-0.600456</td>\n",
              "      <td>-0.670895</td>\n",
              "      <td>-0.513701</td>\n",
              "      <td>-0.423320</td>\n",
              "      <td>-0.857174</td>\n",
              "      <td>-0.211930</td>\n",
              "      <td>...</td>\n",
              "      <td>-0.843710</td>\n",
              "      <td>0.317660</td>\n",
              "      <td>-7.472901</td>\n",
              "      <td>6.817137</td>\n",
              "      <td>7.791368</td>\n",
              "      <td>1.148140</td>\n",
              "      <td>0.180354</td>\n",
              "      <td>0.099909</td>\n",
              "      <td>0.180431</td>\n",
              "      <td>-2.031322</td>\n",
              "      <td>2.580386</td>\n",
              "      <td>2.911129</td>\n",
              "      <td>-0.525396</td>\n",
              "      <td>2.364930</td>\n",
              "      <td>4.373453</td>\n",
              "      <td>0.943853</td>\n",
              "      <td>5.483634</td>\n",
              "      <td>-8.860805</td>\n",
              "      <td>-0.788189</td>\n",
              "      <td>-0.803958</td>\n",
              "      <td>0.072928</td>\n",
              "      <td>-4.090737</td>\n",
              "      <td>-0.135732</td>\n",
              "      <td>1.256883</td>\n",
              "      <td>3.512858</td>\n",
              "      <td>-3.243966</td>\n",
              "      <td>-2.248838</td>\n",
              "      <td>-0.942617</td>\n",
              "      <td>-1.099686</td>\n",
              "      <td>1.022373</td>\n",
              "      <td>-1.113295</td>\n",
              "      <td>0.090922</td>\n",
              "      <td>-2.134252</td>\n",
              "      <td>0.001636</td>\n",
              "      <td>0.592155</td>\n",
              "      <td>-2.128106</td>\n",
              "      <td>-1.531456</td>\n",
              "      <td>1.588661</td>\n",
              "      <td>-0.088552</td>\n",
              "      <td>0</td>\n",
              "    </tr>\n",
              "    <tr>\n",
              "      <th>4</th>\n",
              "      <td>-1.061267</td>\n",
              "      <td>-1.046116</td>\n",
              "      <td>-1.047895</td>\n",
              "      <td>-1.141464</td>\n",
              "      <td>-1.192787</td>\n",
              "      <td>-1.084721</td>\n",
              "      <td>-1.051286</td>\n",
              "      <td>-1.025664</td>\n",
              "      <td>-0.756708</td>\n",
              "      <td>-0.943720</td>\n",
              "      <td>-0.945527</td>\n",
              "      <td>-1.068194</td>\n",
              "      <td>-1.096007</td>\n",
              "      <td>0.119455</td>\n",
              "      <td>-0.213303</td>\n",
              "      <td>0</td>\n",
              "      <td>-1.231503</td>\n",
              "      <td>-0.139121</td>\n",
              "      <td>-1.202508</td>\n",
              "      <td>-1.248480</td>\n",
              "      <td>-1.203851</td>\n",
              "      <td>-1.148534</td>\n",
              "      <td>-1.154135</td>\n",
              "      <td>-1.228340</td>\n",
              "      <td>-1.099459</td>\n",
              "      <td>-1.101248</td>\n",
              "      <td>-1.166312</td>\n",
              "      <td>-0.978207</td>\n",
              "      <td>-0.910424</td>\n",
              "      <td>-1.071231</td>\n",
              "      <td>-1.028918</td>\n",
              "      <td>-1.012837</td>\n",
              "      <td>-1.044214</td>\n",
              "      <td>-1.087774</td>\n",
              "      <td>-1.071669</td>\n",
              "      <td>-1.149699</td>\n",
              "      <td>-1.202623</td>\n",
              "      <td>-1.012038</td>\n",
              "      <td>-1.244124</td>\n",
              "      <td>-0.746113</td>\n",
              "      <td>...</td>\n",
              "      <td>1.074993</td>\n",
              "      <td>0.681350</td>\n",
              "      <td>-7.845428</td>\n",
              "      <td>7.195527</td>\n",
              "      <td>5.108164</td>\n",
              "      <td>-1.294968</td>\n",
              "      <td>-0.149826</td>\n",
              "      <td>0.195747</td>\n",
              "      <td>-0.149806</td>\n",
              "      <td>2.372483</td>\n",
              "      <td>2.449237</td>\n",
              "      <td>2.737049</td>\n",
              "      <td>1.771080</td>\n",
              "      <td>2.641403</td>\n",
              "      <td>4.698569</td>\n",
              "      <td>3.269422</td>\n",
              "      <td>9.644247</td>\n",
              "      <td>-12.960254</td>\n",
              "      <td>0.166588</td>\n",
              "      <td>-1.734091</td>\n",
              "      <td>-1.029622</td>\n",
              "      <td>-4.754052</td>\n",
              "      <td>0.153771</td>\n",
              "      <td>1.797731</td>\n",
              "      <td>2.852095</td>\n",
              "      <td>-2.146795</td>\n",
              "      <td>-1.051663</td>\n",
              "      <td>0.139364</td>\n",
              "      <td>1.175844</td>\n",
              "      <td>1.139949</td>\n",
              "      <td>-1.253957</td>\n",
              "      <td>0.114008</td>\n",
              "      <td>-2.857171</td>\n",
              "      <td>-0.025092</td>\n",
              "      <td>0.299909</td>\n",
              "      <td>-2.874720</td>\n",
              "      <td>-2.562654</td>\n",
              "      <td>0.566947</td>\n",
              "      <td>-0.310929</td>\n",
              "      <td>0</td>\n",
              "    </tr>\n",
              "  </tbody>\n",
              "</table>\n",
              "<p>5 rows × 439 columns</p>\n",
              "</div>"
            ],
            "text/plain": [
              "          1         2         3         4  ...       436       437       438  439\n",
              "0 -0.654767 -0.700667 -0.648094 -0.785926  ... -2.803898  0.474972 -0.362934    0\n",
              "1 -1.056926 -1.036600 -1.042843 -1.140621  ... -2.841741  0.390646 -0.228706    0\n",
              "2 -0.485537 -0.424480 -0.425817 -0.487376  ... -2.168758  0.889214 -0.225851    0\n",
              "3 -0.399518 -0.338218 -0.402695 -0.397027  ... -1.531456  1.588661 -0.088552    0\n",
              "4 -1.061267 -1.046116 -1.047895 -1.141464  ... -2.562654  0.566947 -0.310929    0\n",
              "\n",
              "[5 rows x 439 columns]"
            ]
          },
          "metadata": {
            "tags": []
          },
          "execution_count": 65
        }
      ]
    },
    {
      "cell_type": "code",
      "metadata": {
        "id": "o7OKDin4-bFc",
        "colab": {
          "base_uri": "https://localhost:8080/"
        },
        "outputId": "6f252be7-0918-49e9-964f-3d356854e2f3"
      },
      "source": [
        "from google.colab import drive\n",
        "drive.mount('/content/drive')"
      ],
      "execution_count": 66,
      "outputs": [
        {
          "output_type": "stream",
          "text": [
            "Drive already mounted at /content/drive; to attempt to forcibly remount, call drive.mount(\"/content/drive\", force_remount=True).\n"
          ],
          "name": "stdout"
        }
      ]
    },
    {
      "cell_type": "code",
      "metadata": {
        "id": "PfhQD8ws6tZF"
      },
      "source": [
        "import timeit\n",
        "import datetime as dt\n",
        "import numpy as np\n",
        "import pandas as pd\n",
        "import seaborn as sns\n",
        "import matplotlib.pyplot as plt\n",
        "from scipy import stats\n",
        "from scipy import optimize\n",
        "from sklearn import metrics\n",
        "from sklearn import preprocessing\n",
        "from sklearn import svm\n",
        "from sklearn.ensemble import RandomForestClassifier\n",
        "from sklearn.ensemble import VotingClassifier\n",
        "from sklearn.model_selection import RandomizedSearchCV\n",
        "from sklearn.model_selection import StratifiedShuffleSplit\n",
        "from sklearn.model_selection import cross_val_score\n",
        "from sklearn.calibration import CalibratedClassifierCV, calibration_curve\n",
        "from sklearn.utils import class_weight"
      ],
      "execution_count": 67,
      "outputs": []
    },
    {
      "cell_type": "code",
      "metadata": {
        "id": "lGjec-TI6uo2"
      },
      "source": [
        " #TensorFlow 2 -> Keras\n",
        "from tensorflow import keras"
      ],
      "execution_count": 68,
      "outputs": []
    },
    {
      "cell_type": "code",
      "metadata": {
        "id": "GJbtkFm26zm3",
        "colab": {
          "base_uri": "https://localhost:8080/"
        },
        "outputId": "27af4b74-e453-4e1d-9d73-f119159e96fa"
      },
      "source": [
        "try:\n",
        "    # Using experimental HalvingRandomSearchCV for hyperparameters optimization\n",
        "    from sklearn.experimental import enable_halving_search_cv # noqa\n",
        "    from sklearn.model_selection import HalvingRandomSearchCV\n",
        "except ImportError:\n",
        "    print('HalvingRandomSearchCV not found. Update scikit-learn to 0.24.')"
      ],
      "execution_count": 69,
      "outputs": [
        {
          "output_type": "stream",
          "text": [
            "HalvingRandomSearchCV not found. Update scikit-learn to 0.24.\n"
          ],
          "name": "stdout"
        }
      ]
    },
    {
      "cell_type": "code",
      "metadata": {
        "id": "5B-TFD6D6726",
        "colab": {
          "base_uri": "https://localhost:8080/"
        },
        "outputId": "b95dd0d0-4b0b-477b-cf1d-c18f71ebd4b4"
      },
      "source": [
        "pip install scikit-learn==0.24.2"
      ],
      "execution_count": 70,
      "outputs": [
        {
          "output_type": "stream",
          "text": [
            "Requirement already satisfied: scikit-learn==0.24.2 in /usr/local/lib/python3.7/dist-packages (0.24.2)\n",
            "Requirement already satisfied: numpy>=1.13.3 in /usr/local/lib/python3.7/dist-packages (from scikit-learn==0.24.2) (1.19.5)\n",
            "Requirement already satisfied: scipy>=0.19.1 in /usr/local/lib/python3.7/dist-packages (from scikit-learn==0.24.2) (1.4.1)\n",
            "Requirement already satisfied: threadpoolctl>=2.0.0 in /usr/local/lib/python3.7/dist-packages (from scikit-learn==0.24.2) (2.2.0)\n",
            "Requirement already satisfied: joblib>=0.11 in /usr/local/lib/python3.7/dist-packages (from scikit-learn==0.24.2) (1.0.1)\n"
          ],
          "name": "stdout"
        }
      ]
    },
    {
      "cell_type": "code",
      "metadata": {
        "id": "fc6htFgI61wn"
      },
      "source": [
        "#rom bayes_optim.bayesian_optimization import BayesianOptimization\n",
        "import warnings\n",
        "warnings.filterwarnings(action='ignore', category=FutureWarning)\n",
        "# Inline figures\n",
        "%matplotlib inline"
      ],
      "execution_count": 71,
      "outputs": []
    },
    {
      "cell_type": "code",
      "metadata": {
        "id": "KbQI52SY8Zc9"
      },
      "source": [
        "# Figure aesthetics from Seaborn\n",
        "sns.set(context='paper', style='white', font_scale=1.2)\n",
        "sns.set_style('ticks', {'xtick.direction':'in', 'ytick.direction':'in'})"
      ],
      "execution_count": 72,
      "outputs": []
    },
    {
      "cell_type": "code",
      "metadata": {
        "id": "yR1f7smS8aM6"
      },
      "source": [
        "# An ancilary function for showing the confusion matrix, taken from:\n",
        "# https://github.com/amueller/introduction_to_ml_with_python/blob/master/mglearn/tools.py\n",
        "def heatmap(values, xlabel, ylabel, xticklabels, yticklabels, cmap=None,\n",
        "            vmin=None, vmax=None, ax=None, fmt=\"%0.2f\", fontsize=14):\n",
        "    if ax is None:\n",
        "        ax = plt.gca()\n",
        "    # plot the mean cross-validation scores\n",
        "    img = ax.pcolor(values, cmap=cmap, vmin=vmin, vmax=vmax)\n",
        "    img.update_scalarmappable()\n",
        "    ax.set_xlabel(xlabel)\n",
        "    ax.set_ylabel(ylabel)\n",
        "    ax.set_xticks(np.arange(len(xticklabels)) + .5)\n",
        "    ax.set_yticks(np.arange(len(yticklabels)) + .5)\n",
        "    ax.set_xticklabels(xticklabels)\n",
        "    ax.set_yticklabels(yticklabels)\n",
        "    ax.set_aspect(1)\n",
        "\n",
        "    for p, color, value in zip(img.get_paths(), img.get_facecolors(),\n",
        "                               img.get_array()):\n",
        "        x, y = p.vertices[:-2, :].mean(0)\n",
        "        if np.mean(color[:3]) > 0.5:\n",
        "            c = 'k'\n",
        "        else:\n",
        "            c = 'w'\n",
        "        ax.text(x, y, fmt % value, color=c, ha=\"center\", va=\"center\", fontsize=fontsize)\n",
        "    return img"
      ],
      "execution_count": 73,
      "outputs": []
    },
    {
      "cell_type": "code",
      "metadata": {
        "id": "vzF6j_2y8cnv"
      },
      "source": [
        "def matthews_score(y_true, y_pred):\n",
        "    \"\"\"\" Matthews correlation coeficient \n",
        "\n",
        "    Matthews coefficient ranges between -1 and +1. A coefficient of +1 \n",
        "    represents a perfect prediction, 0 no better than random guessing \n",
        "    and -1 indicates a total disagreement between prediction and observation.\n",
        "\n",
        "    Arguments\n",
        "    ---------\n",
        "    y_true: array-like of shape (n_samples,)\n",
        "        Ground truth (correct) target values.\n",
        "    y_pred: array-like of shape (n_samples,)\n",
        "        Estimated targets as returned by a classifier.\n",
        "\n",
        "    Returns\n",
        "    -------\n",
        "    matthews: float\n",
        "        Matthews correlation coefficient between -1 and +1.\n",
        "    \"\"\"\n",
        "    # Confusion matrix\n",
        "    C_mat = metrics.confusion_matrix(y_true, y_pred)\n",
        "    tn = C_mat[0,0]  # true negatives\n",
        "    fn = C_mat[1,0]  # false negatives\n",
        "    tp = C_mat[1,1]  # true positives\n",
        "    fp = C_mat[0,1]  # false positives\n",
        "    # Matthews coefficient\n",
        "    matthews = (tp*tn - fp*fn) / np.sqrt((tp + fp)*(tp + fn)*(tn + fp)*(tn + fn))\n",
        "    return matthews"
      ],
      "execution_count": 74,
      "outputs": []
    },
    {
      "cell_type": "code",
      "metadata": {
        "id": "t-YF0Ref8e6H"
      },
      "source": [
        "def brier_score(y_labels, y_probas):\n",
        "    \"\"\" Briers score for binary classification.\n",
        "\n",
        "    Arguments\n",
        "    ---------\n",
        "    y_labels: array-like\n",
        "        Array with actual class labels (zeros and ones).\n",
        "    y_probas: array-like\n",
        "        Array with probabilities of positive class (of class one).\n",
        "    Returns\n",
        "    -------\n",
        "    BS: float\n",
        "        Briers score value.\n",
        "    \"\"\"\n",
        "    n_samples = len(y_labels)\n",
        "    BS = np.sum((y_labels - y_probas)**2)/float(n_samples)\n",
        "    return BS"
      ],
      "execution_count": 75,
      "outputs": []
    },
    {
      "cell_type": "code",
      "metadata": {
        "id": "ZfZIbShB5on-",
        "colab": {
          "base_uri": "https://localhost:8080/"
        },
        "outputId": "f3f493d4-5d98-4c8a-c644-26bba91a8994"
      },
      "source": [
        "data.shape\n",
        "# Percentage of \"ones\" in the \"Stability\" column\n",
        "print('There is {:.1f}% of unstable cases in the dataset!'\n",
        "      .format(data['439'].sum()/float(len(data['439']))*100.))"
      ],
      "execution_count": 76,
      "outputs": [
        {
          "output_type": "stream",
          "text": [
            "There is 10.6% of stable cases in the dataset!\n"
          ],
          "name": "stdout"
        }
      ]
    },
    {
      "cell_type": "code",
      "metadata": {
        "id": "0lA5juzG6Ytn",
        "colab": {
          "base_uri": "https://localhost:8080/"
        },
        "outputId": "d257fb21-e435-45f0-fbb6-d70ed2e22333"
      },
      "source": [
        "# Features and target\n",
        "no_features = len(data.columns) - 1\n",
        "X_data = data.iloc[:,0:no_features]  # features\n",
        "print('X_data', X_data.shape)\n",
        "y_data = data['439']"
      ],
      "execution_count": 77,
      "outputs": [
        {
          "output_type": "stream",
          "text": [
            "X_data (12000, 438)\n"
          ],
          "name": "stdout"
        }
      ]
    },
    {
      "cell_type": "code",
      "metadata": {
        "id": "ffhnjNqk6eGs"
      },
      "source": [
        "# Stratified Shuffle Split dataset into train and test sets 分层Shuffle将数据集划分为训练集和测试集\n",
        "# (stratified shuffle split preserves unbalance between categories,分层洗牌分裂保持了类别之间的不平衡\n",
        "# while shuffling and splitting data into train and test sets). 同时将数据变换和拆分为训练集和测试集\n",
        "splitter = StratifiedShuffleSplit(n_splits=1, train_size=0.8, random_state=365)\n",
        "for train_idx, test_idx in splitter.split(X_data, y_data):\n",
        "    X_train = X_data.loc[train_idx]\n",
        "    y_train = y_data.loc[train_idx]\n",
        "    X_test = X_data.loc[test_idx]\n",
        "    y_test = y_data.loc[test_idx]"
      ],
      "execution_count": 78,
      "outputs": []
    },
    {
      "cell_type": "code",
      "metadata": {
        "id": "oK5-2Q9K6sKk"
      },
      "source": [
        "# Standardize the input data\n",
        "scaler = preprocessing.StandardScaler()\n",
        "X_train = scaler.fit_transform(X_train)\n",
        "X_test = scaler.transform(X_test)"
      ],
      "execution_count": 79,
      "outputs": []
    },
    {
      "cell_type": "code",
      "metadata": {
        "id": "Gndp87lp8xWV"
      },
      "source": [
        "# Reserving a portion of the training set for validation\n",
        "# (using the Stratified Shuffle Split). This is only needed\n",
        "# for training autoencoder and a neural network classifier.\n",
        "splitter = StratifiedShuffleSplit(n_splits=1, train_size=0.9, random_state=365)\n",
        "for train_idx, test_idx in splitter.split(X_train, y_train.values):\n",
        "    X_train_part = X_train[train_idx]\n",
        "    y_train_part = y_train.values[train_idx]\n",
        "    X_validation = X_train[test_idx]\n",
        "    y_validation = y_train.values[test_idx]"
      ],
      "execution_count": 80,
      "outputs": []
    },
    {
      "cell_type": "code",
      "metadata": {
        "id": "6wr9R6qs80xZ",
        "colab": {
          "base_uri": "https://localhost:8080/"
        },
        "outputId": "0a8eec69-10d8-43a9-dcd1-36369624b086"
      },
      "source": [
        "print('X_train_part', X_train_part.shape)\n",
        "print('X_validation', X_validation.shape)"
      ],
      "execution_count": 81,
      "outputs": [
        {
          "output_type": "stream",
          "text": [
            "X_train_part (8640, 438)\n",
            "X_validation (960, 438)\n"
          ],
          "name": "stdout"
        }
      ]
    },
    {
      "cell_type": "code",
      "metadata": {
        "id": "u14HvlO182k0"
      },
      "source": [
        "# Codings dimension\n",
        "DIMENSION = 16"
      ],
      "execution_count": 82,
      "outputs": []
    },
    {
      "cell_type": "code",
      "metadata": {
        "id": "8eK-0hAo85Ff",
        "colab": {
          "base_uri": "https://localhost:8080/"
        },
        "outputId": "39ac2689-4628-4e12-8fd2-cbcaf0d0b492"
      },
      "source": [
        "L2 = 0.001  # regularization strength (L2 penalty)\n",
        "# Reducing \"no_features\" to low dimensional space with autoencoder\n",
        "input_layer = keras.layers.Input(shape=(no_features,))\n",
        "# Denoising layer (GaussianNoise or Dropout)\n",
        "denoise = keras.layers.Dropout(rate=0.25)(input_layer)\n",
        "#denoise = keras.layers.GaussianNoise(stdev=0.25)(input_layer)  # alter.\n",
        "# \"encoded\" is the encoded representation of the input\n",
        "x = keras.layers.Dense(256, activation='relu', \n",
        "                       kernel_initializer='glorot_normal',\n",
        "                       kernel_regularizer=keras.regularizers.l2(L2))(denoise)\n",
        "x = keras.layers.Dense(128, activation='relu', \n",
        "                       kernel_initializer='glorot_normal',\n",
        "                       kernel_regularizer=keras.regularizers.l2(L2))(x)\n",
        "x = keras.layers.Dense(64, activation='relu', \n",
        "                       kernel_initializer='glorot_normal',\n",
        "                       kernel_regularizer=keras.regularizers.l2(L2))(x)\n",
        "encoded = keras.layers.Dense(DIMENSION, activation='relu',  # encoder dimension\n",
        "                             kernel_initializer='glorot_normal',\n",
        "                             kernel_regularizer=keras.regularizers.l2(L2))(x)\n",
        "# \"decoded\" is the lossy reconstruction of the input\n",
        "x = keras.layers.Dense(64, activation='relu', \n",
        "                       kernel_initializer='glorot_normal',\n",
        "                       kernel_regularizer=keras.regularizers.l2(L2))(encoded)\n",
        "x = keras.layers.Dense(128, activation='relu', \n",
        "                       kernel_initializer='glorot_normal',\n",
        "                       kernel_regularizer=keras.regularizers.l2(L2))(x)\n",
        "x = keras.layers.Dense(256, activation='relu', \n",
        "                       kernel_initializer='glorot_normal',\n",
        "                       kernel_regularizer=keras.regularizers.l2(L2))(x)\n",
        "decoded = keras.layers.Dense(no_features, activation='linear', \n",
        "                             kernel_initializer='glorot_normal',\n",
        "                             kernel_regularizer=keras.regularizers.l2(L2))(x)\n",
        "# Autoencoder\n",
        "autoencoder = keras.models.Model(input_layer, decoded)\n",
        "# Encoder\n",
        "encoder = keras.models.Model(input_layer, encoded)\n",
        "# Compile the model\n",
        "lr_schedule = keras.optimizers.schedules.ExponentialDecay(\n",
        "        initial_learning_rate=1e-3,\n",
        "        decay_steps=500, decay_rate=0.96, staircase=False)\n",
        "adam_schedule = keras.optimizers.Adam(learning_rate=lr_schedule)\n",
        "autoencoder.compile(optimizer=adam_schedule, loss='kullback_leibler_divergence')\n",
        "# Early stopping criteria\n",
        "early_stopping = keras.callbacks.EarlyStopping(monitor='val_loss', min_delta=0.1, \n",
        "                                               patience=10, verbose=1)\n",
        "# Train the autoencoder on the training data\n",
        "history = autoencoder.fit(X_train_part, X_train_part, epochs=100, batch_size=32, \n",
        "                          shuffle=True, validation_data=(X_validation, X_validation), \n",
        "                          callbacks=[early_stopping], verbose=1)"
      ],
      "execution_count": 83,
      "outputs": [
        {
          "output_type": "stream",
          "text": [
            "Epoch 1/100\n",
            "270/270 [==============================] - 3s 9ms/step - loss: 204.3992 - val_loss: 115.9879\n",
            "Epoch 2/100\n",
            "270/270 [==============================] - 2s 8ms/step - loss: 87.8414 - val_loss: 72.8416\n",
            "Epoch 3/100\n",
            "270/270 [==============================] - 2s 8ms/step - loss: 73.3785 - val_loss: 72.8178\n",
            "Epoch 4/100\n",
            "270/270 [==============================] - 2s 8ms/step - loss: 73.3558 - val_loss: 72.7960\n",
            "Epoch 5/100\n",
            "270/270 [==============================] - 2s 7ms/step - loss: 73.3345 - val_loss: 72.7752\n",
            "Epoch 6/100\n",
            "270/270 [==============================] - 2s 7ms/step - loss: 73.3141 - val_loss: 72.7552\n",
            "Epoch 7/100\n",
            "270/270 [==============================] - 2s 8ms/step - loss: 73.2942 - val_loss: 72.7354\n",
            "Epoch 8/100\n",
            "270/270 [==============================] - 2s 8ms/step - loss: 73.2743 - val_loss: 72.7158\n",
            "Epoch 9/100\n",
            "270/270 [==============================] - 2s 8ms/step - loss: 73.2547 - val_loss: 72.6961\n",
            "Epoch 10/100\n",
            "270/270 [==============================] - 2s 8ms/step - loss: 73.2350 - val_loss: 72.6763\n",
            "Epoch 11/100\n",
            "270/270 [==============================] - 2s 8ms/step - loss: 73.2156 - val_loss: 72.6565\n",
            "Epoch 12/100\n",
            "270/270 [==============================] - 2s 8ms/step - loss: 73.1951 - val_loss: 72.6367\n",
            "Epoch 13/100\n",
            "270/270 [==============================] - 2s 8ms/step - loss: 73.1747 - val_loss: 72.6166\n",
            "Epoch 14/100\n",
            "270/270 [==============================] - 2s 8ms/step - loss: 73.1552 - val_loss: 72.5954\n",
            "Epoch 15/100\n",
            "270/270 [==============================] - 2s 8ms/step - loss: 73.1332 - val_loss: 72.5757\n",
            "Epoch 16/100\n",
            "270/270 [==============================] - 2s 8ms/step - loss: 73.1118 - val_loss: 72.5544\n",
            "Epoch 17/100\n",
            "270/270 [==============================] - 2s 8ms/step - loss: 73.0902 - val_loss: 72.5305\n",
            "Epoch 18/100\n",
            "270/270 [==============================] - 2s 8ms/step - loss: 73.0685 - val_loss: 72.5087\n",
            "Epoch 19/100\n",
            "270/270 [==============================] - 2s 8ms/step - loss: 73.0455 - val_loss: 72.4865\n",
            "Epoch 20/100\n",
            "270/270 [==============================] - 2s 8ms/step - loss: 73.0224 - val_loss: 72.4635\n",
            "Epoch 21/100\n",
            "270/270 [==============================] - 2s 8ms/step - loss: 72.9526 - val_loss: 66.8235\n",
            "Epoch 22/100\n",
            "270/270 [==============================] - 2s 8ms/step - loss: 62.8029 - val_loss: 61.1827\n",
            "Epoch 23/100\n",
            "270/270 [==============================] - 2s 8ms/step - loss: 61.7306 - val_loss: 61.1600\n",
            "Epoch 24/100\n",
            "270/270 [==============================] - 2s 8ms/step - loss: 61.7065 - val_loss: 61.1346\n",
            "Epoch 25/100\n",
            "270/270 [==============================] - 2s 8ms/step - loss: 61.6824 - val_loss: 61.1104\n",
            "Epoch 26/100\n",
            "270/270 [==============================] - 2s 8ms/step - loss: 61.6579 - val_loss: 61.0879\n",
            "Epoch 27/100\n",
            "270/270 [==============================] - 2s 8ms/step - loss: 61.6336 - val_loss: 61.0612\n",
            "Epoch 28/100\n",
            "270/270 [==============================] - 2s 8ms/step - loss: 61.6101 - val_loss: 61.0373\n",
            "Epoch 29/100\n",
            "270/270 [==============================] - 2s 8ms/step - loss: 61.5862 - val_loss: 61.0149\n",
            "Epoch 30/100\n",
            "270/270 [==============================] - 2s 8ms/step - loss: 61.5632 - val_loss: 60.9910\n",
            "Epoch 31/100\n",
            "270/270 [==============================] - 2s 8ms/step - loss: 61.5402 - val_loss: 60.9678\n",
            "Epoch 32/100\n",
            "270/270 [==============================] - 2s 8ms/step - loss: 61.5181 - val_loss: 60.9463\n",
            "Epoch 33/100\n",
            "270/270 [==============================] - 2s 8ms/step - loss: 61.4966 - val_loss: 60.9257\n",
            "Epoch 34/100\n",
            "270/270 [==============================] - 2s 8ms/step - loss: 61.4757 - val_loss: 60.9056\n",
            "Epoch 35/100\n",
            "270/270 [==============================] - 2s 8ms/step - loss: 61.4557 - val_loss: 60.8848\n",
            "Epoch 36/100\n",
            "270/270 [==============================] - 2s 8ms/step - loss: 61.4368 - val_loss: 60.8667\n",
            "Epoch 37/100\n",
            "270/270 [==============================] - 2s 8ms/step - loss: 61.4188 - val_loss: 60.8497\n",
            "Epoch 38/100\n",
            "270/270 [==============================] - 2s 8ms/step - loss: 61.4014 - val_loss: 60.8342\n",
            "Epoch 39/100\n",
            "270/270 [==============================] - 2s 8ms/step - loss: 61.3853 - val_loss: 60.8163\n",
            "Epoch 40/100\n",
            "270/270 [==============================] - 2s 8ms/step - loss: 61.3699 - val_loss: 60.8018\n",
            "Epoch 41/100\n",
            "270/270 [==============================] - 2s 8ms/step - loss: 61.3558 - val_loss: 60.7878\n",
            "Epoch 42/100\n",
            "270/270 [==============================] - 2s 8ms/step - loss: 61.3425 - val_loss: 60.7752\n",
            "Epoch 43/100\n",
            "270/270 [==============================] - 2s 8ms/step - loss: 61.3306 - val_loss: 60.7649\n",
            "Epoch 44/100\n",
            "270/270 [==============================] - 2s 8ms/step - loss: 61.3198 - val_loss: 60.7531\n",
            "Epoch 45/100\n",
            "270/270 [==============================] - 2s 8ms/step - loss: 61.3082 - val_loss: 60.7410\n",
            "Epoch 46/100\n",
            "270/270 [==============================] - 2s 8ms/step - loss: 61.2977 - val_loss: 60.7314\n",
            "Epoch 47/100\n",
            "270/270 [==============================] - 2s 8ms/step - loss: 61.2874 - val_loss: 60.7212\n",
            "Epoch 48/100\n",
            "270/270 [==============================] - 2s 8ms/step - loss: 61.2782 - val_loss: 60.7125\n",
            "Epoch 49/100\n",
            "270/270 [==============================] - 2s 8ms/step - loss: 61.2707 - val_loss: 60.7058\n",
            "Epoch 50/100\n",
            "270/270 [==============================] - 2s 8ms/step - loss: 61.2634 - val_loss: 60.6988\n",
            "Epoch 51/100\n",
            "270/270 [==============================] - 2s 8ms/step - loss: 61.2567 - val_loss: 60.6924\n",
            "Epoch 52/100\n",
            "270/270 [==============================] - 2s 8ms/step - loss: 61.2500 - val_loss: 60.6856\n",
            "Epoch 53/100\n",
            "270/270 [==============================] - 2s 8ms/step - loss: 61.2437 - val_loss: 60.6796\n",
            "Epoch 54/100\n",
            "270/270 [==============================] - 2s 8ms/step - loss: 61.2392 - val_loss: 60.6753\n",
            "Epoch 55/100\n",
            "270/270 [==============================] - 2s 8ms/step - loss: 61.2343 - val_loss: 60.6715\n",
            "Epoch 56/100\n",
            "270/270 [==============================] - 2s 8ms/step - loss: 61.2305 - val_loss: 60.6668\n",
            "Epoch 00056: early stopping\n"
          ],
          "name": "stdout"
        }
      ]
    },
    {
      "cell_type": "code",
      "metadata": {
        "id": "g8UxlUvn9JRB",
        "colab": {
          "base_uri": "https://localhost:8080/",
          "height": 279
        },
        "outputId": "23bbcb15-681a-457b-8063-c160a9f1cf71"
      },
      "source": [
        "plt.plot(history.history['loss'], label='loss')\n",
        "plt.plot(history.history['val_loss'], label='val_loss')\n",
        "plt.legend()\n",
        "plt.grid(axis='y')\n",
        "plt.xlabel('Epochs')\n",
        "plt.ylabel('Loss value')\n",
        "plt.show()"
      ],
      "execution_count": 84,
      "outputs": [
        {
          "output_type": "display_data",
          "data": {
            "image/png": "[encoded data removed]",
            "text/plain": [
              "<Figure size 432x288 with 1 Axes>"
            ]
          },
          "metadata": {
            "tags": []
          }
        }
      ]
    },
    {
      "cell_type": "code",
      "metadata": {
        "id": "JrsaiSXO9Ugg",
        "colab": {
          "base_uri": "https://localhost:8080/"
        },
        "outputId": "fc3c15a9-d18c-43d2-cb25-528e9feb8279"
      },
      "source": [
        "# Encoding training data (with Monte Carlo sampling and averaging)\n",
        "X_train_encoded = np.stack([encoder(X_train, training=True) for sample in range(100)]).mean(axis=0)\n",
        "print(X_train_encoded.shape)\n",
        "# Encoding testing data\n",
        "X_test_encoded = np.stack([encoder(X_test, training=True) for sample in range(100)]).mean(axis=0)\n",
        "print(X_test_encoded.shape)"
      ],
      "execution_count": 107,
      "outputs": [
        {
          "output_type": "stream",
          "text": [
            "(9600, 16)\n",
            "(2400, 16)\n"
          ],
          "name": "stdout"
        }
      ]
    },
    {
      "cell_type": "code",
      "metadata": {
        "id": "Ltf089a49Xjx",
        "colab": {
          "base_uri": "https://localhost:8080/"
        },
        "outputId": "907b011e-ed1a-49e7-ffa8-a62a497e93b0"
      },
      "source": [
        "# Computing weights for the class balancing of the DNN classifier\n",
        "class_weights = class_weight.compute_class_weight('balanced', np.unique(y_train), y_train)\n",
        "class_weights_dict = dict(zip(np.unique(y_train), class_weights))\n",
        "print(class_weights_dict)"
      ],
      "execution_count": 86,
      "outputs": [
        {
          "output_type": "stream",
          "text": [
            "{0: 0.5593753641766693, 1: 4.710500490677134}\n"
          ],
          "name": "stdout"
        }
      ]
    },
    {
      "cell_type": "code",
      "metadata": {
        "id": "3UoQblOb9b6q",
        "colab": {
          "base_uri": "https://localhost:8080/"
        },
        "outputId": "1ba80265-7b04-4a2c-f471-18e5fb3a74c9"
      },
      "source": [
        "# Clone the encoder model\n",
        "model_clone = keras.models.clone_model(encoder)\n",
        "model_clone.set_weights(encoder.get_weights())\n",
        "# Transfer learning from encoder to classifier\n",
        "classifier_model = keras.models.Sequential(model_clone.layers[:-1])  # exclude last encoder layer\n",
        "# Stack additional layers\n",
        "classifier_model.add(keras.layers.Dense(128, activation='relu',\n",
        "                                        kernel_initializer='glorot_normal',\n",
        "                                        kernel_regularizer=keras.regularizers.l2(L2)))\n",
        "classifier_model.add(keras.layers.Dropout(0.2))\n",
        "classifier_model.add(keras.layers.Dense(64, activation='relu',\n",
        "                                        kernel_initializer='glorot_normal',\n",
        "                                        kernel_regularizer=keras.regularizers.l2(L2)))\n",
        "classifier_model.add(keras.layers.Dropout(0.1))\n",
        "classifier_model.add(keras.layers.Dense(1, activation='sigmoid'))\n",
        "# Freezing layers (except newly added ones)\n",
        "for layer in classifier_model.layers[:-5]:\n",
        "    layer.trainable = False\n",
        "EPOCHS = 200\n",
        "BATCH_SIZE = 32\n",
        "lr_schedule = keras.optimizers.schedules.ExponentialDecay(\n",
        "        initial_learning_rate=1e-3,\n",
        "        decay_steps=200, decay_rate=0.96, staircase=False)\n",
        "adam_schedule = keras.optimizers.Adam(learning_rate=lr_schedule)\n",
        "classifier_model.compile(optimizer=adam_schedule, loss='binary_crossentropy', metrics=['AUC'])\n",
        "early_stopping = keras.callbacks.EarlyStopping(monitor='val_loss', min_delta=0.01, \n",
        "        patience=25, verbose=1, restore_best_weights=True)\n",
        "# Train the classifier (first pass)\n",
        "classification_history = classifier_model.fit(X_train_part, y_train_part, \n",
        "        epochs=EPOCHS, batch_size=BATCH_SIZE, \n",
        "        shuffle=True, validation_data=(X_validation, y_validation),\n",
        "        class_weight=class_weights_dict, callbacks=[early_stopping], verbose=1)"
      ],
      "execution_count": 87,
      "outputs": [
        {
          "output_type": "stream",
          "text": [
            "Epoch 1/200\n",
            "270/270 [==============================] - 2s 4ms/step - loss: 0.7929 - auc: 0.4968 - val_loss: 0.7080 - val_auc: 0.8011\n",
            "Epoch 2/200\n",
            "270/270 [==============================] - 1s 3ms/step - loss: 0.7477 - auc: 0.5194 - val_loss: 0.8297 - val_auc: 0.7559\n",
            "Epoch 3/200\n",
            "270/270 [==============================] - 1s 3ms/step - loss: 0.7327 - auc: 0.5440 - val_loss: 0.8250 - val_auc: 0.7450\n",
            "Epoch 4/200\n",
            "270/270 [==============================] - 1s 3ms/step - loss: 0.7250 - auc: 0.5673 - val_loss: 0.8419 - val_auc: 0.7649\n",
            "Epoch 5/200\n",
            "270/270 [==============================] - 1s 3ms/step - loss: 0.7145 - auc: 0.6071 - val_loss: 0.7099 - val_auc: 0.8201\n",
            "Epoch 6/200\n",
            "270/270 [==============================] - 1s 3ms/step - loss: 0.7019 - auc: 0.6493 - val_loss: 0.7222 - val_auc: 0.8327\n",
            "Epoch 7/200\n",
            "270/270 [==============================] - 1s 3ms/step - loss: 0.6885 - auc: 0.6701 - val_loss: 0.7272 - val_auc: 0.8388\n",
            "Epoch 8/200\n",
            "270/270 [==============================] - 1s 3ms/step - loss: 0.6588 - auc: 0.7404 - val_loss: 0.5584 - val_auc: 0.8553\n",
            "Epoch 9/200\n",
            "270/270 [==============================] - 1s 3ms/step - loss: 0.6375 - auc: 0.7590 - val_loss: 0.6697 - val_auc: 0.8575\n",
            "Epoch 10/200\n",
            "270/270 [==============================] - 1s 3ms/step - loss: 0.6196 - auc: 0.7814 - val_loss: 0.6540 - val_auc: 0.8613\n",
            "Epoch 11/200\n",
            "270/270 [==============================] - 1s 3ms/step - loss: 0.6065 - auc: 0.7945 - val_loss: 0.5169 - val_auc: 0.8669\n",
            "Epoch 12/200\n",
            "270/270 [==============================] - 1s 3ms/step - loss: 0.5954 - auc: 0.8071 - val_loss: 0.5389 - val_auc: 0.8700\n",
            "Epoch 13/200\n",
            "270/270 [==============================] - 1s 3ms/step - loss: 0.5866 - auc: 0.8155 - val_loss: 0.4806 - val_auc: 0.8732\n",
            "Epoch 14/200\n",
            "270/270 [==============================] - 1s 3ms/step - loss: 0.5833 - auc: 0.8170 - val_loss: 0.4762 - val_auc: 0.8758\n",
            "Epoch 15/200\n",
            "270/270 [==============================] - 1s 3ms/step - loss: 0.5638 - auc: 0.8338 - val_loss: 0.6483 - val_auc: 0.8756\n",
            "Epoch 16/200\n",
            "270/270 [==============================] - 1s 3ms/step - loss: 0.5688 - auc: 0.8285 - val_loss: 0.5665 - val_auc: 0.8794\n",
            "Epoch 17/200\n",
            "270/270 [==============================] - 1s 3ms/step - loss: 0.5599 - auc: 0.8364 - val_loss: 0.5723 - val_auc: 0.8810\n",
            "Epoch 18/200\n",
            "270/270 [==============================] - 1s 3ms/step - loss: 0.5630 - auc: 0.8321 - val_loss: 0.5546 - val_auc: 0.8831\n",
            "Epoch 19/200\n",
            "270/270 [==============================] - 1s 3ms/step - loss: 0.5608 - auc: 0.8333 - val_loss: 0.4527 - val_auc: 0.8861\n",
            "Epoch 20/200\n",
            "270/270 [==============================] - 1s 3ms/step - loss: 0.5522 - auc: 0.8415 - val_loss: 0.5378 - val_auc: 0.8858\n",
            "Epoch 21/200\n",
            "270/270 [==============================] - 1s 3ms/step - loss: 0.5450 - auc: 0.8464 - val_loss: 0.4968 - val_auc: 0.8882\n",
            "Epoch 22/200\n",
            "270/270 [==============================] - 1s 3ms/step - loss: 0.5485 - auc: 0.8435 - val_loss: 0.4628 - val_auc: 0.8899\n",
            "Epoch 23/200\n",
            "270/270 [==============================] - 1s 3ms/step - loss: 0.5451 - auc: 0.8462 - val_loss: 0.6049 - val_auc: 0.8887\n",
            "Epoch 24/200\n",
            "270/270 [==============================] - 1s 3ms/step - loss: 0.5411 - auc: 0.8493 - val_loss: 0.4400 - val_auc: 0.8924\n",
            "Epoch 25/200\n",
            "270/270 [==============================] - 1s 3ms/step - loss: 0.5421 - auc: 0.8487 - val_loss: 0.5366 - val_auc: 0.8922\n",
            "Epoch 26/200\n",
            "270/270 [==============================] - 1s 3ms/step - loss: 0.5417 - auc: 0.8485 - val_loss: 0.4365 - val_auc: 0.8942\n",
            "Epoch 27/200\n",
            "270/270 [==============================] - 1s 3ms/step - loss: 0.5337 - auc: 0.8544 - val_loss: 0.4775 - val_auc: 0.8942\n",
            "Epoch 28/200\n",
            "270/270 [==============================] - 1s 3ms/step - loss: 0.5326 - auc: 0.8548 - val_loss: 0.4354 - val_auc: 0.8959\n",
            "Epoch 29/200\n",
            "270/270 [==============================] - 1s 3ms/step - loss: 0.5314 - auc: 0.8557 - val_loss: 0.6254 - val_auc: 0.8951\n",
            "Epoch 30/200\n",
            "270/270 [==============================] - 1s 3ms/step - loss: 0.5300 - auc: 0.8566 - val_loss: 0.4704 - val_auc: 0.8970\n",
            "Epoch 31/200\n",
            "270/270 [==============================] - 1s 3ms/step - loss: 0.5329 - auc: 0.8541 - val_loss: 0.4811 - val_auc: 0.8979\n",
            "Epoch 32/200\n",
            "270/270 [==============================] - 1s 3ms/step - loss: 0.5320 - auc: 0.8556 - val_loss: 0.4987 - val_auc: 0.8982\n",
            "Epoch 33/200\n",
            "270/270 [==============================] - 1s 3ms/step - loss: 0.5240 - auc: 0.8609 - val_loss: 0.4628 - val_auc: 0.8990\n",
            "Epoch 34/200\n",
            "270/270 [==============================] - 1s 3ms/step - loss: 0.5220 - auc: 0.8628 - val_loss: 0.4924 - val_auc: 0.8993\n",
            "Epoch 35/200\n",
            "270/270 [==============================] - 1s 3ms/step - loss: 0.5208 - auc: 0.8635 - val_loss: 0.5066 - val_auc: 0.9005\n",
            "Epoch 36/200\n",
            "270/270 [==============================] - 1s 3ms/step - loss: 0.5219 - auc: 0.8626 - val_loss: 0.5721 - val_auc: 0.9010\n",
            "Epoch 37/200\n",
            "270/270 [==============================] - 1s 3ms/step - loss: 0.5194 - auc: 0.8640 - val_loss: 0.4711 - val_auc: 0.9023\n",
            "Epoch 38/200\n",
            "270/270 [==============================] - 1s 3ms/step - loss: 0.5175 - auc: 0.8656 - val_loss: 0.6110 - val_auc: 0.9020\n",
            "Epoch 39/200\n",
            "270/270 [==============================] - 1s 3ms/step - loss: 0.5189 - auc: 0.8650 - val_loss: 0.5117 - val_auc: 0.9027\n",
            "Epoch 40/200\n",
            "270/270 [==============================] - 1s 3ms/step - loss: 0.5128 - auc: 0.8694 - val_loss: 0.5175 - val_auc: 0.9036\n",
            "Epoch 41/200\n",
            "270/270 [==============================] - 1s 3ms/step - loss: 0.5148 - auc: 0.8673 - val_loss: 0.4598 - val_auc: 0.9041\n",
            "Epoch 42/200\n",
            "270/270 [==============================] - 1s 3ms/step - loss: 0.5097 - auc: 0.8714 - val_loss: 0.4759 - val_auc: 0.9047\n",
            "Epoch 43/200\n",
            "270/270 [==============================] - 1s 3ms/step - loss: 0.5106 - auc: 0.8709 - val_loss: 0.4263 - val_auc: 0.9056\n",
            "Epoch 44/200\n",
            "270/270 [==============================] - 1s 3ms/step - loss: 0.5123 - auc: 0.8698 - val_loss: 0.4947 - val_auc: 0.9053\n",
            "Epoch 45/200\n",
            "270/270 [==============================] - 1s 3ms/step - loss: 0.5084 - auc: 0.8723 - val_loss: 0.4823 - val_auc: 0.9056\n",
            "Epoch 46/200\n",
            "270/270 [==============================] - 1s 3ms/step - loss: 0.5102 - auc: 0.8710 - val_loss: 0.5075 - val_auc: 0.9060\n",
            "Epoch 47/200\n",
            "270/270 [==============================] - 1s 3ms/step - loss: 0.5077 - auc: 0.8728 - val_loss: 0.4702 - val_auc: 0.9062\n",
            "Epoch 48/200\n",
            "270/270 [==============================] - 1s 3ms/step - loss: 0.5076 - auc: 0.8726 - val_loss: 0.4673 - val_auc: 0.9072\n",
            "Epoch 49/200\n",
            "270/270 [==============================] - 1s 3ms/step - loss: 0.5045 - auc: 0.8746 - val_loss: 0.4856 - val_auc: 0.9071\n",
            "Epoch 50/200\n",
            "270/270 [==============================] - 1s 3ms/step - loss: 0.5067 - auc: 0.8727 - val_loss: 0.4768 - val_auc: 0.9073\n",
            "Epoch 51/200\n",
            "270/270 [==============================] - 1s 3ms/step - loss: 0.5033 - auc: 0.8751 - val_loss: 0.4830 - val_auc: 0.9078\n",
            "Epoch 52/200\n",
            "270/270 [==============================] - 1s 3ms/step - loss: 0.5067 - auc: 0.8733 - val_loss: 0.4799 - val_auc: 0.9086\n",
            "Epoch 53/200\n",
            "270/270 [==============================] - 1s 3ms/step - loss: 0.5087 - auc: 0.8725 - val_loss: 0.4812 - val_auc: 0.9083\n",
            "Epoch 54/200\n",
            "270/270 [==============================] - 1s 3ms/step - loss: 0.5061 - auc: 0.8737 - val_loss: 0.4698 - val_auc: 0.9085\n",
            "Epoch 55/200\n",
            "270/270 [==============================] - 1s 3ms/step - loss: 0.5061 - auc: 0.8736 - val_loss: 0.5023 - val_auc: 0.9089\n",
            "Epoch 56/200\n",
            "270/270 [==============================] - 1s 3ms/step - loss: 0.4980 - auc: 0.8799 - val_loss: 0.4654 - val_auc: 0.9096\n",
            "Epoch 57/200\n",
            "270/270 [==============================] - 1s 3ms/step - loss: 0.5115 - auc: 0.8702 - val_loss: 0.4851 - val_auc: 0.9093\n",
            "Epoch 58/200\n",
            "270/270 [==============================] - 1s 3ms/step - loss: 0.5023 - auc: 0.8767 - val_loss: 0.4191 - val_auc: 0.9101\n",
            "Epoch 59/200\n",
            "270/270 [==============================] - 1s 3ms/step - loss: 0.5014 - auc: 0.8776 - val_loss: 0.4977 - val_auc: 0.9099\n",
            "Epoch 60/200\n",
            "270/270 [==============================] - 1s 3ms/step - loss: 0.4956 - auc: 0.8808 - val_loss: 0.5015 - val_auc: 0.9103\n",
            "Epoch 61/200\n",
            "270/270 [==============================] - 1s 3ms/step - loss: 0.4998 - auc: 0.8785 - val_loss: 0.5142 - val_auc: 0.9104\n",
            "Epoch 62/200\n",
            "270/270 [==============================] - 1s 3ms/step - loss: 0.4989 - auc: 0.8789 - val_loss: 0.4988 - val_auc: 0.9102\n",
            "Epoch 63/200\n",
            "270/270 [==============================] - 1s 3ms/step - loss: 0.5035 - auc: 0.8756 - val_loss: 0.4774 - val_auc: 0.9108\n",
            "Epoch 64/200\n",
            "270/270 [==============================] - 1s 3ms/step - loss: 0.5019 - auc: 0.8770 - val_loss: 0.4724 - val_auc: 0.9108\n",
            "Epoch 65/200\n",
            "270/270 [==============================] - 1s 3ms/step - loss: 0.4992 - auc: 0.8788 - val_loss: 0.4755 - val_auc: 0.9112\n",
            "Epoch 66/200\n",
            "270/270 [==============================] - 1s 3ms/step - loss: 0.5002 - auc: 0.8779 - val_loss: 0.5093 - val_auc: 0.9112\n",
            "Epoch 67/200\n",
            "270/270 [==============================] - 1s 3ms/step - loss: 0.4966 - auc: 0.8807 - val_loss: 0.4779 - val_auc: 0.9118\n",
            "Epoch 68/200\n",
            "270/270 [==============================] - 1s 3ms/step - loss: 0.5024 - auc: 0.8765 - val_loss: 0.4948 - val_auc: 0.9114\n",
            "Restoring model weights from the end of the best epoch.\n",
            "Epoch 00068: early stopping\n"
          ],
          "name": "stdout"
        }
      ]
    },
    {
      "cell_type": "code",
      "metadata": {
        "id": "1hmaXa-99nD_",
        "colab": {
          "base_uri": "https://localhost:8080/",
          "height": 295
        },
        "outputId": "99d4cff6-059e-4aba-97f6-6d1b3c0e44cf"
      },
      "source": [
        "plt.figure(figsize=(5.5,4))\n",
        "plt.title('Network training phase')\n",
        "plt.plot(classification_history.history['loss'], label='training')\n",
        "plt.plot(classification_history.history['val_loss'], label='validation')\n",
        "plt.legend()\n",
        "plt.grid(axis='y')\n",
        "plt.xlabel('Epochs')\n",
        "plt.ylabel('Loss value')\n",
        "plt.show()"
      ],
      "execution_count": 88,
      "outputs": [
        {
          "output_type": "display_data",
          "data": {
            "image/png": "[encoded data removed]",
            "text/plain": [
              "<Figure size 396x288 with 1 Axes>"
            ]
          },
          "metadata": {
            "tags": []
          }
        }
      ]
    },
    {
      "cell_type": "code",
      "metadata": {
        "id": "JKqCspjv9_Bo",
        "colab": {
          "base_uri": "https://localhost:8080/"
        },
        "outputId": "de72bd6e-eced-466f-e415-2545b98542da"
      },
      "source": [
        "classifier_model.layers"
      ],
      "execution_count": 89,
      "outputs": [
        {
          "output_type": "execute_result",
          "data": {
            "text/plain": [
              "[<tensorflow.python.keras.layers.core.Dropout at 0x7fc13a031b50>,\n",
              " <tensorflow.python.keras.layers.core.Dense at 0x7fc13a042e90>,\n",
              " <tensorflow.python.keras.layers.core.Dense at 0x7fc147ee5310>,\n",
              " <tensorflow.python.keras.layers.core.Dense at 0x7fc14a7ab690>,\n",
              " <tensorflow.python.keras.layers.core.Dense at 0x7fc13a049250>,\n",
              " <tensorflow.python.keras.layers.core.Dropout at 0x7fc1526a26d0>,\n",
              " <tensorflow.python.keras.layers.core.Dense at 0x7fc13a052610>,\n",
              " <tensorflow.python.keras.layers.core.Dropout at 0x7fc13a066310>,\n",
              " <tensorflow.python.keras.layers.core.Dense at 0x7fc13a099390>]"
            ]
          },
          "metadata": {
            "tags": []
          },
          "execution_count": 89
        }
      ]
    },
    {
      "cell_type": "code",
      "metadata": {
        "id": "8ItVDaK-9_wl",
        "colab": {
          "base_uri": "https://localhost:8080/"
        },
        "outputId": "f3fa9784-0a70-49a3-f4ce-afa903250761"
      },
      "source": [
        "# Un-freezing selected layers for fine-tuning\n",
        "for layer in classifier_model.layers[3:-5]:\n",
        "    print(layer)\n",
        "    layer.trainable = True"
      ],
      "execution_count": 90,
      "outputs": [
        {
          "output_type": "stream",
          "text": [
            "<tensorflow.python.keras.layers.core.Dense object at 0x7fc14a7ab690>\n"
          ],
          "name": "stdout"
        }
      ]
    },
    {
      "cell_type": "code",
      "metadata": {
        "colab": {
          "base_uri": "https://localhost:8080/"
        },
        "id": "iF0UzcbM-Bf-",
        "outputId": "f23e3931-0ae0-4d15-ad3d-1cd1241bea22"
      },
      "source": [
        "# Fine-tuning network weights with a reduced learning rate (second pass)\n",
        "lr_schedule = keras.optimizers.schedules.ExponentialDecay(\n",
        "        initial_learning_rate=1e-4,  # lower initial rate\n",
        "        decay_steps=100, decay_rate=0.96, staircase=False)\n",
        "adam = keras.optimizers.Adam(learning_rate=lr_schedule)\n",
        "early_stopping = keras.callbacks.EarlyStopping(monitor='val_loss', min_delta=0.01, \n",
        "        patience=50, verbose=1, restore_best_weights=True)\n",
        "classifier_model.compile(optimizer=adam, loss='binary_crossentropy', metrics=['AUC'])\n",
        "fine_tuning_history = classifier_model.fit(X_train_part, y_train_part, \n",
        "        epochs=EPOCHS, batch_size=BATCH_SIZE, \n",
        "        shuffle=False, validation_data=(X_validation, y_validation),\n",
        "        class_weight=class_weights_dict, callbacks=[early_stopping], verbose=1)"
      ],
      "execution_count": 91,
      "outputs": [
        {
          "output_type": "stream",
          "text": [
            "Epoch 1/200\n",
            "270/270 [==============================] - 2s 4ms/step - loss: 0.5061 - auc: 0.8738 - val_loss: 0.5292 - val_auc: 0.9342\n",
            "Epoch 2/200\n",
            "270/270 [==============================] - 1s 3ms/step - loss: 0.4623 - auc: 0.9026 - val_loss: 0.4791 - val_auc: 0.9445\n",
            "Epoch 3/200\n",
            "270/270 [==============================] - 1s 3ms/step - loss: 0.4429 - auc: 0.9124 - val_loss: 0.4307 - val_auc: 0.9506\n",
            "Epoch 4/200\n",
            "270/270 [==============================] - 1s 3ms/step - loss: 0.4382 - auc: 0.9145 - val_loss: 0.4560 - val_auc: 0.9526\n",
            "Epoch 5/200\n",
            "270/270 [==============================] - 1s 3ms/step - loss: 0.4189 - auc: 0.9235 - val_loss: 0.4400 - val_auc: 0.9546\n",
            "Epoch 6/200\n",
            "270/270 [==============================] - 1s 3ms/step - loss: 0.4127 - auc: 0.9259 - val_loss: 0.5011 - val_auc: 0.9556\n",
            "Epoch 7/200\n",
            "270/270 [==============================] - 1s 3ms/step - loss: 0.4061 - auc: 0.9289 - val_loss: 0.4394 - val_auc: 0.9556\n",
            "Epoch 8/200\n",
            "270/270 [==============================] - 1s 3ms/step - loss: 0.3999 - auc: 0.9311 - val_loss: 0.3685 - val_auc: 0.9562\n",
            "Epoch 9/200\n",
            "270/270 [==============================] - 1s 3ms/step - loss: 0.3909 - auc: 0.9360 - val_loss: 0.4129 - val_auc: 0.9572\n",
            "Epoch 10/200\n",
            "270/270 [==============================] - 1s 3ms/step - loss: 0.3946 - auc: 0.9334 - val_loss: 0.3397 - val_auc: 0.9572\n",
            "Epoch 11/200\n",
            "270/270 [==============================] - 1s 3ms/step - loss: 0.3823 - auc: 0.9394 - val_loss: 0.3563 - val_auc: 0.9571\n",
            "Epoch 12/200\n",
            "270/270 [==============================] - 1s 3ms/step - loss: 0.3839 - auc: 0.9379 - val_loss: 0.3670 - val_auc: 0.9578\n",
            "Epoch 13/200\n",
            "270/270 [==============================] - 1s 3ms/step - loss: 0.3868 - auc: 0.9366 - val_loss: 0.3439 - val_auc: 0.9576\n",
            "Epoch 14/200\n",
            "270/270 [==============================] - 1s 3ms/step - loss: 0.3745 - auc: 0.9419 - val_loss: 0.3446 - val_auc: 0.9575\n",
            "Epoch 15/200\n",
            "270/270 [==============================] - 1s 3ms/step - loss: 0.3740 - auc: 0.9415 - val_loss: 0.3678 - val_auc: 0.9583\n",
            "Epoch 16/200\n",
            "270/270 [==============================] - 1s 3ms/step - loss: 0.3661 - auc: 0.9449 - val_loss: 0.3738 - val_auc: 0.9585\n",
            "Epoch 17/200\n",
            "270/270 [==============================] - 1s 3ms/step - loss: 0.3753 - auc: 0.9407 - val_loss: 0.3577 - val_auc: 0.9585\n",
            "Epoch 18/200\n",
            "270/270 [==============================] - 1s 3ms/step - loss: 0.3677 - auc: 0.9441 - val_loss: 0.3531 - val_auc: 0.9584\n",
            "Epoch 19/200\n",
            "270/270 [==============================] - 1s 3ms/step - loss: 0.3703 - auc: 0.9429 - val_loss: 0.3495 - val_auc: 0.9582\n",
            "Epoch 20/200\n",
            "270/270 [==============================] - 1s 3ms/step - loss: 0.3680 - auc: 0.9438 - val_loss: 0.3656 - val_auc: 0.9583\n",
            "Epoch 21/200\n",
            "270/270 [==============================] - 1s 3ms/step - loss: 0.3713 - auc: 0.9424 - val_loss: 0.3636 - val_auc: 0.9585\n",
            "Epoch 22/200\n",
            "270/270 [==============================] - 1s 3ms/step - loss: 0.3722 - auc: 0.9424 - val_loss: 0.3632 - val_auc: 0.9587\n",
            "Epoch 23/200\n",
            "270/270 [==============================] - 1s 3ms/step - loss: 0.3679 - auc: 0.9438 - val_loss: 0.3804 - val_auc: 0.9587\n",
            "Epoch 24/200\n",
            "270/270 [==============================] - 1s 3ms/step - loss: 0.3644 - auc: 0.9450 - val_loss: 0.3686 - val_auc: 0.9587\n",
            "Epoch 25/200\n",
            "270/270 [==============================] - 1s 3ms/step - loss: 0.3641 - auc: 0.9453 - val_loss: 0.3828 - val_auc: 0.9592\n",
            "Epoch 26/200\n",
            "270/270 [==============================] - 1s 3ms/step - loss: 0.3800 - auc: 0.9385 - val_loss: 0.3967 - val_auc: 0.9592\n",
            "Epoch 27/200\n",
            "270/270 [==============================] - 1s 3ms/step - loss: 0.3707 - auc: 0.9427 - val_loss: 0.3846 - val_auc: 0.9589\n",
            "Epoch 28/200\n",
            "270/270 [==============================] - 1s 3ms/step - loss: 0.3607 - auc: 0.9472 - val_loss: 0.3982 - val_auc: 0.9591\n",
            "Epoch 29/200\n",
            "270/270 [==============================] - 1s 3ms/step - loss: 0.3680 - auc: 0.9434 - val_loss: 0.3928 - val_auc: 0.9594\n",
            "Epoch 30/200\n",
            "270/270 [==============================] - 1s 3ms/step - loss: 0.3686 - auc: 0.9435 - val_loss: 0.3888 - val_auc: 0.9592\n",
            "Epoch 31/200\n",
            "270/270 [==============================] - 1s 3ms/step - loss: 0.3696 - auc: 0.9429 - val_loss: 0.4017 - val_auc: 0.9591\n",
            "Epoch 32/200\n",
            "270/270 [==============================] - 1s 3ms/step - loss: 0.3684 - auc: 0.9436 - val_loss: 0.3937 - val_auc: 0.9593\n",
            "Epoch 33/200\n",
            "270/270 [==============================] - 1s 3ms/step - loss: 0.3594 - auc: 0.9473 - val_loss: 0.3949 - val_auc: 0.9594\n",
            "Epoch 34/200\n",
            "270/270 [==============================] - 1s 3ms/step - loss: 0.3604 - auc: 0.9468 - val_loss: 0.3829 - val_auc: 0.9592\n",
            "Epoch 35/200\n",
            "270/270 [==============================] - 1s 3ms/step - loss: 0.3656 - auc: 0.9446 - val_loss: 0.3875 - val_auc: 0.9594\n",
            "Epoch 36/200\n",
            "270/270 [==============================] - 1s 3ms/step - loss: 0.3672 - auc: 0.9443 - val_loss: 0.3859 - val_auc: 0.9595\n",
            "Epoch 37/200\n",
            "270/270 [==============================] - 1s 3ms/step - loss: 0.3618 - auc: 0.9461 - val_loss: 0.3785 - val_auc: 0.9593\n",
            "Epoch 38/200\n",
            "270/270 [==============================] - 1s 3ms/step - loss: 0.3679 - auc: 0.9436 - val_loss: 0.3875 - val_auc: 0.9594\n",
            "Epoch 39/200\n",
            "270/270 [==============================] - 1s 3ms/step - loss: 0.3666 - auc: 0.9438 - val_loss: 0.3811 - val_auc: 0.9596\n",
            "Epoch 40/200\n",
            "270/270 [==============================] - 1s 3ms/step - loss: 0.3629 - auc: 0.9457 - val_loss: 0.3754 - val_auc: 0.9594\n",
            "Epoch 41/200\n",
            "270/270 [==============================] - 1s 3ms/step - loss: 0.3534 - auc: 0.9500 - val_loss: 0.3695 - val_auc: 0.9595\n",
            "Epoch 42/200\n",
            "270/270 [==============================] - 1s 3ms/step - loss: 0.3589 - auc: 0.9474 - val_loss: 0.3705 - val_auc: 0.9594\n",
            "Epoch 43/200\n",
            "270/270 [==============================] - 1s 3ms/step - loss: 0.3575 - auc: 0.9482 - val_loss: 0.3676 - val_auc: 0.9593\n",
            "Epoch 44/200\n",
            "270/270 [==============================] - 1s 3ms/step - loss: 0.3630 - auc: 0.9458 - val_loss: 0.3705 - val_auc: 0.9595\n",
            "Epoch 45/200\n",
            "270/270 [==============================] - 1s 3ms/step - loss: 0.3649 - auc: 0.9448 - val_loss: 0.3672 - val_auc: 0.9593\n",
            "Epoch 46/200\n",
            "270/270 [==============================] - 1s 3ms/step - loss: 0.3635 - auc: 0.9455 - val_loss: 0.3681 - val_auc: 0.9592\n",
            "Epoch 47/200\n",
            "270/270 [==============================] - 1s 3ms/step - loss: 0.3664 - auc: 0.9441 - val_loss: 0.3647 - val_auc: 0.9594\n",
            "Epoch 48/200\n",
            "270/270 [==============================] - 1s 3ms/step - loss: 0.3654 - auc: 0.9446 - val_loss: 0.3657 - val_auc: 0.9594\n",
            "Epoch 49/200\n",
            "270/270 [==============================] - 1s 3ms/step - loss: 0.3599 - auc: 0.9470 - val_loss: 0.3680 - val_auc: 0.9592\n",
            "Epoch 50/200\n",
            "270/270 [==============================] - 1s 3ms/step - loss: 0.3619 - auc: 0.9458 - val_loss: 0.3635 - val_auc: 0.9594\n",
            "Epoch 51/200\n",
            "270/270 [==============================] - 1s 4ms/step - loss: 0.3562 - auc: 0.9488 - val_loss: 0.3583 - val_auc: 0.9591\n",
            "Epoch 52/200\n",
            "270/270 [==============================] - 1s 3ms/step - loss: 0.3659 - auc: 0.9443 - val_loss: 0.3636 - val_auc: 0.9594\n",
            "Epoch 53/200\n",
            "270/270 [==============================] - 1s 3ms/step - loss: 0.3628 - auc: 0.9457 - val_loss: 0.3605 - val_auc: 0.9593\n",
            "Epoch 54/200\n",
            "270/270 [==============================] - 1s 3ms/step - loss: 0.3626 - auc: 0.9459 - val_loss: 0.3620 - val_auc: 0.9595\n",
            "Epoch 55/200\n",
            "270/270 [==============================] - 1s 3ms/step - loss: 0.3713 - auc: 0.9421 - val_loss: 0.3632 - val_auc: 0.9594\n",
            "Epoch 56/200\n",
            "270/270 [==============================] - 1s 4ms/step - loss: 0.3632 - auc: 0.9457 - val_loss: 0.3609 - val_auc: 0.9594\n",
            "Epoch 57/200\n",
            "270/270 [==============================] - 1s 3ms/step - loss: 0.3641 - auc: 0.9452 - val_loss: 0.3616 - val_auc: 0.9595\n",
            "Epoch 58/200\n",
            "270/270 [==============================] - 1s 3ms/step - loss: 0.3689 - auc: 0.9433 - val_loss: 0.3618 - val_auc: 0.9594\n",
            "Epoch 59/200\n",
            "270/270 [==============================] - 1s 3ms/step - loss: 0.3656 - auc: 0.9444 - val_loss: 0.3603 - val_auc: 0.9594\n",
            "Epoch 60/200\n",
            "270/270 [==============================] - 1s 3ms/step - loss: 0.3590 - auc: 0.9471 - val_loss: 0.3575 - val_auc: 0.9593\n",
            "Restoring model weights from the end of the best epoch.\n",
            "Epoch 00060: early stopping\n"
          ],
          "name": "stdout"
        }
      ]
    },
    {
      "cell_type": "code",
      "metadata": {
        "colab": {
          "base_uri": "https://localhost:8080/",
          "height": 295
        },
        "id": "-B8I5eKj-Vy_",
        "outputId": "b0b48d68-d5a0-4bee-d2a3-ca81586c21f0"
      },
      "source": [
        "plt.figure(figsize=(5.5,4))\n",
        "plt.title('Network fine-tunning phase')\n",
        "plt.plot(fine_tuning_history.history['loss'], label='training')\n",
        "plt.plot(fine_tuning_history.history['val_loss'], label='validation')\n",
        "plt.legend()\n",
        "plt.grid(axis='y')\n",
        "plt.xlabel('Epochs')\n",
        "plt.ylabel('Loss value')\n",
        "plt.show()"
      ],
      "execution_count": 92,
      "outputs": [
        {
          "output_type": "display_data",
          "data": {
            "image/png": "[encoded data removed]",
            "text/plain": [
              "<Figure size 396x288 with 1 Axes>"
            ]
          },
          "metadata": {
            "tags": []
          }
        }
      ]
    },
    {
      "cell_type": "code",
      "metadata": {
        "colab": {
          "base_uri": "https://localhost:8080/",
          "height": 222
        },
        "id": "1OR8h0om-eD_",
        "outputId": "0618549e-2209-4aaa-cc6f-799b9ddc7987"
      },
      "source": [
        "fig, ax = plt.subplots(1, 2, figsize=(7,3))\n",
        "#ax[0].set_title('Network training phase')\n",
        "ax[0].plot(classification_history.history['loss'], label='training')\n",
        "ax[0].plot(classification_history.history['val_loss'], label='validation')\n",
        "ax[0].set_xlabel('Epochs')\n",
        "ax[0].set_ylabel('Loss value')\n",
        "ax[0].legend(loc='upper right')\n",
        "ax[0].grid(axis='y')\n",
        "#ax[1].set_title('Network fine-tuning phase')\n",
        "ax[1].plot(fine_tuning_history.history['loss'], label='training')\n",
        "ax[1].plot(fine_tuning_history.history['val_loss'], label='validation')\n",
        "ax[1].set_xlabel('Epochs')\n",
        "ax[1].set_ylabel('Loss value')\n",
        "ax[1].legend(loc='upper right')\n",
        "ax[1].grid(axis='y')\n",
        "fig.tight_layout()\n",
        "plt.show()\n"
      ],
      "execution_count": 93,
      "outputs": [
        {
          "output_type": "display_data",
          "data": {
            "image/png": "[encoded data removed]",
            "text/plain": [
              "<Figure size 504x216 with 2 Axes>"
            ]
          },
          "metadata": {
            "tags": []
          }
        }
      ]
    },
    {
      "cell_type": "code",
      "metadata": {
        "id": "aur8rzGQ-mmy"
      },
      "source": [
        "y_scores = classifier_model.predict(X_test).flatten()"
      ],
      "execution_count": 94,
      "outputs": []
    },
    {
      "cell_type": "code",
      "metadata": {
        "id": "wpk0xqv7-oR-",
        "colab": {
          "base_uri": "https://localhost:8080/"
        },
        "outputId": "8b3174c8-d598-4864-b0f6-0a048e19a664"
      },
      "source": [
        "y_scores.shape"
      ],
      "execution_count": 95,
      "outputs": [
        {
          "output_type": "execute_result",
          "data": {
            "text/plain": [
              "(2400,)"
            ]
          },
          "metadata": {
            "tags": []
          },
          "execution_count": 95
        }
      ]
    },
    {
      "cell_type": "code",
      "metadata": {
        "id": "GqnCk5Fo-qOh",
        "colab": {
          "base_uri": "https://localhost:8080/"
        },
        "outputId": "b2d75173-1275-4a06-b2d2-35a3320aa1d7"
      },
      "source": [
        "# Precision/recall trade-off \n",
        "precisions, recalls, thresholds = metrics.precision_recall_curve(y_test, y_scores)\n",
        "# Find a best threshold value (where precision and recall curves intersect)\n",
        "EPSILON = 1e-3  # Tolerance\n",
        "THRESHOLD = thresholds[np.argwhere(abs(precisions - recalls) < EPSILON)][0][0]\n",
        "print(THRESHOLD)"
      ],
      "execution_count": 96,
      "outputs": [
        {
          "output_type": "stream",
          "text": [
            "0.71035504\n"
          ],
          "name": "stdout"
        }
      ]
    },
    {
      "cell_type": "code",
      "metadata": {
        "id": "qtNcibLW-sV0"
      },
      "source": [
        "def precision_recall_tradeoff(thresholds, precisions, recalls, threshold, title=''):\n",
        "    fig, ax = plt.subplots(figsize=(5.5,3.5))\n",
        "    ax.set_title(title)\n",
        "    ax.plot(thresholds, precisions[:-1], lw=2, label='Precision')\n",
        "    ax.plot(thresholds, recalls[:-1], lw=2, label='Recall')\n",
        "    plt.vlines(threshold, 0, 1, linestyles='--', color='dimgrey', \n",
        "               label='Threshold = {:.2f}'.format(threshold))\n",
        "    ax.set_xlabel('Thresholds')\n",
        "    ax.set_ylabel('Precision / Recall')\n",
        "    ax.legend(loc='center left')\n",
        "    ax.grid()\n",
        "    fig.tight_layout()\n",
        "    plt.show()\n",
        "    return"
      ],
      "execution_count": 97,
      "outputs": []
    },
    {
      "cell_type": "code",
      "metadata": {
        "id": "zgY9XEI4-vN8",
        "colab": {
          "base_uri": "https://localhost:8080/",
          "height": 258
        },
        "outputId": "756bb347-8ce5-48cd-cdf2-95c2a0cea04a"
      },
      "source": [
        "# Show precision/recall curves\n",
        "precision_recall_tradeoff(thresholds, precisions, recalls, THRESHOLD, title='DNN classifier')"
      ],
      "execution_count": 98,
      "outputs": [
        {
          "output_type": "display_data",
          "data": {
            "image/png": "[encoded data removed]",
            "text/plain": [
              "<Figure size 396x252 with 1 Axes>"
            ]
          },
          "metadata": {
            "tags": []
          }
        }
      ]
    },
    {
      "cell_type": "code",
      "metadata": {
        "id": "lfIUPg0C-30_"
      },
      "source": [
        "pred = np.where(y_scores >= THRESHOLD, 1, 0)"
      ],
      "execution_count": 99,
      "outputs": []
    },
    {
      "cell_type": "code",
      "metadata": {
        "id": "QIr8LR7l-6uQ",
        "colab": {
          "base_uri": "https://localhost:8080/"
        },
        "outputId": "a063e8c7-2d82-4276-baf4-5a30e1bd9a36"
      },
      "source": [
        " #Monte Carlo predictions\n",
        "predictions = np.stack([classifier_model(X_test, training=True) for sample in range(100)])\n",
        "predictions = predictions.reshape(100, -1)\n",
        "predictions.shape"
      ],
      "execution_count": 100,
      "outputs": [
        {
          "output_type": "execute_result",
          "data": {
            "text/plain": [
              "(100, 2400)"
            ]
          },
          "metadata": {
            "tags": []
          },
          "execution_count": 100
        }
      ]
    },
    {
      "cell_type": "code",
      "metadata": {
        "id": "yVRGsBmf_Cdj"
      },
      "source": [
        "# Showing boxplots for select cases\n",
        "predicts = pd.DataFrame(predictions[:,[11,12,13,16,19]], \n",
        "                        columns=['Case {:d}'.format(i+1) for i in range(5)])"
      ],
      "execution_count": 101,
      "outputs": []
    },
    {
      "cell_type": "code",
      "metadata": {
        "id": "ThrTMh1o_DUX",
        "colab": {
          "base_uri": "https://localhost:8080/",
          "height": 386
        },
        "outputId": "3c412ac7-f986-48c5-f50f-7f9b5743ab57"
      },
      "source": [
        "fig, ax = plt.subplots(figsize=(6,4))\n",
        "sns.boxplot(data=predicts, orient='v', ax=ax, showmeans=True, \n",
        "            meanprops={'marker': '*', 'markeredgecolor': 'black', 'markersize': '10'})\n",
        "sns.swarmplot(data=predicts, orient='v', size=3, color='.3', alpha=0.7, ax=ax)\n",
        "ax.axhline(THRESHOLD, ls='--', lw=2, color='dimgrey', label='Threshold = {:.2f}'.format(THRESHOLD))\n",
        "ax.legend(loc='upper left')\n",
        "ax.set_ylabel('Probability')\n",
        "fig.tight_layout()\n",
        "plt.show()"
      ],
      "execution_count": 102,
      "outputs": [
        {
          "output_type": "stream",
          "text": [
            "/usr/local/lib/python3.7/dist-packages/seaborn/categorical.py:1296: UserWarning: 23.0% of the points cannot be placed; you may want to decrease the size of the markers or use stripplot.\n",
            "  warnings.warn(msg, UserWarning)\n",
            "/usr/local/lib/python3.7/dist-packages/seaborn/categorical.py:1296: UserWarning: 9.0% of the points cannot be placed; you may want to decrease the size of the markers or use stripplot.\n",
            "  warnings.warn(msg, UserWarning)\n"
          ],
          "name": "stderr"
        },
        {
          "output_type": "display_data",
          "data": {
            "image/png": "[encoded data removed]",
            "text/plain": [
              "<Figure size 432x288 with 1 Axes>"
            ]
          },
          "metadata": {
            "tags": []
          }
        }
      ]
    },
    {
      "cell_type": "code",
      "metadata": {
        "id": "c5DLohOU_JGF"
      },
      "source": [
        "def show_confusion_matrix(y_true, y_pred, labels, title):\n",
        "    scores_image = heatmap(metrics.confusion_matrix(y_true, y_pred), xlabel='Predicted label', \n",
        "                       ylabel='True label', xticklabels=labels, yticklabels=labels, \n",
        "                       cmap=plt.cm.gray_r, fmt=\"%d\")\n",
        "    plt.title(title)\n",
        "    plt.gca().invert_yaxis()\n",
        "    plt.show()\n",
        "    return"
      ],
      "execution_count": 103,
      "outputs": []
    },
    {
      "cell_type": "code",
      "metadata": {
        "id": "Nk1U2Dnv_S2P",
        "colab": {
          "base_uri": "https://localhost:8080/",
          "height": 295
        },
        "outputId": "4a8e94f1-4361-4c65-c5ad-1a56c04ec1d0"
      },
      "source": [
        "labels = ['Stable', 'Unstable']\n",
        "# confusion matrix\n",
        "show_confusion_matrix(y_test, pred, labels, title='DNN classifier')"
      ],
      "execution_count": 104,
      "outputs": [
        {
          "output_type": "display_data",
          "data": {
            "image/png": "[encoded data removed]",
            "text/plain": [
              "<Figure size 432x288 with 1 Axes>"
            ]
          },
          "metadata": {
            "tags": []
          }
        }
      ]
    },
    {
      "cell_type": "code",
      "metadata": {
        "id": "m0XvtY21_V4R",
        "colab": {
          "base_uri": "https://localhost:8080/"
        },
        "outputId": "1a8a58a2-4bca-4bec-9da0-a59fb71309dd"
      },
      "source": [
        "# classification report\n",
        "print(metrics.classification_report(y_test, pred, target_names=labels))"
      ],
      "execution_count": 105,
      "outputs": [
        {
          "output_type": "stream",
          "text": [
            "              precision    recall  f1-score   support\n",
            "\n",
            "      Stable       0.96      0.96      0.96      2145\n",
            "    Unstable       0.70      0.70      0.70       255\n",
            "\n",
            "    accuracy                           0.94      2400\n",
            "   macro avg       0.83      0.83      0.83      2400\n",
            "weighted avg       0.94      0.94      0.94      2400\n",
            "\n"
          ],
          "name": "stdout"
        }
      ]
    },
    {
      "cell_type": "code",
      "metadata": {
        "id": "zrqdSWPg_gXW"
      },
      "source": [
        "dnn_data = pd.DataFrame(data=[metrics.accuracy_score(y_test, pred), \n",
        "                              metrics.recall_score(y_test, pred),\n",
        "                              metrics.precision_score(y_test, pred), \n",
        "                              metrics.roc_auc_score(y_test, pred),\n",
        "                              metrics.f1_score(y_test, pred), \n",
        "                              matthews_score(y_test, pred), \n",
        "                              brier_score(y_test, y_scores)],\n",
        "                        index=[\"accuracy\", \"recall\", \"precision\", \"roc_auc_score\", \n",
        "                               \"f1-score\", \"matthews\", \"brier\"], \n",
        "                        columns=['Values'])"
      ],
      "execution_count": 106,
      "outputs": []
    },
    {
      "cell_type": "code",
      "metadata": {
        "id": "dZcK-jQ__mp4"
      },
      "source": [
        ""
      ],
      "execution_count": 106,
      "outputs": []
    },
    {
      "cell_type": "code",
      "metadata": {
        "id": "iusZm18c_xvZ"
      },
      "source": [
        ""
      ],
      "execution_count": 106,
      "outputs": []
    },
    {
      "cell_type": "code",
      "metadata": {
        "id": "R77N0zA0_0cs"
      },
      "source": [
        ""
      ],
      "execution_count": 106,
      "outputs": []
    }
  ]
}