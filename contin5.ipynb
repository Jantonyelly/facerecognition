{
  "nbformat": 4,
  "nbformat_minor": 0,
  "metadata": {
    "colab": {
      "name": "contin2",
      "provenance": [],
      "collapsed_sections": [],
      "include_colab_link": true
    },
    "kernelspec": {
      "display_name": "Python 3",
      "name": "python3"
    },
    "language_info": {
      "name": "python"
    }
  },
  "cells": [
    {
      "cell_type": "markdown",
      "metadata": {
        "id": "view-in-github",
        "colab_type": "text"
      },
      "source": [
        "<a href=\"https://colab.research.google.com/github/Jantonyelly/facerecognition/blob/main/contin5.ipynb\" target=\"_parent\"><img src=\"https://colab.research.google.com/assets/colab-badge.svg\" alt=\"Open In Colab\"/></a>"
      ]
    },
    {
      "cell_type": "code",
      "metadata": {
        "id": "iFa0gfm94dCX",
        "colab": {
          "base_uri": "https://localhost:8080/",
          "height": 255
        },
        "outputId": "7e7b4009-c775-492c-f7ca-8e4956d37e17"
      },
      "source": [
        "import numpy as np\n",
        "import pandas as pd\n",
        "data = pd.read_csv(r'/content/zeta_sol_IEEE68AC--conti5.csv')\n",
        "data.head()"
      ],
      "execution_count": 1,
      "outputs": [
        {
          "output_type": "execute_result",
          "data": {
            "text/html": [
              "<div>\n",
              "<style scoped>\n",
              "    .dataframe tbody tr th:only-of-type {\n",
              "        vertical-align: middle;\n",
              "    }\n",
              "\n",
              "    .dataframe tbody tr th {\n",
              "        vertical-align: top;\n",
              "    }\n",
              "\n",
              "    .dataframe thead th {\n",
              "        text-align: right;\n",
              "    }\n",
              "</style>\n",
              "<table border=\"1\" class=\"dataframe\">\n",
              "  <thead>\n",
              "    <tr style=\"text-align: right;\">\n",
              "      <th></th>\n",
              "      <th>1</th>\n",
              "      <th>2</th>\n",
              "      <th>3</th>\n",
              "      <th>4</th>\n",
              "      <th>5</th>\n",
              "      <th>6</th>\n",
              "      <th>7</th>\n",
              "      <th>8</th>\n",
              "      <th>9</th>\n",
              "      <th>10</th>\n",
              "      <th>11</th>\n",
              "      <th>12</th>\n",
              "      <th>13</th>\n",
              "      <th>14</th>\n",
              "      <th>15</th>\n",
              "      <th>16</th>\n",
              "      <th>17</th>\n",
              "      <th>18</th>\n",
              "      <th>19</th>\n",
              "      <th>20</th>\n",
              "      <th>21</th>\n",
              "      <th>22</th>\n",
              "      <th>23</th>\n",
              "      <th>24</th>\n",
              "      <th>25</th>\n",
              "      <th>26</th>\n",
              "      <th>27</th>\n",
              "      <th>28</th>\n",
              "      <th>29</th>\n",
              "      <th>30</th>\n",
              "      <th>31</th>\n",
              "      <th>32</th>\n",
              "      <th>33</th>\n",
              "      <th>34</th>\n",
              "      <th>35</th>\n",
              "      <th>36</th>\n",
              "      <th>37</th>\n",
              "      <th>38</th>\n",
              "      <th>39</th>\n",
              "      <th>40</th>\n",
              "      <th>...</th>\n",
              "      <th>400</th>\n",
              "      <th>401</th>\n",
              "      <th>402</th>\n",
              "      <th>403</th>\n",
              "      <th>404</th>\n",
              "      <th>405</th>\n",
              "      <th>406</th>\n",
              "      <th>407</th>\n",
              "      <th>408</th>\n",
              "      <th>409</th>\n",
              "      <th>410</th>\n",
              "      <th>411</th>\n",
              "      <th>412</th>\n",
              "      <th>413</th>\n",
              "      <th>414</th>\n",
              "      <th>415</th>\n",
              "      <th>416</th>\n",
              "      <th>417</th>\n",
              "      <th>418</th>\n",
              "      <th>419</th>\n",
              "      <th>420</th>\n",
              "      <th>421</th>\n",
              "      <th>422</th>\n",
              "      <th>423</th>\n",
              "      <th>424</th>\n",
              "      <th>425</th>\n",
              "      <th>426</th>\n",
              "      <th>427</th>\n",
              "      <th>428</th>\n",
              "      <th>429</th>\n",
              "      <th>430</th>\n",
              "      <th>431</th>\n",
              "      <th>432</th>\n",
              "      <th>433</th>\n",
              "      <th>434</th>\n",
              "      <th>435</th>\n",
              "      <th>436</th>\n",
              "      <th>437</th>\n",
              "      <th>438</th>\n",
              "      <th>439</th>\n",
              "    </tr>\n",
              "  </thead>\n",
              "  <tbody>\n",
              "    <tr>\n",
              "      <th>0</th>\n",
              "      <td>-0.654767</td>\n",
              "      <td>-0.700667</td>\n",
              "      <td>-0.648094</td>\n",
              "      <td>-0.785926</td>\n",
              "      <td>-0.765472</td>\n",
              "      <td>-0.744509</td>\n",
              "      <td>-0.743870</td>\n",
              "      <td>-0.660407</td>\n",
              "      <td>-0.326413</td>\n",
              "      <td>-0.440122</td>\n",
              "      <td>-0.363301</td>\n",
              "      <td>-0.823662</td>\n",
              "      <td>-0.858138</td>\n",
              "      <td>0.542747</td>\n",
              "      <td>0.294155</td>\n",
              "      <td>0</td>\n",
              "      <td>-0.975084</td>\n",
              "      <td>-0.104050</td>\n",
              "      <td>-0.831740</td>\n",
              "      <td>-0.851927</td>\n",
              "      <td>-0.858042</td>\n",
              "      <td>-0.810257</td>\n",
              "      <td>-0.822169</td>\n",
              "      <td>-0.877014</td>\n",
              "      <td>-0.720492</td>\n",
              "      <td>-0.714268</td>\n",
              "      <td>-0.789899</td>\n",
              "      <td>-0.567929</td>\n",
              "      <td>-0.493200</td>\n",
              "      <td>-0.685745</td>\n",
              "      <td>-0.617162</td>\n",
              "      <td>-0.543370</td>\n",
              "      <td>-0.635749</td>\n",
              "      <td>-0.772084</td>\n",
              "      <td>-0.771810</td>\n",
              "      <td>-0.872363</td>\n",
              "      <td>-0.837815</td>\n",
              "      <td>-0.617261</td>\n",
              "      <td>-0.974259</td>\n",
              "      <td>-0.343236</td>\n",
              "      <td>...</td>\n",
              "      <td>0.009397</td>\n",
              "      <td>0.418476</td>\n",
              "      <td>-8.065883</td>\n",
              "      <td>7.398504</td>\n",
              "      <td>4.254639</td>\n",
              "      <td>6.864996</td>\n",
              "      <td>0.139002</td>\n",
              "      <td>0.075539</td>\n",
              "      <td>0.139005</td>\n",
              "      <td>0.035050</td>\n",
              "      <td>2.592105</td>\n",
              "      <td>2.957386</td>\n",
              "      <td>0.429199</td>\n",
              "      <td>2.716974</td>\n",
              "      <td>4.796688</td>\n",
              "      <td>1.972747</td>\n",
              "      <td>7.689734</td>\n",
              "      <td>-11.117909</td>\n",
              "      <td>0.425741</td>\n",
              "      <td>-2.020049</td>\n",
              "      <td>-1.233729</td>\n",
              "      <td>-5.503058</td>\n",
              "      <td>-0.215765</td>\n",
              "      <td>1.400113</td>\n",
              "      <td>2.791107</td>\n",
              "      <td>-2.436116</td>\n",
              "      <td>-1.387701</td>\n",
              "      <td>-0.061192</td>\n",
              "      <td>0.686391</td>\n",
              "      <td>2.037245</td>\n",
              "      <td>-2.129039</td>\n",
              "      <td>0.091794</td>\n",
              "      <td>-3.205714</td>\n",
              "      <td>-0.001006</td>\n",
              "      <td>0.377888</td>\n",
              "      <td>-3.197011</td>\n",
              "      <td>-2.803898</td>\n",
              "      <td>0.474972</td>\n",
              "      <td>-0.362934</td>\n",
              "      <td>0</td>\n",
              "    </tr>\n",
              "    <tr>\n",
              "      <th>1</th>\n",
              "      <td>-1.056926</td>\n",
              "      <td>-1.036600</td>\n",
              "      <td>-1.042843</td>\n",
              "      <td>-1.140621</td>\n",
              "      <td>-1.084272</td>\n",
              "      <td>-1.147664</td>\n",
              "      <td>-1.130044</td>\n",
              "      <td>-1.058712</td>\n",
              "      <td>-0.721367</td>\n",
              "      <td>-1.016123</td>\n",
              "      <td>-1.005416</td>\n",
              "      <td>-1.115213</td>\n",
              "      <td>-1.151219</td>\n",
              "      <td>0.023641</td>\n",
              "      <td>-0.271096</td>\n",
              "      <td>0</td>\n",
              "      <td>-1.274404</td>\n",
              "      <td>-0.145641</td>\n",
              "      <td>-1.187639</td>\n",
              "      <td>-1.191768</td>\n",
              "      <td>-1.246038</td>\n",
              "      <td>-1.204081</td>\n",
              "      <td>-1.213255</td>\n",
              "      <td>-1.259231</td>\n",
              "      <td>-1.117432</td>\n",
              "      <td>-1.106434</td>\n",
              "      <td>-1.179655</td>\n",
              "      <td>-0.962362</td>\n",
              "      <td>-0.888034</td>\n",
              "      <td>-1.116036</td>\n",
              "      <td>-1.079656</td>\n",
              "      <td>-1.065301</td>\n",
              "      <td>-1.093645</td>\n",
              "      <td>-1.133002</td>\n",
              "      <td>-1.115978</td>\n",
              "      <td>-1.194041</td>\n",
              "      <td>-1.222196</td>\n",
              "      <td>-1.061605</td>\n",
              "      <td>-1.282667</td>\n",
              "      <td>-0.808892</td>\n",
              "      <td>...</td>\n",
              "      <td>1.180861</td>\n",
              "      <td>0.685916</td>\n",
              "      <td>-7.792667</td>\n",
              "      <td>7.130660</td>\n",
              "      <td>4.408717</td>\n",
              "      <td>-2.076072</td>\n",
              "      <td>-0.050293</td>\n",
              "      <td>0.177691</td>\n",
              "      <td>-0.050242</td>\n",
              "      <td>2.608912</td>\n",
              "      <td>2.507077</td>\n",
              "      <td>2.821057</td>\n",
              "      <td>1.884704</td>\n",
              "      <td>2.547792</td>\n",
              "      <td>4.623510</td>\n",
              "      <td>3.443271</td>\n",
              "      <td>10.023562</td>\n",
              "      <td>-13.428598</td>\n",
              "      <td>0.305728</td>\n",
              "      <td>-1.891419</td>\n",
              "      <td>-0.368189</td>\n",
              "      <td>-4.853915</td>\n",
              "      <td>0.213406</td>\n",
              "      <td>1.941012</td>\n",
              "      <td>3.333238</td>\n",
              "      <td>-2.525194</td>\n",
              "      <td>-1.388292</td>\n",
              "      <td>-0.190286</td>\n",
              "      <td>0.569476</td>\n",
              "      <td>1.277127</td>\n",
              "      <td>-1.397630</td>\n",
              "      <td>0.120503</td>\n",
              "      <td>-3.153384</td>\n",
              "      <td>-0.029371</td>\n",
              "      <td>0.315159</td>\n",
              "      <td>-3.173158</td>\n",
              "      <td>-2.841741</td>\n",
              "      <td>0.390646</td>\n",
              "      <td>-0.228706</td>\n",
              "      <td>0</td>\n",
              "    </tr>\n",
              "    <tr>\n",
              "      <th>2</th>\n",
              "      <td>-0.485537</td>\n",
              "      <td>-0.424480</td>\n",
              "      <td>-0.425817</td>\n",
              "      <td>-0.487376</td>\n",
              "      <td>-0.439520</td>\n",
              "      <td>-0.481349</td>\n",
              "      <td>-0.429234</td>\n",
              "      <td>-0.435048</td>\n",
              "      <td>-0.071290</td>\n",
              "      <td>-0.279703</td>\n",
              "      <td>-0.381687</td>\n",
              "      <td>-0.422708</td>\n",
              "      <td>-0.519149</td>\n",
              "      <td>0.740181</td>\n",
              "      <td>0.445686</td>\n",
              "      <td>0</td>\n",
              "      <td>-0.643710</td>\n",
              "      <td>-0.084083</td>\n",
              "      <td>-0.534018</td>\n",
              "      <td>-0.538838</td>\n",
              "      <td>-0.581771</td>\n",
              "      <td>-0.533683</td>\n",
              "      <td>-0.536066</td>\n",
              "      <td>-0.599391</td>\n",
              "      <td>-0.495322</td>\n",
              "      <td>-0.465277</td>\n",
              "      <td>-0.534419</td>\n",
              "      <td>-0.313015</td>\n",
              "      <td>-0.237961</td>\n",
              "      <td>-0.472173</td>\n",
              "      <td>-0.426442</td>\n",
              "      <td>-0.440561</td>\n",
              "      <td>-0.474593</td>\n",
              "      <td>-0.524777</td>\n",
              "      <td>-0.530859</td>\n",
              "      <td>-0.546847</td>\n",
              "      <td>-0.574900</td>\n",
              "      <td>-0.440991</td>\n",
              "      <td>-0.697223</td>\n",
              "      <td>-0.148464</td>\n",
              "      <td>...</td>\n",
              "      <td>-0.982337</td>\n",
              "      <td>0.784885</td>\n",
              "      <td>-7.716205</td>\n",
              "      <td>7.091125</td>\n",
              "      <td>4.686792</td>\n",
              "      <td>8.598895</td>\n",
              "      <td>-1.096271</td>\n",
              "      <td>0.537843</td>\n",
              "      <td>-1.096039</td>\n",
              "      <td>-0.973860</td>\n",
              "      <td>2.009661</td>\n",
              "      <td>1.997118</td>\n",
              "      <td>-0.197204</td>\n",
              "      <td>2.662941</td>\n",
              "      <td>4.639289</td>\n",
              "      <td>1.243003</td>\n",
              "      <td>5.027094</td>\n",
              "      <td>-8.239500</td>\n",
              "      <td>-0.460580</td>\n",
              "      <td>-1.044383</td>\n",
              "      <td>-1.113178</td>\n",
              "      <td>-3.782257</td>\n",
              "      <td>0.336880</td>\n",
              "      <td>1.736286</td>\n",
              "      <td>2.892578</td>\n",
              "      <td>-2.224347</td>\n",
              "      <td>-1.153413</td>\n",
              "      <td>0.026642</td>\n",
              "      <td>0.875343</td>\n",
              "      <td>1.221359</td>\n",
              "      <td>-1.323085</td>\n",
              "      <td>0.101727</td>\n",
              "      <td>-2.680313</td>\n",
              "      <td>-0.014943</td>\n",
              "      <td>0.510444</td>\n",
              "      <td>-2.688377</td>\n",
              "      <td>-2.168758</td>\n",
              "      <td>0.889214</td>\n",
              "      <td>-0.225851</td>\n",
              "      <td>0</td>\n",
              "    </tr>\n",
              "    <tr>\n",
              "      <th>3</th>\n",
              "      <td>-0.399518</td>\n",
              "      <td>-0.338218</td>\n",
              "      <td>-0.402695</td>\n",
              "      <td>-0.397027</td>\n",
              "      <td>-0.418572</td>\n",
              "      <td>-0.385424</td>\n",
              "      <td>-0.333250</td>\n",
              "      <td>-0.382728</td>\n",
              "      <td>-0.028025</td>\n",
              "      <td>-0.250656</td>\n",
              "      <td>-0.153927</td>\n",
              "      <td>-0.505058</td>\n",
              "      <td>-0.766558</td>\n",
              "      <td>0.424546</td>\n",
              "      <td>-0.031722</td>\n",
              "      <td>0</td>\n",
              "      <td>-0.858034</td>\n",
              "      <td>-0.108983</td>\n",
              "      <td>-0.465640</td>\n",
              "      <td>-0.492057</td>\n",
              "      <td>-0.504717</td>\n",
              "      <td>-0.446986</td>\n",
              "      <td>-0.449269</td>\n",
              "      <td>-0.529199</td>\n",
              "      <td>-0.440422</td>\n",
              "      <td>-0.413758</td>\n",
              "      <td>-0.479668</td>\n",
              "      <td>-0.268133</td>\n",
              "      <td>-0.194119</td>\n",
              "      <td>-0.468489</td>\n",
              "      <td>-0.411294</td>\n",
              "      <td>-0.336216</td>\n",
              "      <td>-0.435582</td>\n",
              "      <td>-0.586300</td>\n",
              "      <td>-0.600456</td>\n",
              "      <td>-0.670895</td>\n",
              "      <td>-0.513701</td>\n",
              "      <td>-0.423320</td>\n",
              "      <td>-0.857174</td>\n",
              "      <td>-0.211930</td>\n",
              "      <td>...</td>\n",
              "      <td>-0.843710</td>\n",
              "      <td>0.317660</td>\n",
              "      <td>-7.472901</td>\n",
              "      <td>6.817137</td>\n",
              "      <td>7.791368</td>\n",
              "      <td>1.148140</td>\n",
              "      <td>0.180354</td>\n",
              "      <td>0.099909</td>\n",
              "      <td>0.180431</td>\n",
              "      <td>-2.031322</td>\n",
              "      <td>2.580386</td>\n",
              "      <td>2.911129</td>\n",
              "      <td>-0.525396</td>\n",
              "      <td>2.364930</td>\n",
              "      <td>4.373453</td>\n",
              "      <td>0.943853</td>\n",
              "      <td>5.483634</td>\n",
              "      <td>-8.860805</td>\n",
              "      <td>-0.788189</td>\n",
              "      <td>-0.803958</td>\n",
              "      <td>0.072928</td>\n",
              "      <td>-4.090737</td>\n",
              "      <td>-0.135732</td>\n",
              "      <td>1.256883</td>\n",
              "      <td>3.512858</td>\n",
              "      <td>-3.243966</td>\n",
              "      <td>-2.248838</td>\n",
              "      <td>-0.942617</td>\n",
              "      <td>-1.099686</td>\n",
              "      <td>1.022373</td>\n",
              "      <td>-1.113295</td>\n",
              "      <td>0.090922</td>\n",
              "      <td>-2.134252</td>\n",
              "      <td>0.001636</td>\n",
              "      <td>0.592155</td>\n",
              "      <td>-2.128106</td>\n",
              "      <td>-1.531456</td>\n",
              "      <td>1.588661</td>\n",
              "      <td>-0.088552</td>\n",
              "      <td>0</td>\n",
              "    </tr>\n",
              "    <tr>\n",
              "      <th>4</th>\n",
              "      <td>-1.061267</td>\n",
              "      <td>-1.046116</td>\n",
              "      <td>-1.047895</td>\n",
              "      <td>-1.141464</td>\n",
              "      <td>-1.192787</td>\n",
              "      <td>-1.084721</td>\n",
              "      <td>-1.051286</td>\n",
              "      <td>-1.025664</td>\n",
              "      <td>-0.756708</td>\n",
              "      <td>-0.943720</td>\n",
              "      <td>-0.945527</td>\n",
              "      <td>-1.068194</td>\n",
              "      <td>-1.096007</td>\n",
              "      <td>0.119455</td>\n",
              "      <td>-0.213303</td>\n",
              "      <td>0</td>\n",
              "      <td>-1.231503</td>\n",
              "      <td>-0.139121</td>\n",
              "      <td>-1.202508</td>\n",
              "      <td>-1.248480</td>\n",
              "      <td>-1.203851</td>\n",
              "      <td>-1.148534</td>\n",
              "      <td>-1.154135</td>\n",
              "      <td>-1.228340</td>\n",
              "      <td>-1.099459</td>\n",
              "      <td>-1.101248</td>\n",
              "      <td>-1.166312</td>\n",
              "      <td>-0.978207</td>\n",
              "      <td>-0.910424</td>\n",
              "      <td>-1.071231</td>\n",
              "      <td>-1.028918</td>\n",
              "      <td>-1.012837</td>\n",
              "      <td>-1.044214</td>\n",
              "      <td>-1.087774</td>\n",
              "      <td>-1.071669</td>\n",
              "      <td>-1.149699</td>\n",
              "      <td>-1.202623</td>\n",
              "      <td>-1.012038</td>\n",
              "      <td>-1.244124</td>\n",
              "      <td>-0.746113</td>\n",
              "      <td>...</td>\n",
              "      <td>1.074993</td>\n",
              "      <td>0.681350</td>\n",
              "      <td>-7.845428</td>\n",
              "      <td>7.195527</td>\n",
              "      <td>5.108164</td>\n",
              "      <td>-1.294968</td>\n",
              "      <td>-0.149826</td>\n",
              "      <td>0.195747</td>\n",
              "      <td>-0.149806</td>\n",
              "      <td>2.372483</td>\n",
              "      <td>2.449237</td>\n",
              "      <td>2.737049</td>\n",
              "      <td>1.771080</td>\n",
              "      <td>2.641403</td>\n",
              "      <td>4.698569</td>\n",
              "      <td>3.269422</td>\n",
              "      <td>9.644247</td>\n",
              "      <td>-12.960254</td>\n",
              "      <td>0.166588</td>\n",
              "      <td>-1.734091</td>\n",
              "      <td>-1.029622</td>\n",
              "      <td>-4.754052</td>\n",
              "      <td>0.153771</td>\n",
              "      <td>1.797731</td>\n",
              "      <td>2.852095</td>\n",
              "      <td>-2.146795</td>\n",
              "      <td>-1.051663</td>\n",
              "      <td>0.139364</td>\n",
              "      <td>1.175844</td>\n",
              "      <td>1.139949</td>\n",
              "      <td>-1.253957</td>\n",
              "      <td>0.114008</td>\n",
              "      <td>-2.857171</td>\n",
              "      <td>-0.025092</td>\n",
              "      <td>0.299909</td>\n",
              "      <td>-2.874720</td>\n",
              "      <td>-2.562654</td>\n",
              "      <td>0.566947</td>\n",
              "      <td>-0.310929</td>\n",
              "      <td>0</td>\n",
              "    </tr>\n",
              "  </tbody>\n",
              "</table>\n",
              "<p>5 rows × 439 columns</p>\n",
              "</div>"
            ],
            "text/plain": [
              "          1         2         3         4  ...       436       437       438  439\n",
              "0 -0.654767 -0.700667 -0.648094 -0.785926  ... -2.803898  0.474972 -0.362934    0\n",
              "1 -1.056926 -1.036600 -1.042843 -1.140621  ... -2.841741  0.390646 -0.228706    0\n",
              "2 -0.485537 -0.424480 -0.425817 -0.487376  ... -2.168758  0.889214 -0.225851    0\n",
              "3 -0.399518 -0.338218 -0.402695 -0.397027  ... -1.531456  1.588661 -0.088552    0\n",
              "4 -1.061267 -1.046116 -1.047895 -1.141464  ... -2.562654  0.566947 -0.310929    0\n",
              "\n",
              "[5 rows x 439 columns]"
            ]
          },
          "metadata": {
            "tags": []
          },
          "execution_count": 1
        }
      ]
    },
    {
      "cell_type": "code",
      "metadata": {
        "id": "o7OKDin4-bFc",
        "colab": {
          "base_uri": "https://localhost:8080/"
        },
        "outputId": "b061f94c-7df4-400a-d27b-b063febaf4b7"
      },
      "source": [
        "from google.colab import drive\n",
        "drive.mount('/content/drive')"
      ],
      "execution_count": 2,
      "outputs": [
        {
          "output_type": "stream",
          "text": [
            "Drive already mounted at /content/drive; to attempt to forcibly remount, call drive.mount(\"/content/drive\", force_remount=True).\n"
          ],
          "name": "stdout"
        }
      ]
    },
    {
      "cell_type": "code",
      "metadata": {
        "id": "PfhQD8ws6tZF"
      },
      "source": [
        "import timeit\n",
        "import datetime as dt\n",
        "import numpy as np\n",
        "import pandas as pd\n",
        "import seaborn as sns\n",
        "import matplotlib.pyplot as plt\n",
        "from scipy import stats\n",
        "from scipy import optimize\n",
        "from sklearn import metrics\n",
        "from sklearn import preprocessing\n",
        "from sklearn import svm\n",
        "from sklearn.ensemble import RandomForestClassifier\n",
        "from sklearn.ensemble import VotingClassifier\n",
        "from sklearn.model_selection import RandomizedSearchCV\n",
        "from sklearn.model_selection import StratifiedShuffleSplit\n",
        "from sklearn.model_selection import cross_val_score\n",
        "from sklearn.calibration import CalibratedClassifierCV, calibration_curve\n",
        "from sklearn.utils import class_weight"
      ],
      "execution_count": 3,
      "outputs": []
    },
    {
      "cell_type": "code",
      "metadata": {
        "id": "lGjec-TI6uo2"
      },
      "source": [
        " #TensorFlow 2 -> Keras\n",
        "from tensorflow import keras"
      ],
      "execution_count": 4,
      "outputs": []
    },
    {
      "cell_type": "code",
      "metadata": {
        "id": "GJbtkFm26zm3"
      },
      "source": [
        "try:\n",
        "    # Using experimental HalvingRandomSearchCV for hyperparameters optimization\n",
        "    from sklearn.experimental import enable_halving_search_cv # noqa\n",
        "    from sklearn.model_selection import HalvingRandomSearchCV\n",
        "except ImportError:\n",
        "    print('HalvingRandomSearchCV not found. Update scikit-learn to 0.24.')"
      ],
      "execution_count": 5,
      "outputs": []
    },
    {
      "cell_type": "code",
      "metadata": {
        "id": "5B-TFD6D6726",
        "colab": {
          "base_uri": "https://localhost:8080/"
        },
        "outputId": "c1cb200b-ba2e-4394-f026-5253df3bf8d7"
      },
      "source": [
        "pip install scikit-learn==0.24.2"
      ],
      "execution_count": 6,
      "outputs": [
        {
          "output_type": "stream",
          "text": [
            "Requirement already satisfied: scikit-learn==0.24.2 in /usr/local/lib/python3.7/dist-packages (0.24.2)\n",
            "Requirement already satisfied: scipy>=0.19.1 in /usr/local/lib/python3.7/dist-packages (from scikit-learn==0.24.2) (1.4.1)\n",
            "Requirement already satisfied: numpy>=1.13.3 in /usr/local/lib/python3.7/dist-packages (from scikit-learn==0.24.2) (1.19.5)\n",
            "Requirement already satisfied: threadpoolctl>=2.0.0 in /usr/local/lib/python3.7/dist-packages (from scikit-learn==0.24.2) (2.2.0)\n",
            "Requirement already satisfied: joblib>=0.11 in /usr/local/lib/python3.7/dist-packages (from scikit-learn==0.24.2) (1.0.1)\n"
          ],
          "name": "stdout"
        }
      ]
    },
    {
      "cell_type": "code",
      "metadata": {
        "id": "fc6htFgI61wn"
      },
      "source": [
        "#rom bayes_optim.bayesian_optimization import BayesianOptimization\n",
        "import warnings\n",
        "warnings.filterwarnings(action='ignore', category=FutureWarning)\n",
        "# Inline figures\n",
        "%matplotlib inline"
      ],
      "execution_count": 7,
      "outputs": []
    },
    {
      "cell_type": "code",
      "metadata": {
        "id": "KbQI52SY8Zc9"
      },
      "source": [
        "# Figure aesthetics from Seaborn\n",
        "sns.set(context='paper', style='white', font_scale=1.2)\n",
        "sns.set_style('ticks', {'xtick.direction':'in', 'ytick.direction':'in'})"
      ],
      "execution_count": 8,
      "outputs": []
    },
    {
      "cell_type": "code",
      "metadata": {
        "id": "yR1f7smS8aM6"
      },
      "source": [
        "# An ancilary function for showing the confusion matrix, taken from:\n",
        "# https://github.com/amueller/introduction_to_ml_with_python/blob/master/mglearn/tools.py\n",
        "def heatmap(values, xlabel, ylabel, xticklabels, yticklabels, cmap=None,\n",
        "            vmin=None, vmax=None, ax=None, fmt=\"%0.2f\", fontsize=14):\n",
        "    if ax is None:\n",
        "        ax = plt.gca()\n",
        "    # plot the mean cross-validation scores\n",
        "    img = ax.pcolor(values, cmap=cmap, vmin=vmin, vmax=vmax)\n",
        "    img.update_scalarmappable()\n",
        "    ax.set_xlabel(xlabel)\n",
        "    ax.set_ylabel(ylabel)\n",
        "    ax.set_xticks(np.arange(len(xticklabels)) + .5)\n",
        "    ax.set_yticks(np.arange(len(yticklabels)) + .5)\n",
        "    ax.set_xticklabels(xticklabels)\n",
        "    ax.set_yticklabels(yticklabels)\n",
        "    ax.set_aspect(1)\n",
        "\n",
        "    for p, color, value in zip(img.get_paths(), img.get_facecolors(),\n",
        "                               img.get_array()):\n",
        "        x, y = p.vertices[:-2, :].mean(0)\n",
        "        if np.mean(color[:3]) > 0.5:\n",
        "            c = 'k'\n",
        "        else:\n",
        "            c = 'w'\n",
        "        ax.text(x, y, fmt % value, color=c, ha=\"center\", va=\"center\", fontsize=fontsize)\n",
        "    return img"
      ],
      "execution_count": 9,
      "outputs": []
    },
    {
      "cell_type": "code",
      "metadata": {
        "id": "vzF6j_2y8cnv"
      },
      "source": [
        "def matthews_score(y_true, y_pred):\n",
        "    \"\"\"\" Matthews correlation coeficient \n",
        "\n",
        "    Matthews coefficient ranges between -1 and +1. A coefficient of +1 \n",
        "    represents a perfect prediction, 0 no better than random guessing \n",
        "    and -1 indicates a total disagreement between prediction and observation.\n",
        "\n",
        "    Arguments\n",
        "    ---------\n",
        "    y_true: array-like of shape (n_samples,)\n",
        "        Ground truth (correct) target values.\n",
        "    y_pred: array-like of shape (n_samples,)\n",
        "        Estimated targets as returned by a classifier.\n",
        "\n",
        "    Returns\n",
        "    -------\n",
        "    matthews: float\n",
        "        Matthews correlation coefficient between -1 and +1.\n",
        "    \"\"\"\n",
        "    # Confusion matrix\n",
        "    C_mat = metrics.confusion_matrix(y_true, y_pred)\n",
        "    tn = C_mat[0,0]  # true negatives\n",
        "    fn = C_mat[1,0]  # false negatives\n",
        "    tp = C_mat[1,1]  # true positives\n",
        "    fp = C_mat[0,1]  # false positives\n",
        "    # Matthews coefficient\n",
        "    matthews = (tp*tn - fp*fn) / np.sqrt((tp + fp)*(tp + fn)*(tn + fp)*(tn + fn))\n",
        "    return matthews"
      ],
      "execution_count": 10,
      "outputs": []
    },
    {
      "cell_type": "code",
      "metadata": {
        "id": "t-YF0Ref8e6H"
      },
      "source": [
        "def brier_score(y_labels, y_probas):\n",
        "    \"\"\" Briers score for binary classification.\n",
        "\n",
        "    Arguments\n",
        "    ---------\n",
        "    y_labels: array-like\n",
        "        Array with actual class labels (zeros and ones).\n",
        "    y_probas: array-like\n",
        "        Array with probabilities of positive class (of class one).\n",
        "    Returns\n",
        "    -------\n",
        "    BS: float\n",
        "        Briers score value.\n",
        "    \"\"\"\n",
        "    n_samples = len(y_labels)\n",
        "    BS = np.sum((y_labels - y_probas)**2)/float(n_samples)\n",
        "    return BS"
      ],
      "execution_count": 11,
      "outputs": []
    },
    {
      "cell_type": "code",
      "metadata": {
        "id": "ZfZIbShB5on-",
        "colab": {
          "base_uri": "https://localhost:8080/"
        },
        "outputId": "cf9ced0f-721a-4c14-a80c-621ac4a12b71"
      },
      "source": [
        "data.shape\n",
        "# Percentage of \"ones\" in the \"Stability\" column\n",
        "print('There is {:.1f}% of unstable cases in the dataset!'\n",
        "      .format(data['439'].sum()/float(len(data['439']))*100.))"
      ],
      "execution_count": 12,
      "outputs": [
        {
          "output_type": "stream",
          "text": [
            "There is 1.4% of unstable cases in the dataset!\n"
          ],
          "name": "stdout"
        }
      ]
    },
    {
      "cell_type": "code",
      "metadata": {
        "id": "0lA5juzG6Ytn",
        "colab": {
          "base_uri": "https://localhost:8080/"
        },
        "outputId": "e22e7e57-dc49-4f00-a8c7-f3a35428eba8"
      },
      "source": [
        "# Features and target\n",
        "no_features = len(data.columns) - 1\n",
        "X_data = data.iloc[:,0:no_features]  # features\n",
        "print('X_data', X_data.shape)\n",
        "y_data = data['439']"
      ],
      "execution_count": 13,
      "outputs": [
        {
          "output_type": "stream",
          "text": [
            "X_data (12000, 438)\n"
          ],
          "name": "stdout"
        }
      ]
    },
    {
      "cell_type": "code",
      "metadata": {
        "id": "ffhnjNqk6eGs"
      },
      "source": [
        "# Stratified Shuffle Split dataset into train and test sets 分层Shuffle将数据集划分为训练集和测试集\n",
        "# (stratified shuffle split preserves unbalance between categories,分层洗牌分裂保持了类别之间的不平衡\n",
        "# while shuffling and splitting data into train and test sets). 同时将数据变换和拆分为训练集和测试集\n",
        "splitter = StratifiedShuffleSplit(n_splits=1, train_size=0.8, random_state=365)\n",
        "for train_idx, test_idx in splitter.split(X_data, y_data):\n",
        "    X_train = X_data.loc[train_idx]\n",
        "    y_train = y_data.loc[train_idx]\n",
        "    X_test = X_data.loc[test_idx]\n",
        "    y_test = y_data.loc[test_idx]"
      ],
      "execution_count": 14,
      "outputs": []
    },
    {
      "cell_type": "code",
      "metadata": {
        "id": "oK5-2Q9K6sKk"
      },
      "source": [
        "# Standardize the input data\n",
        "scaler = preprocessing.StandardScaler()\n",
        "X_train = scaler.fit_transform(X_train)\n",
        "X_test = scaler.transform(X_test)"
      ],
      "execution_count": 15,
      "outputs": []
    },
    {
      "cell_type": "code",
      "metadata": {
        "id": "Gndp87lp8xWV"
      },
      "source": [
        "# Reserving a portion of the training set for validation\n",
        "# (using the Stratified Shuffle Split). This is only needed\n",
        "# for training autoencoder and a neural network classifier.\n",
        "splitter = StratifiedShuffleSplit(n_splits=1, train_size=0.9, random_state=365)\n",
        "for train_idx, test_idx in splitter.split(X_train, y_train.values):\n",
        "    X_train_part = X_train[train_idx]\n",
        "    y_train_part = y_train.values[train_idx]\n",
        "    X_validation = X_train[test_idx]\n",
        "    y_validation = y_train.values[test_idx]"
      ],
      "execution_count": 16,
      "outputs": []
    },
    {
      "cell_type": "code",
      "metadata": {
        "id": "6wr9R6qs80xZ",
        "colab": {
          "base_uri": "https://localhost:8080/"
        },
        "outputId": "fc4052d1-74ec-4f08-c04d-513f57477a85"
      },
      "source": [
        "print('X_train_part', X_train_part.shape)\n",
        "print('X_validation', X_validation.shape)"
      ],
      "execution_count": 17,
      "outputs": [
        {
          "output_type": "stream",
          "text": [
            "X_train_part (8640, 438)\n",
            "X_validation (960, 438)\n"
          ],
          "name": "stdout"
        }
      ]
    },
    {
      "cell_type": "code",
      "metadata": {
        "id": "u14HvlO182k0"
      },
      "source": [
        "# Codings dimension\n",
        "DIMENSION = 16"
      ],
      "execution_count": 18,
      "outputs": []
    },
    {
      "cell_type": "code",
      "metadata": {
        "id": "8eK-0hAo85Ff",
        "colab": {
          "base_uri": "https://localhost:8080/"
        },
        "outputId": "d284d95f-b360-474d-9068-97608b083b63"
      },
      "source": [
        "L2 = 0.001  # regularization strength (L2 penalty)\n",
        "# Reducing \"no_features\" to low dimensional space with autoencoder\n",
        "input_layer = keras.layers.Input(shape=(no_features,))\n",
        "# Denoising layer (GaussianNoise or Dropout)\n",
        "denoise = keras.layers.Dropout(rate=0.25)(input_layer)\n",
        "#denoise = keras.layers.GaussianNoise(stdev=0.25)(input_layer)  # alter.\n",
        "# \"encoded\" is the encoded representation of the input\n",
        "x = keras.layers.Dense(256, activation='relu', \n",
        "                       kernel_initializer='glorot_normal',\n",
        "                       kernel_regularizer=keras.regularizers.l2(L2))(denoise)\n",
        "x = keras.layers.Dense(128, activation='relu', \n",
        "                       kernel_initializer='glorot_normal',\n",
        "                       kernel_regularizer=keras.regularizers.l2(L2))(x)\n",
        "x = keras.layers.Dense(64, activation='relu', \n",
        "                       kernel_initializer='glorot_normal',\n",
        "                       kernel_regularizer=keras.regularizers.l2(L2))(x)\n",
        "encoded = keras.layers.Dense(DIMENSION, activation='relu',  # encoder dimension\n",
        "                             kernel_initializer='glorot_normal',\n",
        "                             kernel_regularizer=keras.regularizers.l2(L2))(x)\n",
        "# \"decoded\" is the lossy reconstruction of the input\n",
        "x = keras.layers.Dense(64, activation='relu', \n",
        "                       kernel_initializer='glorot_normal',\n",
        "                       kernel_regularizer=keras.regularizers.l2(L2))(encoded)\n",
        "x = keras.layers.Dense(128, activation='relu', \n",
        "                       kernel_initializer='glorot_normal',\n",
        "                       kernel_regularizer=keras.regularizers.l2(L2))(x)\n",
        "x = keras.layers.Dense(256, activation='relu', \n",
        "                       kernel_initializer='glorot_normal',\n",
        "                       kernel_regularizer=keras.regularizers.l2(L2))(x)\n",
        "decoded = keras.layers.Dense(no_features, activation='linear', \n",
        "                             kernel_initializer='glorot_normal',\n",
        "                             kernel_regularizer=keras.regularizers.l2(L2))(x)\n",
        "# Autoencoder\n",
        "autoencoder = keras.models.Model(input_layer, decoded)\n",
        "# Encoder\n",
        "encoder = keras.models.Model(input_layer, encoded)\n",
        "# Compile the model\n",
        "lr_schedule = keras.optimizers.schedules.ExponentialDecay(\n",
        "        initial_learning_rate=1e-3,\n",
        "        decay_steps=500, decay_rate=0.96, staircase=False)\n",
        "adam_schedule = keras.optimizers.Adam(learning_rate=lr_schedule)\n",
        "autoencoder.compile(optimizer=adam_schedule, loss='kullback_leibler_divergence')\n",
        "# Early stopping criteria\n",
        "early_stopping = keras.callbacks.EarlyStopping(monitor='val_loss', min_delta=0.1, \n",
        "                                               patience=10, verbose=1)\n",
        "# Train the autoencoder on the training data\n",
        "history = autoencoder.fit(X_train_part, X_train_part, epochs=100, batch_size=32, \n",
        "                          shuffle=True, validation_data=(X_validation, X_validation), \n",
        "                          callbacks=[early_stopping], verbose=1)"
      ],
      "execution_count": 19,
      "outputs": [
        {
          "output_type": "stream",
          "text": [
            "Epoch 1/100\n",
            "270/270 [==============================] - 3s 9ms/step - loss: 280.9321 - val_loss: 173.5216\n",
            "Epoch 2/100\n",
            "270/270 [==============================] - 2s 7ms/step - loss: 143.6909 - val_loss: 131.6592\n",
            "Epoch 3/100\n",
            "270/270 [==============================] - 2s 7ms/step - loss: 132.0919 - val_loss: 131.6356\n",
            "Epoch 4/100\n",
            "270/270 [==============================] - 2s 7ms/step - loss: 132.0693 - val_loss: 131.6144\n",
            "Epoch 5/100\n",
            "270/270 [==============================] - 2s 7ms/step - loss: 132.0485 - val_loss: 131.5943\n",
            "Epoch 6/100\n",
            "270/270 [==============================] - 2s 7ms/step - loss: 132.0287 - val_loss: 131.5755\n",
            "Epoch 7/100\n",
            "270/270 [==============================] - 2s 7ms/step - loss: 132.0094 - val_loss: 131.5561\n",
            "Epoch 8/100\n",
            "270/270 [==============================] - 2s 7ms/step - loss: 131.9905 - val_loss: 131.5372\n",
            "Epoch 9/100\n",
            "270/270 [==============================] - 2s 7ms/step - loss: 131.9715 - val_loss: 131.5189\n",
            "Epoch 10/100\n",
            "270/270 [==============================] - 2s 7ms/step - loss: 131.9525 - val_loss: 131.5012\n",
            "Epoch 11/100\n",
            "270/270 [==============================] - 2s 7ms/step - loss: 131.9335 - val_loss: 131.4825\n",
            "Epoch 12/100\n",
            "270/270 [==============================] - 2s 7ms/step - loss: 131.9145 - val_loss: 131.4610\n",
            "Epoch 13/100\n",
            "270/270 [==============================] - 2s 7ms/step - loss: 131.8952 - val_loss: 131.4425\n",
            "Epoch 14/100\n",
            "270/270 [==============================] - 2s 8ms/step - loss: 131.8754 - val_loss: 131.4210\n",
            "Epoch 15/100\n",
            "270/270 [==============================] - 2s 8ms/step - loss: 131.8556 - val_loss: 131.4055\n",
            "Epoch 16/100\n",
            "270/270 [==============================] - 2s 7ms/step - loss: 131.8357 - val_loss: 131.3853\n",
            "Epoch 17/100\n",
            "270/270 [==============================] - 2s 7ms/step - loss: 131.8151 - val_loss: 131.3642\n",
            "Epoch 18/100\n",
            "270/270 [==============================] - 2s 7ms/step - loss: 131.7950 - val_loss: 131.3397\n",
            "Epoch 19/100\n",
            "270/270 [==============================] - 2s 7ms/step - loss: 127.0391 - val_loss: 125.1559\n",
            "Epoch 20/100\n",
            "270/270 [==============================] - 2s 7ms/step - loss: 125.7319 - val_loss: 125.1326\n",
            "Epoch 21/100\n",
            "270/270 [==============================] - 2s 7ms/step - loss: 125.7108 - val_loss: 125.1127\n",
            "Epoch 22/100\n",
            "270/270 [==============================] - 2s 7ms/step - loss: 125.6898 - val_loss: 125.0901\n",
            "Epoch 23/100\n",
            "270/270 [==============================] - 2s 7ms/step - loss: 125.6682 - val_loss: 125.0698\n",
            "Epoch 24/100\n",
            "270/270 [==============================] - 2s 7ms/step - loss: 125.6478 - val_loss: 125.0472\n",
            "Epoch 25/100\n",
            "270/270 [==============================] - 2s 8ms/step - loss: 125.6262 - val_loss: 125.0277\n",
            "Epoch 26/100\n",
            "270/270 [==============================] - 2s 8ms/step - loss: 125.6055 - val_loss: 125.0067\n",
            "Epoch 27/100\n",
            "270/270 [==============================] - 2s 7ms/step - loss: 125.5852 - val_loss: 124.9867\n",
            "Epoch 28/100\n",
            "270/270 [==============================] - 2s 8ms/step - loss: 125.5652 - val_loss: 124.9660\n",
            "Epoch 29/100\n",
            "270/270 [==============================] - 2s 7ms/step - loss: 125.5456 - val_loss: 124.9476\n",
            "Epoch 30/100\n",
            "270/270 [==============================] - 2s 7ms/step - loss: 125.5265 - val_loss: 124.9294\n",
            "Epoch 31/100\n",
            "270/270 [==============================] - 2s 7ms/step - loss: 125.5090 - val_loss: 124.9101\n",
            "Epoch 32/100\n",
            "270/270 [==============================] - 2s 7ms/step - loss: 125.4909 - val_loss: 124.8933\n",
            "Epoch 33/100\n",
            "270/270 [==============================] - 2s 7ms/step - loss: 125.4744 - val_loss: 124.8769\n",
            "Epoch 34/100\n",
            "270/270 [==============================] - 2s 7ms/step - loss: 125.4587 - val_loss: 124.8615\n",
            "Epoch 35/100\n",
            "270/270 [==============================] - 2s 8ms/step - loss: 125.4440 - val_loss: 124.8471\n",
            "Epoch 36/100\n",
            "270/270 [==============================] - 2s 8ms/step - loss: 125.4294 - val_loss: 124.8355\n",
            "Epoch 37/100\n",
            "270/270 [==============================] - 2s 7ms/step - loss: 125.4163 - val_loss: 124.8210\n",
            "Epoch 38/100\n",
            "270/270 [==============================] - 2s 8ms/step - loss: 125.4040 - val_loss: 124.8099\n",
            "Epoch 39/100\n",
            "270/270 [==============================] - 2s 8ms/step - loss: 125.3926 - val_loss: 124.7975\n",
            "Epoch 40/100\n",
            "270/270 [==============================] - 2s 8ms/step - loss: 125.3817 - val_loss: 124.7874\n",
            "Epoch 41/100\n",
            "270/270 [==============================] - 2s 7ms/step - loss: 125.3716 - val_loss: 124.7785\n",
            "Epoch 42/100\n",
            "270/270 [==============================] - 2s 8ms/step - loss: 125.3625 - val_loss: 124.7704\n",
            "Epoch 43/100\n",
            "270/270 [==============================] - 2s 7ms/step - loss: 125.3534 - val_loss: 124.7605\n",
            "Epoch 44/100\n",
            "270/270 [==============================] - 2s 7ms/step - loss: 125.3454 - val_loss: 124.7518\n",
            "Epoch 45/100\n",
            "270/270 [==============================] - 2s 7ms/step - loss: 125.3370 - val_loss: 124.7441\n",
            "Epoch 46/100\n",
            "270/270 [==============================] - 2s 7ms/step - loss: 125.3299 - val_loss: 124.7362\n",
            "Epoch 47/100\n",
            "270/270 [==============================] - 2s 8ms/step - loss: 125.3223 - val_loss: 124.7294\n",
            "Epoch 00047: early stopping\n"
          ],
          "name": "stdout"
        }
      ]
    },
    {
      "cell_type": "code",
      "metadata": {
        "id": "g8UxlUvn9JRB",
        "colab": {
          "base_uri": "https://localhost:8080/",
          "height": 279
        },
        "outputId": "49bd3baf-cb16-485e-8f73-0afbf0b1f3b7"
      },
      "source": [
        "plt.plot(history.history['loss'], label='loss')\n",
        "plt.plot(history.history['val_loss'], label='val_loss')\n",
        "plt.legend()\n",
        "plt.grid(axis='y')\n",
        "plt.xlabel('Epochs')\n",
        "plt.ylabel('Loss value')\n",
        "plt.show()"
      ],
      "execution_count": 20,
      "outputs": [
        {
          "output_type": "display_data",
          "data": {
            "image/png": "[encoded data removed]",
            "text/plain": [
              "<Figure size 432x288 with 1 Axes>"
            ]
          },
          "metadata": {
            "tags": []
          }
        }
      ]
    },
    {
      "cell_type": "code",
      "metadata": {
        "id": "JrsaiSXO9Ugg",
        "colab": {
          "base_uri": "https://localhost:8080/"
        },
        "outputId": "2024cf17-4e53-494f-c6fe-24b9aaa9219a"
      },
      "source": [
        "# Encoding training data (with Monte Carlo sampling and averaging)\n",
        "X_train_encoded = np.stack([encoder(X_train, training=True) for sample in range(100)]).mean(axis=0)\n",
        "print(X_train_encoded.shape)\n",
        "# Encoding testing data\n",
        "X_test_encoded = np.stack([encoder(X_test, training=True) for sample in range(100)]).mean(axis=0)\n",
        "print(X_test_encoded.shape)"
      ],
      "execution_count": 21,
      "outputs": [
        {
          "output_type": "stream",
          "text": [
            "(9600, 16)\n",
            "(2400, 16)\n"
          ],
          "name": "stdout"
        }
      ]
    },
    {
      "cell_type": "code",
      "metadata": {
        "id": "Ltf089a49Xjx",
        "colab": {
          "base_uri": "https://localhost:8080/"
        },
        "outputId": "a9a649a0-e02b-45aa-cf69-062a3b9e6a82"
      },
      "source": [
        "# Computing weights for the class balancing of the DNN classifier\n",
        "class_weights = class_weight.compute_class_weight('balanced', np.unique(y_train), y_train)\n",
        "class_weights_dict = dict(zip(np.unique(y_train), class_weights))\n",
        "print(class_weights_dict)"
      ],
      "execution_count": 22,
      "outputs": [
        {
          "output_type": "stream",
          "text": [
            "{0: 0.5070779632368476, 1: 35.82089552238806}\n"
          ],
          "name": "stdout"
        }
      ]
    },
    {
      "cell_type": "code",
      "metadata": {
        "id": "3UoQblOb9b6q",
        "colab": {
          "base_uri": "https://localhost:8080/"
        },
        "outputId": "730d376b-957f-47e3-8b1d-2c86c9c3d9c4"
      },
      "source": [
        "# Clone the encoder model\n",
        "model_clone = keras.models.clone_model(encoder)\n",
        "model_clone.set_weights(encoder.get_weights())\n",
        "# Transfer learning from encoder to classifier\n",
        "classifier_model = keras.models.Sequential(model_clone.layers[:-1])  # exclude last encoder layer\n",
        "# Stack additional layers\n",
        "classifier_model.add(keras.layers.Dense(128, activation='relu',\n",
        "                                        kernel_initializer='glorot_normal',\n",
        "                                        kernel_regularizer=keras.regularizers.l2(L2)))\n",
        "classifier_model.add(keras.layers.Dropout(0.2))\n",
        "classifier_model.add(keras.layers.Dense(64, activation='relu',\n",
        "                                        kernel_initializer='glorot_normal',\n",
        "                                        kernel_regularizer=keras.regularizers.l2(L2)))\n",
        "classifier_model.add(keras.layers.Dropout(0.1))\n",
        "classifier_model.add(keras.layers.Dense(1, activation='sigmoid'))\n",
        "# Freezing layers (except newly added ones)\n",
        "for layer in classifier_model.layers[:-5]:\n",
        "    layer.trainable = False\n",
        "EPOCHS = 200\n",
        "BATCH_SIZE = 32\n",
        "lr_schedule = keras.optimizers.schedules.ExponentialDecay(\n",
        "        initial_learning_rate=1e-3,\n",
        "        decay_steps=200, decay_rate=0.96, staircase=False)\n",
        "adam_schedule = keras.optimizers.Adam(learning_rate=lr_schedule)\n",
        "classifier_model.compile(optimizer=adam_schedule, loss='binary_crossentropy', metrics=['AUC'])\n",
        "early_stopping = keras.callbacks.EarlyStopping(monitor='val_loss', min_delta=0.01, \n",
        "        patience=25, verbose=1, restore_best_weights=True)\n",
        "# Train the classifier (first pass)\n",
        "classification_history = classifier_model.fit(X_train_part, y_train_part, \n",
        "        epochs=EPOCHS, batch_size=BATCH_SIZE, \n",
        "        shuffle=True, validation_data=(X_validation, y_validation),\n",
        "        class_weight=class_weights_dict, callbacks=[early_stopping], verbose=1)"
      ],
      "execution_count": 23,
      "outputs": [
        {
          "output_type": "stream",
          "text": [
            "WARNING:tensorflow:From /usr/local/lib/python3.7/dist-packages/tensorflow/python/ops/array_ops.py:5049: calling gather (from tensorflow.python.ops.array_ops) with validate_indices is deprecated and will be removed in a future version.\n",
            "Instructions for updating:\n",
            "The `validate_indices` argument has no effect. Indices are always validated on CPU and never validated on GPU.\n",
            "Epoch 1/200\n",
            "270/270 [==============================] - 2s 4ms/step - loss: 0.8670 - auc: 0.6654 - val_loss: 0.7427 - val_auc: 0.9364\n",
            "Epoch 2/200\n",
            "270/270 [==============================] - 1s 3ms/step - loss: 0.7011 - auc: 0.8252 - val_loss: 0.6040 - val_auc: 0.9429\n",
            "Epoch 3/200\n",
            "270/270 [==============================] - 1s 3ms/step - loss: 0.5741 - auc: 0.9050 - val_loss: 0.3560 - val_auc: 0.9407\n",
            "Epoch 4/200\n",
            "270/270 [==============================] - 1s 3ms/step - loss: 0.5794 - auc: 0.9025 - val_loss: 0.4134 - val_auc: 0.9531\n",
            "Epoch 5/200\n",
            "270/270 [==============================] - 1s 3ms/step - loss: 0.5271 - auc: 0.9255 - val_loss: 0.6712 - val_auc: 0.9645\n",
            "Epoch 6/200\n",
            "270/270 [==============================] - 1s 3ms/step - loss: 0.5338 - auc: 0.9209 - val_loss: 0.3316 - val_auc: 0.9607\n",
            "Epoch 7/200\n",
            "270/270 [==============================] - 1s 3ms/step - loss: 0.4962 - auc: 0.9363 - val_loss: 0.3109 - val_auc: 0.9647\n",
            "Epoch 8/200\n",
            "270/270 [==============================] - 1s 3ms/step - loss: 0.5378 - auc: 0.9143 - val_loss: 0.4625 - val_auc: 0.9665\n",
            "Epoch 9/200\n",
            "270/270 [==============================] - 1s 3ms/step - loss: 0.4881 - auc: 0.9402 - val_loss: 0.4376 - val_auc: 0.9682\n",
            "Epoch 10/200\n",
            "270/270 [==============================] - 1s 3ms/step - loss: 0.4872 - auc: 0.9398 - val_loss: 0.7085 - val_auc: 0.9694\n",
            "Epoch 11/200\n",
            "270/270 [==============================] - 1s 3ms/step - loss: 0.4725 - auc: 0.9432 - val_loss: 0.2963 - val_auc: 0.9680\n",
            "Epoch 12/200\n",
            "270/270 [==============================] - 1s 3ms/step - loss: 0.4701 - auc: 0.9435 - val_loss: 0.3386 - val_auc: 0.9706\n",
            "Epoch 13/200\n",
            "270/270 [==============================] - 1s 3ms/step - loss: 0.4304 - auc: 0.9545 - val_loss: 0.4931 - val_auc: 0.9718\n",
            "Epoch 14/200\n",
            "270/270 [==============================] - 1s 3ms/step - loss: 0.4682 - auc: 0.9439 - val_loss: 0.4444 - val_auc: 0.9727\n",
            "Epoch 15/200\n",
            "270/270 [==============================] - 1s 3ms/step - loss: 0.4164 - auc: 0.9600 - val_loss: 0.4866 - val_auc: 0.9729\n",
            "Epoch 16/200\n",
            "270/270 [==============================] - 1s 3ms/step - loss: 0.4489 - auc: 0.9494 - val_loss: 0.4673 - val_auc: 0.9723\n",
            "Epoch 17/200\n",
            "270/270 [==============================] - 1s 3ms/step - loss: 0.4059 - auc: 0.9617 - val_loss: 0.5548 - val_auc: 0.9734\n",
            "Epoch 18/200\n",
            "270/270 [==============================] - 1s 3ms/step - loss: 0.4158 - auc: 0.9574 - val_loss: 0.5403 - val_auc: 0.9728\n",
            "Epoch 19/200\n",
            "270/270 [==============================] - 1s 3ms/step - loss: 0.4052 - auc: 0.9630 - val_loss: 0.3589 - val_auc: 0.9744\n",
            "Epoch 20/200\n",
            "270/270 [==============================] - 1s 3ms/step - loss: 0.4100 - auc: 0.9593 - val_loss: 0.3880 - val_auc: 0.9738\n",
            "Epoch 21/200\n",
            "270/270 [==============================] - 1s 3ms/step - loss: 0.3921 - auc: 0.9646 - val_loss: 0.3405 - val_auc: 0.9738\n",
            "Epoch 22/200\n",
            "270/270 [==============================] - 1s 3ms/step - loss: 0.3983 - auc: 0.9630 - val_loss: 0.4426 - val_auc: 0.9734\n",
            "Epoch 23/200\n",
            "270/270 [==============================] - 1s 4ms/step - loss: 0.3993 - auc: 0.9634 - val_loss: 0.3210 - val_auc: 0.9739\n",
            "Epoch 24/200\n",
            "270/270 [==============================] - 1s 4ms/step - loss: 0.3975 - auc: 0.9622 - val_loss: 0.2993 - val_auc: 0.9764\n",
            "Epoch 25/200\n",
            "270/270 [==============================] - 1s 4ms/step - loss: 0.3981 - auc: 0.9609 - val_loss: 0.2648 - val_auc: 0.9763\n",
            "Epoch 26/200\n",
            "270/270 [==============================] - 1s 4ms/step - loss: 0.3697 - auc: 0.9703 - val_loss: 0.2501 - val_auc: 0.9761\n",
            "Epoch 27/200\n",
            "270/270 [==============================] - 1s 3ms/step - loss: 0.3789 - auc: 0.9670 - val_loss: 0.2971 - val_auc: 0.9763\n",
            "Epoch 28/200\n",
            "270/270 [==============================] - 1s 3ms/step - loss: 0.3683 - auc: 0.9710 - val_loss: 0.3291 - val_auc: 0.9784\n",
            "Epoch 29/200\n",
            "270/270 [==============================] - 1s 4ms/step - loss: 0.3918 - auc: 0.9629 - val_loss: 0.3361 - val_auc: 0.9775\n",
            "Epoch 30/200\n",
            "270/270 [==============================] - 1s 4ms/step - loss: 0.3816 - auc: 0.9653 - val_loss: 0.3927 - val_auc: 0.9759\n",
            "Epoch 31/200\n",
            "270/270 [==============================] - 1s 4ms/step - loss: 0.3627 - auc: 0.9713 - val_loss: 0.3301 - val_auc: 0.9768\n",
            "Epoch 32/200\n",
            "270/270 [==============================] - 1s 3ms/step - loss: 0.3941 - auc: 0.9640 - val_loss: 0.3699 - val_auc: 0.9764\n",
            "Epoch 33/200\n",
            "270/270 [==============================] - 1s 3ms/step - loss: 0.3940 - auc: 0.9625 - val_loss: 0.3265 - val_auc: 0.9774\n",
            "Epoch 34/200\n",
            "270/270 [==============================] - 1s 3ms/step - loss: 0.3678 - auc: 0.9697 - val_loss: 0.3910 - val_auc: 0.9766\n",
            "Epoch 35/200\n",
            "270/270 [==============================] - 1s 3ms/step - loss: 0.3824 - auc: 0.9666 - val_loss: 0.2904 - val_auc: 0.9777\n",
            "Epoch 36/200\n",
            "270/270 [==============================] - 1s 3ms/step - loss: 0.3947 - auc: 0.9622 - val_loss: 0.3032 - val_auc: 0.9773\n",
            "Epoch 37/200\n",
            "270/270 [==============================] - 1s 3ms/step - loss: 0.3644 - auc: 0.9699 - val_loss: 0.2905 - val_auc: 0.9781\n",
            "Epoch 38/200\n",
            "270/270 [==============================] - 1s 3ms/step - loss: 0.3867 - auc: 0.9645 - val_loss: 0.3071 - val_auc: 0.9775\n",
            "Epoch 39/200\n",
            "270/270 [==============================] - 1s 4ms/step - loss: 0.3936 - auc: 0.9643 - val_loss: 0.3341 - val_auc: 0.9780\n",
            "Epoch 40/200\n",
            "270/270 [==============================] - 1s 4ms/step - loss: 0.3684 - auc: 0.9695 - val_loss: 0.3071 - val_auc: 0.9776\n",
            "Epoch 41/200\n",
            "270/270 [==============================] - 1s 4ms/step - loss: 0.3427 - auc: 0.9763 - val_loss: 0.2916 - val_auc: 0.9788\n",
            "Epoch 42/200\n",
            "270/270 [==============================] - 1s 4ms/step - loss: 0.3681 - auc: 0.9701 - val_loss: 0.3531 - val_auc: 0.9777\n",
            "Epoch 43/200\n",
            "270/270 [==============================] - 1s 4ms/step - loss: 0.3633 - auc: 0.9701 - val_loss: 0.3003 - val_auc: 0.9786\n",
            "Epoch 44/200\n",
            "270/270 [==============================] - 1s 4ms/step - loss: 0.3685 - auc: 0.9691 - val_loss: 0.2817 - val_auc: 0.9779\n",
            "Epoch 45/200\n",
            "270/270 [==============================] - 1s 4ms/step - loss: 0.3504 - auc: 0.9738 - val_loss: 0.2753 - val_auc: 0.9796\n",
            "Epoch 46/200\n",
            "270/270 [==============================] - 1s 4ms/step - loss: 0.3655 - auc: 0.9700 - val_loss: 0.3300 - val_auc: 0.9785\n",
            "Epoch 47/200\n",
            "270/270 [==============================] - 1s 4ms/step - loss: 0.3654 - auc: 0.9693 - val_loss: 0.3119 - val_auc: 0.9791\n",
            "Epoch 48/200\n",
            "270/270 [==============================] - 1s 4ms/step - loss: 0.3649 - auc: 0.9695 - val_loss: 0.3133 - val_auc: 0.9784\n",
            "Epoch 49/200\n",
            "270/270 [==============================] - 1s 4ms/step - loss: 0.3403 - auc: 0.9763 - val_loss: 0.2944 - val_auc: 0.9786\n",
            "Epoch 50/200\n",
            "270/270 [==============================] - 1s 4ms/step - loss: 0.3769 - auc: 0.9674 - val_loss: 0.3500 - val_auc: 0.9779\n",
            "Epoch 51/200\n",
            "270/270 [==============================] - 1s 4ms/step - loss: 0.3557 - auc: 0.9722 - val_loss: 0.2924 - val_auc: 0.9790\n",
            "Restoring model weights from the end of the best epoch.\n",
            "Epoch 00051: early stopping\n"
          ],
          "name": "stdout"
        }
      ]
    },
    {
      "cell_type": "code",
      "metadata": {
        "id": "1hmaXa-99nD_",
        "colab": {
          "base_uri": "https://localhost:8080/",
          "height": 295
        },
        "outputId": "d6e3da99-3795-4a0a-b77f-88ae03c064e3"
      },
      "source": [
        "plt.figure(figsize=(5.5,4))\n",
        "plt.title('Network training phase')\n",
        "plt.plot(classification_history.history['loss'], label='training')\n",
        "plt.plot(classification_history.history['val_loss'], label='validation')\n",
        "plt.legend()\n",
        "plt.grid(axis='y')\n",
        "plt.xlabel('Epochs')\n",
        "plt.ylabel('Loss value')\n",
        "plt.show()"
      ],
      "execution_count": 24,
      "outputs": [
        {
          "output_type": "display_data",
          "data": {
            "image/png": "[encoded data removed]",
            "text/plain": [
              "<Figure size 396x288 with 1 Axes>"
            ]
          },
          "metadata": {
            "tags": []
          }
        }
      ]
    },
    {
      "cell_type": "code",
      "metadata": {
        "id": "JKqCspjv9_Bo",
        "colab": {
          "base_uri": "https://localhost:8080/"
        },
        "outputId": "6d607351-0ab8-4e85-f92a-26110967da51"
      },
      "source": [
        "classifier_model.layers"
      ],
      "execution_count": 25,
      "outputs": [
        {
          "output_type": "execute_result",
          "data": {
            "text/plain": [
              "[<tensorflow.python.keras.layers.core.Dropout at 0x7f8e8c5ce7d0>,\n",
              " <tensorflow.python.keras.layers.core.Dense at 0x7f8ecb684290>,\n",
              " <tensorflow.python.keras.layers.core.Dense at 0x7f8ecb676f50>,\n",
              " <tensorflow.python.keras.layers.core.Dense at 0x7f8edebc92d0>,\n",
              " <tensorflow.python.keras.layers.core.Dense at 0x7f8e85171110>,\n",
              " <tensorflow.python.keras.layers.core.Dropout at 0x7f8e85173cd0>,\n",
              " <tensorflow.python.keras.layers.core.Dense at 0x7f8e856183d0>,\n",
              " <tensorflow.python.keras.layers.core.Dropout at 0x7f8e8513e090>,\n",
              " <tensorflow.python.keras.layers.core.Dense at 0x7f8e8513e750>]"
            ]
          },
          "metadata": {
            "tags": []
          },
          "execution_count": 25
        }
      ]
    },
    {
      "cell_type": "code",
      "metadata": {
        "id": "8ItVDaK-9_wl",
        "colab": {
          "base_uri": "https://localhost:8080/"
        },
        "outputId": "a01ba020-701a-4935-f24c-e168a90092d1"
      },
      "source": [
        "# Un-freezing selected layers for fine-tuning\n",
        "for layer in classifier_model.layers[3:-5]:\n",
        "    print(layer)\n",
        "    layer.trainable = True"
      ],
      "execution_count": 26,
      "outputs": [
        {
          "output_type": "stream",
          "text": [
            "<tensorflow.python.keras.layers.core.Dense object at 0x7f8edebc92d0>\n"
          ],
          "name": "stdout"
        }
      ]
    },
    {
      "cell_type": "code",
      "metadata": {
        "id": "iF0UzcbM-Bf-",
        "colab": {
          "base_uri": "https://localhost:8080/"
        },
        "outputId": "c0295b67-a764-4b97-f16f-ab18618503ad"
      },
      "source": [
        "# Fine-tuning network weights with a reduced learning rate (second pass)\n",
        "lr_schedule = keras.optimizers.schedules.ExponentialDecay(\n",
        "        initial_learning_rate=1e-4,  # lower initial rate\n",
        "        decay_steps=100, decay_rate=0.96, staircase=False)\n",
        "adam = keras.optimizers.Adam(learning_rate=lr_schedule)\n",
        "early_stopping = keras.callbacks.EarlyStopping(monitor='val_loss', min_delta=0.01, \n",
        "        patience=50, verbose=1, restore_best_weights=True)\n",
        "classifier_model.compile(optimizer=adam, loss='binary_crossentropy', metrics=['AUC'])\n",
        "fine_tuning_history = classifier_model.fit(X_train_part, y_train_part, \n",
        "        epochs=EPOCHS, batch_size=BATCH_SIZE, \n",
        "        shuffle=False, validation_data=(X_validation, y_validation),\n",
        "        class_weight=class_weights_dict, callbacks=[early_stopping], verbose=1)"
      ],
      "execution_count": 27,
      "outputs": [
        {
          "output_type": "stream",
          "text": [
            "Epoch 1/200\n",
            "270/270 [==============================] - 2s 5ms/step - loss: 0.4276 - auc: 0.9545 - val_loss: 0.4044 - val_auc: 0.9763\n",
            "Epoch 2/200\n",
            "270/270 [==============================] - 1s 4ms/step - loss: 0.3600 - auc: 0.9713 - val_loss: 0.3153 - val_auc: 0.9796\n",
            "Epoch 3/200\n",
            "270/270 [==============================] - 1s 3ms/step - loss: 0.3802 - auc: 0.9666 - val_loss: 0.3283 - val_auc: 0.9803\n",
            "Epoch 4/200\n",
            "270/270 [==============================] - 1s 4ms/step - loss: 0.3672 - auc: 0.9711 - val_loss: 0.3196 - val_auc: 0.9814\n",
            "Epoch 5/200\n",
            "270/270 [==============================] - 1s 5ms/step - loss: 0.3533 - auc: 0.9735 - val_loss: 0.2985 - val_auc: 0.9825\n",
            "Epoch 6/200\n",
            "270/270 [==============================] - 1s 4ms/step - loss: 0.3415 - auc: 0.9751 - val_loss: 0.2816 - val_auc: 0.9828\n",
            "Epoch 7/200\n",
            "270/270 [==============================] - 1s 3ms/step - loss: 0.3833 - auc: 0.9656 - val_loss: 0.3363 - val_auc: 0.9803\n",
            "Epoch 8/200\n",
            "270/270 [==============================] - 1s 4ms/step - loss: 0.3536 - auc: 0.9743 - val_loss: 0.2941 - val_auc: 0.9808\n",
            "Epoch 9/200\n",
            "270/270 [==============================] - 1s 4ms/step - loss: 0.3218 - auc: 0.9802 - val_loss: 0.2894 - val_auc: 0.9803\n",
            "Epoch 10/200\n",
            "270/270 [==============================] - 1s 4ms/step - loss: 0.3038 - auc: 0.9831 - val_loss: 0.2703 - val_auc: 0.9819\n",
            "Epoch 11/200\n",
            "270/270 [==============================] - 1s 3ms/step - loss: 0.3235 - auc: 0.9791 - val_loss: 0.2921 - val_auc: 0.9820\n",
            "Epoch 12/200\n",
            "270/270 [==============================] - 1s 4ms/step - loss: 0.3245 - auc: 0.9775 - val_loss: 0.3055 - val_auc: 0.9825\n",
            "Epoch 13/200\n",
            "270/270 [==============================] - 1s 4ms/step - loss: 0.3248 - auc: 0.9800 - val_loss: 0.2825 - val_auc: 0.9828\n",
            "Epoch 14/200\n",
            "270/270 [==============================] - 1s 4ms/step - loss: 0.3131 - auc: 0.9816 - val_loss: 0.2766 - val_auc: 0.9824\n",
            "Epoch 15/200\n",
            "270/270 [==============================] - 1s 4ms/step - loss: 0.3281 - auc: 0.9793 - val_loss: 0.2722 - val_auc: 0.9825\n",
            "Epoch 16/200\n",
            "270/270 [==============================] - 1s 4ms/step - loss: 0.3476 - auc: 0.9752 - val_loss: 0.2867 - val_auc: 0.9827\n",
            "Epoch 17/200\n",
            "270/270 [==============================] - 1s 4ms/step - loss: 0.3252 - auc: 0.9779 - val_loss: 0.2811 - val_auc: 0.9829\n",
            "Epoch 18/200\n",
            "270/270 [==============================] - 1s 4ms/step - loss: 0.3236 - auc: 0.9801 - val_loss: 0.2685 - val_auc: 0.9832\n",
            "Epoch 19/200\n",
            "270/270 [==============================] - 1s 4ms/step - loss: 0.3060 - auc: 0.9824 - val_loss: 0.2756 - val_auc: 0.9832\n",
            "Epoch 20/200\n",
            "270/270 [==============================] - 1s 4ms/step - loss: 0.3189 - auc: 0.9802 - val_loss: 0.2955 - val_auc: 0.9829\n",
            "Epoch 21/200\n",
            "270/270 [==============================] - 1s 4ms/step - loss: 0.3115 - auc: 0.9821 - val_loss: 0.2924 - val_auc: 0.9833\n",
            "Epoch 22/200\n",
            "270/270 [==============================] - 1s 4ms/step - loss: 0.3057 - auc: 0.9838 - val_loss: 0.2703 - val_auc: 0.9836\n",
            "Epoch 23/200\n",
            "270/270 [==============================] - 1s 4ms/step - loss: 0.3537 - auc: 0.9743 - val_loss: 0.3005 - val_auc: 0.9827\n",
            "Epoch 24/200\n",
            "270/270 [==============================] - 1s 4ms/step - loss: 0.3179 - auc: 0.9798 - val_loss: 0.2884 - val_auc: 0.9832\n",
            "Epoch 25/200\n",
            "270/270 [==============================] - 1s 4ms/step - loss: 0.3168 - auc: 0.9812 - val_loss: 0.2734 - val_auc: 0.9834\n",
            "Epoch 26/200\n",
            "270/270 [==============================] - 1s 4ms/step - loss: 0.2993 - auc: 0.9849 - val_loss: 0.2615 - val_auc: 0.9839\n",
            "Epoch 27/200\n",
            "270/270 [==============================] - 1s 4ms/step - loss: 0.3271 - auc: 0.9810 - val_loss: 0.2764 - val_auc: 0.9838\n",
            "Epoch 28/200\n",
            "270/270 [==============================] - 1s 4ms/step - loss: 0.3027 - auc: 0.9824 - val_loss: 0.2799 - val_auc: 0.9837\n",
            "Epoch 29/200\n",
            "270/270 [==============================] - 1s 4ms/step - loss: 0.3219 - auc: 0.9802 - val_loss: 0.2908 - val_auc: 0.9834\n",
            "Epoch 30/200\n",
            "270/270 [==============================] - 1s 4ms/step - loss: 0.2915 - auc: 0.9865 - val_loss: 0.2714 - val_auc: 0.9838\n",
            "Epoch 31/200\n",
            "270/270 [==============================] - 1s 4ms/step - loss: 0.3082 - auc: 0.9825 - val_loss: 0.2726 - val_auc: 0.9838\n",
            "Epoch 32/200\n",
            "270/270 [==============================] - 1s 4ms/step - loss: 0.3119 - auc: 0.9820 - val_loss: 0.2792 - val_auc: 0.9836\n",
            "Epoch 33/200\n",
            "270/270 [==============================] - 1s 4ms/step - loss: 0.3386 - auc: 0.9771 - val_loss: 0.2929 - val_auc: 0.9830\n",
            "Epoch 34/200\n",
            "270/270 [==============================] - 1s 4ms/step - loss: 0.3078 - auc: 0.9819 - val_loss: 0.2755 - val_auc: 0.9837\n",
            "Epoch 35/200\n",
            "270/270 [==============================] - 1s 4ms/step - loss: 0.2990 - auc: 0.9842 - val_loss: 0.2707 - val_auc: 0.9837\n",
            "Epoch 36/200\n",
            "270/270 [==============================] - 1s 4ms/step - loss: 0.3216 - auc: 0.9797 - val_loss: 0.2790 - val_auc: 0.9833\n",
            "Epoch 37/200\n",
            "270/270 [==============================] - 1s 5ms/step - loss: 0.3158 - auc: 0.9816 - val_loss: 0.2776 - val_auc: 0.9833\n",
            "Epoch 38/200\n",
            "270/270 [==============================] - 1s 4ms/step - loss: 0.3077 - auc: 0.9832 - val_loss: 0.2738 - val_auc: 0.9836\n",
            "Epoch 39/200\n",
            "270/270 [==============================] - 1s 4ms/step - loss: 0.3115 - auc: 0.9822 - val_loss: 0.2741 - val_auc: 0.9835\n",
            "Epoch 40/200\n",
            "270/270 [==============================] - 1s 4ms/step - loss: 0.3093 - auc: 0.9818 - val_loss: 0.2744 - val_auc: 0.9836\n",
            "Epoch 41/200\n",
            "270/270 [==============================] - 1s 4ms/step - loss: 0.2976 - auc: 0.9843 - val_loss: 0.2724 - val_auc: 0.9838\n",
            "Epoch 42/200\n",
            "270/270 [==============================] - 1s 4ms/step - loss: 0.3293 - auc: 0.9786 - val_loss: 0.2744 - val_auc: 0.9837\n",
            "Epoch 43/200\n",
            "270/270 [==============================] - 1s 4ms/step - loss: 0.3110 - auc: 0.9822 - val_loss: 0.2764 - val_auc: 0.9837\n",
            "Epoch 44/200\n",
            "270/270 [==============================] - 1s 4ms/step - loss: 0.3385 - auc: 0.9761 - val_loss: 0.2809 - val_auc: 0.9835\n",
            "Epoch 45/200\n",
            "270/270 [==============================] - 1s 4ms/step - loss: 0.3162 - auc: 0.9832 - val_loss: 0.2786 - val_auc: 0.9837\n",
            "Epoch 46/200\n",
            "270/270 [==============================] - 1s 4ms/step - loss: 0.3123 - auc: 0.9821 - val_loss: 0.2784 - val_auc: 0.9837\n",
            "Epoch 47/200\n",
            "270/270 [==============================] - 1s 4ms/step - loss: 0.3054 - auc: 0.9836 - val_loss: 0.2759 - val_auc: 0.9838\n",
            "Epoch 48/200\n",
            "270/270 [==============================] - 1s 4ms/step - loss: 0.3191 - auc: 0.9808 - val_loss: 0.2762 - val_auc: 0.9837\n",
            "Epoch 49/200\n",
            "270/270 [==============================] - 1s 4ms/step - loss: 0.3183 - auc: 0.9805 - val_loss: 0.2775 - val_auc: 0.9838\n",
            "Epoch 50/200\n",
            "270/270 [==============================] - 1s 4ms/step - loss: 0.3085 - auc: 0.9823 - val_loss: 0.2759 - val_auc: 0.9839\n",
            "Epoch 51/200\n",
            "270/270 [==============================] - 1s 4ms/step - loss: 0.3123 - auc: 0.9810 - val_loss: 0.2763 - val_auc: 0.9837\n",
            "Epoch 52/200\n",
            "270/270 [==============================] - 1s 4ms/step - loss: 0.3051 - auc: 0.9824 - val_loss: 0.2766 - val_auc: 0.9838\n",
            "Epoch 53/200\n",
            "270/270 [==============================] - 1s 4ms/step - loss: 0.3073 - auc: 0.9824 - val_loss: 0.2770 - val_auc: 0.9840\n",
            "Epoch 54/200\n",
            "270/270 [==============================] - 1s 4ms/step - loss: 0.3099 - auc: 0.9817 - val_loss: 0.2773 - val_auc: 0.9839\n",
            "Epoch 55/200\n",
            "270/270 [==============================] - 1s 4ms/step - loss: 0.3190 - auc: 0.9821 - val_loss: 0.2773 - val_auc: 0.9839\n",
            "Epoch 56/200\n",
            "270/270 [==============================] - 1s 4ms/step - loss: 0.3062 - auc: 0.9835 - val_loss: 0.2769 - val_auc: 0.9840\n",
            "Epoch 57/200\n",
            "270/270 [==============================] - 1s 4ms/step - loss: 0.3030 - auc: 0.9838 - val_loss: 0.2761 - val_auc: 0.9838\n",
            "Epoch 58/200\n",
            "270/270 [==============================] - 1s 4ms/step - loss: 0.3051 - auc: 0.9814 - val_loss: 0.2758 - val_auc: 0.9839\n",
            "Epoch 59/200\n",
            "270/270 [==============================] - 1s 4ms/step - loss: 0.3325 - auc: 0.9773 - val_loss: 0.2764 - val_auc: 0.9838\n",
            "Epoch 60/200\n",
            "270/270 [==============================] - 1s 4ms/step - loss: 0.3137 - auc: 0.9819 - val_loss: 0.2761 - val_auc: 0.9838\n",
            "Restoring model weights from the end of the best epoch.\n",
            "Epoch 00060: early stopping\n"
          ],
          "name": "stdout"
        }
      ]
    },
    {
      "cell_type": "code",
      "metadata": {
        "id": "-B8I5eKj-Vy_",
        "colab": {
          "base_uri": "https://localhost:8080/",
          "height": 295
        },
        "outputId": "dcd3fdc5-ff93-4a93-e2cc-8249bc9a1a55"
      },
      "source": [
        "plt.figure(figsize=(5.5,4))\n",
        "plt.title('Network fine-tunning phase')\n",
        "plt.plot(fine_tuning_history.history['loss'], label='training')\n",
        "plt.plot(fine_tuning_history.history['val_loss'], label='validation')\n",
        "plt.legend()\n",
        "plt.grid(axis='y')\n",
        "plt.xlabel('Epochs')\n",
        "plt.ylabel('Loss value')\n",
        "plt.show()"
      ],
      "execution_count": 28,
      "outputs": [
        {
          "output_type": "display_data",
          "data": {
            "image/png": "[encoded data removed]",
            "text/plain": [
              "<Figure size 396x288 with 1 Axes>"
            ]
          },
          "metadata": {
            "tags": []
          }
        }
      ]
    },
    {
      "cell_type": "code",
      "metadata": {
        "id": "1OR8h0om-eD_",
        "colab": {
          "base_uri": "https://localhost:8080/",
          "height": 222
        },
        "outputId": "fd376b26-4fe8-4cbd-df40-77727e9c6da0"
      },
      "source": [
        "fig, ax = plt.subplots(1, 2, figsize=(7,3))\n",
        "#ax[0].set_title('Network training phase')\n",
        "ax[0].plot(classification_history.history['loss'], label='training')\n",
        "ax[0].plot(classification_history.history['val_loss'], label='validation')\n",
        "ax[0].set_xlabel('Epochs')\n",
        "ax[0].set_ylabel('Loss value')\n",
        "ax[0].legend(loc='upper right')\n",
        "ax[0].grid(axis='y')\n",
        "#ax[1].set_title('Network fine-tuning phase')\n",
        "ax[1].plot(fine_tuning_history.history['loss'], label='training')\n",
        "ax[1].plot(fine_tuning_history.history['val_loss'], label='validation')\n",
        "ax[1].set_xlabel('Epochs')\n",
        "ax[1].set_ylabel('Loss value')\n",
        "ax[1].legend(loc='upper right')\n",
        "ax[1].grid(axis='y')\n",
        "fig.tight_layout()\n",
        "plt.show()\n"
      ],
      "execution_count": 29,
      "outputs": [
        {
          "output_type": "display_data",
          "data": {
            "image/png": "[encoded data removed]",
            "text/plain": [
              "<Figure size 504x216 with 2 Axes>"
            ]
          },
          "metadata": {
            "tags": []
          }
        }
      ]
    },
    {
      "cell_type": "code",
      "metadata": {
        "id": "aur8rzGQ-mmy"
      },
      "source": [
        "y_scores = classifier_model.predict(X_test).flatten()"
      ],
      "execution_count": 30,
      "outputs": []
    },
    {
      "cell_type": "code",
      "metadata": {
        "id": "wpk0xqv7-oR-",
        "colab": {
          "base_uri": "https://localhost:8080/"
        },
        "outputId": "6f5bba72-637d-414f-c04c-006e2559ee9f"
      },
      "source": [
        "y_scores.shape"
      ],
      "execution_count": 31,
      "outputs": [
        {
          "output_type": "execute_result",
          "data": {
            "text/plain": [
              "(2400,)"
            ]
          },
          "metadata": {
            "tags": []
          },
          "execution_count": 31
        }
      ]
    },
    {
      "cell_type": "code",
      "metadata": {
        "id": "GqnCk5Fo-qOh",
        "colab": {
          "base_uri": "https://localhost:8080/"
        },
        "outputId": "fffc7e0b-2033-43d3-eccd-7f9ed043fa63"
      },
      "source": [
        "# Precision/recall trade-off \n",
        "precisions, recalls, thresholds = metrics.precision_recall_curve(y_test, y_scores)\n",
        "# Find a best threshold value (where precision and recall curves intersect)\n",
        "EPSILON = 1e-3  # Tolerance\n",
        "THRESHOLD = thresholds[np.argwhere(abs(precisions - recalls) < EPSILON)][0][0]\n",
        "print(THRESHOLD)"
      ],
      "execution_count": 32,
      "outputs": [
        {
          "output_type": "stream",
          "text": [
            "0.94857776\n"
          ],
          "name": "stdout"
        }
      ]
    },
    {
      "cell_type": "code",
      "metadata": {
        "id": "qtNcibLW-sV0"
      },
      "source": [
        "def precision_recall_tradeoff(thresholds, precisions, recalls, threshold, title=''):\n",
        "    fig, ax = plt.subplots(figsize=(5.5,3.5))\n",
        "    ax.set_title(title)\n",
        "    ax.plot(thresholds, precisions[:-1], lw=2, label='Precision')\n",
        "    ax.plot(thresholds, recalls[:-1], lw=2, label='Recall')\n",
        "    plt.vlines(threshold, 0, 1, linestyles='--', color='dimgrey', \n",
        "               label='Threshold = {:.2f}'.format(threshold))\n",
        "    ax.set_xlabel('Thresholds')\n",
        "    ax.set_ylabel('Precision / Recall')\n",
        "    ax.legend(loc='center left')\n",
        "    ax.grid()\n",
        "    fig.tight_layout()\n",
        "    plt.show()\n",
        "    return"
      ],
      "execution_count": 33,
      "outputs": []
    },
    {
      "cell_type": "code",
      "metadata": {
        "id": "zgY9XEI4-vN8",
        "colab": {
          "base_uri": "https://localhost:8080/",
          "height": 258
        },
        "outputId": "a4c37086-257f-47aa-992d-a44a2487552b"
      },
      "source": [
        "# Show precision/recall curves\n",
        "precision_recall_tradeoff(thresholds, precisions, recalls, THRESHOLD, title='DNN classifier')"
      ],
      "execution_count": 34,
      "outputs": [
        {
          "output_type": "display_data",
          "data": {
            "image/png": "[encoded data removed]",
            "text/plain": [
              "<Figure size 396x252 with 1 Axes>"
            ]
          },
          "metadata": {
            "tags": []
          }
        }
      ]
    },
    {
      "cell_type": "code",
      "metadata": {
        "id": "lfIUPg0C-30_"
      },
      "source": [
        "pred = np.where(y_scores >= THRESHOLD, 1, 0)"
      ],
      "execution_count": 35,
      "outputs": []
    },
    {
      "cell_type": "code",
      "metadata": {
        "id": "QIr8LR7l-6uQ",
        "colab": {
          "base_uri": "https://localhost:8080/"
        },
        "outputId": "20e47240-e2af-4875-e1ca-908f37611e99"
      },
      "source": [
        " #Monte Carlo predictions\n",
        "predictions = np.stack([classifier_model(X_test, training=True) for sample in range(100)])\n",
        "predictions = predictions.reshape(100, -1)\n",
        "predictions.shape"
      ],
      "execution_count": 36,
      "outputs": [
        {
          "output_type": "execute_result",
          "data": {
            "text/plain": [
              "(100, 2400)"
            ]
          },
          "metadata": {
            "tags": []
          },
          "execution_count": 36
        }
      ]
    },
    {
      "cell_type": "code",
      "metadata": {
        "id": "yVRGsBmf_Cdj"
      },
      "source": [
        "# Showing boxplots for select cases\n",
        "predicts = pd.DataFrame(predictions[:,[11,12,13,16,19]], \n",
        "                        columns=['Case {:d}'.format(i+1) for i in range(5)])"
      ],
      "execution_count": 37,
      "outputs": []
    },
    {
      "cell_type": "code",
      "metadata": {
        "id": "ThrTMh1o_DUX",
        "colab": {
          "base_uri": "https://localhost:8080/",
          "height": 422
        },
        "outputId": "c03c0c40-d819-4cbe-985f-12cb96680e04"
      },
      "source": [
        "fig, ax = plt.subplots(figsize=(6,4))\n",
        "sns.boxplot(data=predicts, orient='v', ax=ax, showmeans=True, \n",
        "            meanprops={'marker': '*', 'markeredgecolor': 'black', 'markersize': '10'})\n",
        "sns.swarmplot(data=predicts, orient='v', size=3, color='.3', alpha=0.7, ax=ax)\n",
        "ax.axhline(THRESHOLD, ls='--', lw=2, color='dimgrey', label='Threshold = {:.2f}'.format(THRESHOLD))\n",
        "ax.legend(loc='upper left')\n",
        "ax.set_ylabel('Probability')\n",
        "fig.tight_layout()\n",
        "plt.show()"
      ],
      "execution_count": 38,
      "outputs": [
        {
          "output_type": "stream",
          "text": [
            "/usr/local/lib/python3.7/dist-packages/seaborn/categorical.py:1296: UserWarning: 61.0% of the points cannot be placed; you may want to decrease the size of the markers or use stripplot.\n",
            "  warnings.warn(msg, UserWarning)\n",
            "/usr/local/lib/python3.7/dist-packages/seaborn/categorical.py:1296: UserWarning: 72.0% of the points cannot be placed; you may want to decrease the size of the markers or use stripplot.\n",
            "  warnings.warn(msg, UserWarning)\n",
            "/usr/local/lib/python3.7/dist-packages/seaborn/categorical.py:1296: UserWarning: 36.0% of the points cannot be placed; you may want to decrease the size of the markers or use stripplot.\n",
            "  warnings.warn(msg, UserWarning)\n"
          ],
          "name": "stderr"
        },
        {
          "output_type": "display_data",
          "data": {
            "image/png": "[encoded data removed]",
            "text/plain": [
              "<Figure size 432x288 with 1 Axes>"
            ]
          },
          "metadata": {
            "tags": []
          }
        }
      ]
    },
    {
      "cell_type": "code",
      "metadata": {
        "id": "c5DLohOU_JGF"
      },
      "source": [
        "def show_confusion_matrix(y_true, y_pred, labels, title):\n",
        "    scores_image = heatmap(metrics.confusion_matrix(y_true, y_pred), xlabel='Predicted label', \n",
        "                       ylabel='True label', xticklabels=labels, yticklabels=labels, \n",
        "                       cmap=plt.cm.gray_r, fmt=\"%d\")\n",
        "    plt.title(title)\n",
        "    plt.gca().invert_yaxis()\n",
        "    plt.show()\n",
        "    return"
      ],
      "execution_count": 39,
      "outputs": []
    },
    {
      "cell_type": "code",
      "metadata": {
        "id": "Nk1U2Dnv_S2P",
        "colab": {
          "base_uri": "https://localhost:8080/",
          "height": 295
        },
        "outputId": "b79d7a8c-6cd1-409c-bb48-cc6dd90a9860"
      },
      "source": [
        "labels = ['Stable', 'Unstable']\n",
        "# confusion matrix\n",
        "show_confusion_matrix(y_test, pred, labels, title='DNN classifier')"
      ],
      "execution_count": 40,
      "outputs": [
        {
          "output_type": "display_data",
          "data": {
            "image/png": "[encoded data removed]",
            "text/plain": [
              "<Figure size 432x288 with 1 Axes>"
            ]
          },
          "metadata": {
            "tags": []
          }
        }
      ]
    },
    {
      "cell_type": "code",
      "metadata": {
        "id": "m0XvtY21_V4R",
        "colab": {
          "base_uri": "https://localhost:8080/"
        },
        "outputId": "f3ade6b6-ffc5-408e-d4f6-9a549acb6fde"
      },
      "source": [
        "# classification report\n",
        "print(metrics.classification_report(y_test, pred, target_names=labels))"
      ],
      "execution_count": 41,
      "outputs": [
        {
          "output_type": "stream",
          "text": [
            "              precision    recall  f1-score   support\n",
            "\n",
            "      Stable       0.99      0.99      0.99      2367\n",
            "    Unstable       0.48      0.48      0.48        33\n",
            "\n",
            "    accuracy                           0.99      2400\n",
            "   macro avg       0.74      0.74      0.74      2400\n",
            "weighted avg       0.99      0.99      0.99      2400\n",
            "\n"
          ],
          "name": "stdout"
        }
      ]
    },
    {
      "cell_type": "code",
      "metadata": {
        "id": "zrqdSWPg_gXW"
      },
      "source": [
        "dnn_data = pd.DataFrame(data=[metrics.accuracy_score(y_test, pred), \n",
        "                              metrics.recall_score(y_test, pred),\n",
        "                              metrics.precision_score(y_test, pred), \n",
        "                              metrics.roc_auc_score(y_test, pred),\n",
        "                              metrics.f1_score(y_test, pred), \n",
        "                              matthews_score(y_test, pred), \n",
        "                              brier_score(y_test, y_scores)],\n",
        "                        index=[\"accuracy\", \"recall\", \"precision\", \"roc_auc_score\", \n",
        "                               \"f1-score\", \"matthews\", \"brier\"], \n",
        "                        columns=['Values'])"
      ],
      "execution_count": 42,
      "outputs": []
    },
    {
      "cell_type": "code",
      "metadata": {
        "id": "dZcK-jQ__mp4"
      },
      "source": [
        ""
      ],
      "execution_count": 42,
      "outputs": []
    },
    {
      "cell_type": "code",
      "metadata": {
        "id": "iusZm18c_xvZ"
      },
      "source": [
        ""
      ],
      "execution_count": 42,
      "outputs": []
    },
    {
      "cell_type": "code",
      "metadata": {
        "id": "R77N0zA0_0cs"
      },
      "source": [
        ""
      ],
      "execution_count": 42,
      "outputs": []
    }
  ]
}