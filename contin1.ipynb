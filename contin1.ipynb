{
  "nbformat": 4,
  "nbformat_minor": 0,
  "metadata": {
    "colab": {
      "name": "contin1",
      "provenance": [],
      "collapsed_sections": [],
      "include_colab_link": true
    },
    "kernelspec": {
      "display_name": "Python 3",
      "name": "python3"
    },
    "language_info": {
      "name": "python"
    }
  },
  "cells": [
    {
      "cell_type": "markdown",
      "metadata": {
        "id": "view-in-github",
        "colab_type": "text"
      },
      "source": [
        "<a href=\"https://colab.research.google.com/github/Jantonyelly/facerecognition/blob/main/contin1.ipynb\" target=\"_parent\"><img src=\"https://colab.research.google.com/assets/colab-badge.svg\" alt=\"Open In Colab\"/></a>"
      ]
    },
    {
      "cell_type": "code",
      "metadata": {
        "id": "iFa0gfm94dCX",
        "colab": {
          "base_uri": "https://localhost:8080/",
          "height": 255
        },
        "outputId": "afeaadca-fbba-4be5-a2c1-6ef555f661ba"
      },
      "source": [
        "import numpy as np\n",
        "import pandas as pd\n",
        "data = pd.read_csv(r'/content/zeta_sol_IEEE68AC--conti1.csv')\n",
        "data.head()"
      ],
      "execution_count": 1,
      "outputs": [
        {
          "output_type": "execute_result",
          "data": {
            "text/html": [
              "<div>\n",
              "<style scoped>\n",
              "    .dataframe tbody tr th:only-of-type {\n",
              "        vertical-align: middle;\n",
              "    }\n",
              "\n",
              "    .dataframe tbody tr th {\n",
              "        vertical-align: top;\n",
              "    }\n",
              "\n",
              "    .dataframe thead th {\n",
              "        text-align: right;\n",
              "    }\n",
              "</style>\n",
              "<table border=\"1\" class=\"dataframe\">\n",
              "  <thead>\n",
              "    <tr style=\"text-align: right;\">\n",
              "      <th></th>\n",
              "      <th>1</th>\n",
              "      <th>2</th>\n",
              "      <th>3</th>\n",
              "      <th>4</th>\n",
              "      <th>5</th>\n",
              "      <th>6</th>\n",
              "      <th>7</th>\n",
              "      <th>8</th>\n",
              "      <th>9</th>\n",
              "      <th>10</th>\n",
              "      <th>11</th>\n",
              "      <th>12</th>\n",
              "      <th>13</th>\n",
              "      <th>14</th>\n",
              "      <th>15</th>\n",
              "      <th>16</th>\n",
              "      <th>17</th>\n",
              "      <th>18</th>\n",
              "      <th>19</th>\n",
              "      <th>20</th>\n",
              "      <th>21</th>\n",
              "      <th>22</th>\n",
              "      <th>23</th>\n",
              "      <th>24</th>\n",
              "      <th>25</th>\n",
              "      <th>26</th>\n",
              "      <th>27</th>\n",
              "      <th>28</th>\n",
              "      <th>29</th>\n",
              "      <th>30</th>\n",
              "      <th>31</th>\n",
              "      <th>32</th>\n",
              "      <th>33</th>\n",
              "      <th>34</th>\n",
              "      <th>35</th>\n",
              "      <th>36</th>\n",
              "      <th>37</th>\n",
              "      <th>38</th>\n",
              "      <th>39</th>\n",
              "      <th>40</th>\n",
              "      <th>...</th>\n",
              "      <th>400</th>\n",
              "      <th>401</th>\n",
              "      <th>402</th>\n",
              "      <th>403</th>\n",
              "      <th>404</th>\n",
              "      <th>405</th>\n",
              "      <th>406</th>\n",
              "      <th>407</th>\n",
              "      <th>408</th>\n",
              "      <th>409</th>\n",
              "      <th>410</th>\n",
              "      <th>411</th>\n",
              "      <th>412</th>\n",
              "      <th>413</th>\n",
              "      <th>414</th>\n",
              "      <th>415</th>\n",
              "      <th>416</th>\n",
              "      <th>417</th>\n",
              "      <th>418</th>\n",
              "      <th>419</th>\n",
              "      <th>420</th>\n",
              "      <th>421</th>\n",
              "      <th>422</th>\n",
              "      <th>423</th>\n",
              "      <th>424</th>\n",
              "      <th>425</th>\n",
              "      <th>426</th>\n",
              "      <th>427</th>\n",
              "      <th>428</th>\n",
              "      <th>429</th>\n",
              "      <th>430</th>\n",
              "      <th>431</th>\n",
              "      <th>432</th>\n",
              "      <th>433</th>\n",
              "      <th>434</th>\n",
              "      <th>435</th>\n",
              "      <th>436</th>\n",
              "      <th>437</th>\n",
              "      <th>438</th>\n",
              "      <th>439</th>\n",
              "    </tr>\n",
              "  </thead>\n",
              "  <tbody>\n",
              "    <tr>\n",
              "      <th>0</th>\n",
              "      <td>-0.654767</td>\n",
              "      <td>-0.700667</td>\n",
              "      <td>-0.648094</td>\n",
              "      <td>-0.785926</td>\n",
              "      <td>-0.765472</td>\n",
              "      <td>-0.744509</td>\n",
              "      <td>-0.743870</td>\n",
              "      <td>-0.660407</td>\n",
              "      <td>-0.326413</td>\n",
              "      <td>-0.440122</td>\n",
              "      <td>-0.363301</td>\n",
              "      <td>-0.823662</td>\n",
              "      <td>-0.858138</td>\n",
              "      <td>0.542747</td>\n",
              "      <td>0.294155</td>\n",
              "      <td>0</td>\n",
              "      <td>-0.975084</td>\n",
              "      <td>-0.104050</td>\n",
              "      <td>-0.831740</td>\n",
              "      <td>-0.851927</td>\n",
              "      <td>-0.858042</td>\n",
              "      <td>-0.810257</td>\n",
              "      <td>-0.822169</td>\n",
              "      <td>-0.877014</td>\n",
              "      <td>-0.720492</td>\n",
              "      <td>-0.714268</td>\n",
              "      <td>-0.789899</td>\n",
              "      <td>-0.567929</td>\n",
              "      <td>-0.493200</td>\n",
              "      <td>-0.685745</td>\n",
              "      <td>-0.617162</td>\n",
              "      <td>-0.543370</td>\n",
              "      <td>-0.635749</td>\n",
              "      <td>-0.772084</td>\n",
              "      <td>-0.771810</td>\n",
              "      <td>-0.872363</td>\n",
              "      <td>-0.837815</td>\n",
              "      <td>-0.617261</td>\n",
              "      <td>-0.974259</td>\n",
              "      <td>-0.343236</td>\n",
              "      <td>...</td>\n",
              "      <td>0.009397</td>\n",
              "      <td>0.418476</td>\n",
              "      <td>-8.065883</td>\n",
              "      <td>7.398504</td>\n",
              "      <td>4.254639</td>\n",
              "      <td>6.864996</td>\n",
              "      <td>0.139002</td>\n",
              "      <td>0.075539</td>\n",
              "      <td>0.139005</td>\n",
              "      <td>0.035050</td>\n",
              "      <td>2.592105</td>\n",
              "      <td>2.957386</td>\n",
              "      <td>0.429199</td>\n",
              "      <td>2.716974</td>\n",
              "      <td>4.796688</td>\n",
              "      <td>1.972747</td>\n",
              "      <td>7.689734</td>\n",
              "      <td>-11.117909</td>\n",
              "      <td>0.425741</td>\n",
              "      <td>-2.020049</td>\n",
              "      <td>-1.233729</td>\n",
              "      <td>-5.503058</td>\n",
              "      <td>-0.215765</td>\n",
              "      <td>1.400113</td>\n",
              "      <td>2.791107</td>\n",
              "      <td>-2.436116</td>\n",
              "      <td>-1.387701</td>\n",
              "      <td>-0.061192</td>\n",
              "      <td>0.686391</td>\n",
              "      <td>2.037245</td>\n",
              "      <td>-2.129039</td>\n",
              "      <td>0.091794</td>\n",
              "      <td>-3.205714</td>\n",
              "      <td>-0.001006</td>\n",
              "      <td>0.377888</td>\n",
              "      <td>-3.197011</td>\n",
              "      <td>-2.803898</td>\n",
              "      <td>0.474972</td>\n",
              "      <td>-0.362934</td>\n",
              "      <td>0</td>\n",
              "    </tr>\n",
              "    <tr>\n",
              "      <th>1</th>\n",
              "      <td>-1.056926</td>\n",
              "      <td>-1.036600</td>\n",
              "      <td>-1.042843</td>\n",
              "      <td>-1.140621</td>\n",
              "      <td>-1.084272</td>\n",
              "      <td>-1.147664</td>\n",
              "      <td>-1.130044</td>\n",
              "      <td>-1.058712</td>\n",
              "      <td>-0.721367</td>\n",
              "      <td>-1.016123</td>\n",
              "      <td>-1.005416</td>\n",
              "      <td>-1.115213</td>\n",
              "      <td>-1.151219</td>\n",
              "      <td>0.023641</td>\n",
              "      <td>-0.271096</td>\n",
              "      <td>0</td>\n",
              "      <td>-1.274404</td>\n",
              "      <td>-0.145641</td>\n",
              "      <td>-1.187639</td>\n",
              "      <td>-1.191768</td>\n",
              "      <td>-1.246038</td>\n",
              "      <td>-1.204081</td>\n",
              "      <td>-1.213255</td>\n",
              "      <td>-1.259231</td>\n",
              "      <td>-1.117432</td>\n",
              "      <td>-1.106434</td>\n",
              "      <td>-1.179655</td>\n",
              "      <td>-0.962362</td>\n",
              "      <td>-0.888034</td>\n",
              "      <td>-1.116036</td>\n",
              "      <td>-1.079656</td>\n",
              "      <td>-1.065301</td>\n",
              "      <td>-1.093645</td>\n",
              "      <td>-1.133002</td>\n",
              "      <td>-1.115978</td>\n",
              "      <td>-1.194041</td>\n",
              "      <td>-1.222196</td>\n",
              "      <td>-1.061605</td>\n",
              "      <td>-1.282667</td>\n",
              "      <td>-0.808892</td>\n",
              "      <td>...</td>\n",
              "      <td>1.180861</td>\n",
              "      <td>0.685916</td>\n",
              "      <td>-7.792667</td>\n",
              "      <td>7.130660</td>\n",
              "      <td>4.408717</td>\n",
              "      <td>-2.076072</td>\n",
              "      <td>-0.050293</td>\n",
              "      <td>0.177691</td>\n",
              "      <td>-0.050242</td>\n",
              "      <td>2.608912</td>\n",
              "      <td>2.507077</td>\n",
              "      <td>2.821057</td>\n",
              "      <td>1.884704</td>\n",
              "      <td>2.547792</td>\n",
              "      <td>4.623510</td>\n",
              "      <td>3.443271</td>\n",
              "      <td>10.023562</td>\n",
              "      <td>-13.428598</td>\n",
              "      <td>0.305728</td>\n",
              "      <td>-1.891419</td>\n",
              "      <td>-0.368189</td>\n",
              "      <td>-4.853915</td>\n",
              "      <td>0.213406</td>\n",
              "      <td>1.941012</td>\n",
              "      <td>3.333238</td>\n",
              "      <td>-2.525194</td>\n",
              "      <td>-1.388292</td>\n",
              "      <td>-0.190286</td>\n",
              "      <td>0.569476</td>\n",
              "      <td>1.277127</td>\n",
              "      <td>-1.397630</td>\n",
              "      <td>0.120503</td>\n",
              "      <td>-3.153384</td>\n",
              "      <td>-0.029371</td>\n",
              "      <td>0.315159</td>\n",
              "      <td>-3.173158</td>\n",
              "      <td>-2.841741</td>\n",
              "      <td>0.390646</td>\n",
              "      <td>-0.228706</td>\n",
              "      <td>0</td>\n",
              "    </tr>\n",
              "    <tr>\n",
              "      <th>2</th>\n",
              "      <td>-0.485537</td>\n",
              "      <td>-0.424480</td>\n",
              "      <td>-0.425817</td>\n",
              "      <td>-0.487376</td>\n",
              "      <td>-0.439520</td>\n",
              "      <td>-0.481349</td>\n",
              "      <td>-0.429234</td>\n",
              "      <td>-0.435048</td>\n",
              "      <td>-0.071290</td>\n",
              "      <td>-0.279703</td>\n",
              "      <td>-0.381687</td>\n",
              "      <td>-0.422708</td>\n",
              "      <td>-0.519149</td>\n",
              "      <td>0.740181</td>\n",
              "      <td>0.445686</td>\n",
              "      <td>0</td>\n",
              "      <td>-0.643710</td>\n",
              "      <td>-0.084083</td>\n",
              "      <td>-0.534018</td>\n",
              "      <td>-0.538838</td>\n",
              "      <td>-0.581771</td>\n",
              "      <td>-0.533683</td>\n",
              "      <td>-0.536066</td>\n",
              "      <td>-0.599391</td>\n",
              "      <td>-0.495322</td>\n",
              "      <td>-0.465277</td>\n",
              "      <td>-0.534419</td>\n",
              "      <td>-0.313015</td>\n",
              "      <td>-0.237961</td>\n",
              "      <td>-0.472173</td>\n",
              "      <td>-0.426442</td>\n",
              "      <td>-0.440561</td>\n",
              "      <td>-0.474593</td>\n",
              "      <td>-0.524777</td>\n",
              "      <td>-0.530859</td>\n",
              "      <td>-0.546847</td>\n",
              "      <td>-0.574900</td>\n",
              "      <td>-0.440991</td>\n",
              "      <td>-0.697223</td>\n",
              "      <td>-0.148464</td>\n",
              "      <td>...</td>\n",
              "      <td>-0.982337</td>\n",
              "      <td>0.784885</td>\n",
              "      <td>-7.716205</td>\n",
              "      <td>7.091125</td>\n",
              "      <td>4.686792</td>\n",
              "      <td>8.598895</td>\n",
              "      <td>-1.096271</td>\n",
              "      <td>0.537843</td>\n",
              "      <td>-1.096039</td>\n",
              "      <td>-0.973860</td>\n",
              "      <td>2.009661</td>\n",
              "      <td>1.997118</td>\n",
              "      <td>-0.197204</td>\n",
              "      <td>2.662941</td>\n",
              "      <td>4.639289</td>\n",
              "      <td>1.243003</td>\n",
              "      <td>5.027094</td>\n",
              "      <td>-8.239500</td>\n",
              "      <td>-0.460580</td>\n",
              "      <td>-1.044383</td>\n",
              "      <td>-1.113178</td>\n",
              "      <td>-3.782257</td>\n",
              "      <td>0.336880</td>\n",
              "      <td>1.736286</td>\n",
              "      <td>2.892578</td>\n",
              "      <td>-2.224347</td>\n",
              "      <td>-1.153413</td>\n",
              "      <td>0.026642</td>\n",
              "      <td>0.875343</td>\n",
              "      <td>1.221359</td>\n",
              "      <td>-1.323085</td>\n",
              "      <td>0.101727</td>\n",
              "      <td>-2.680313</td>\n",
              "      <td>-0.014943</td>\n",
              "      <td>0.510444</td>\n",
              "      <td>-2.688377</td>\n",
              "      <td>-2.168758</td>\n",
              "      <td>0.889214</td>\n",
              "      <td>-0.225851</td>\n",
              "      <td>0</td>\n",
              "    </tr>\n",
              "    <tr>\n",
              "      <th>3</th>\n",
              "      <td>-0.399518</td>\n",
              "      <td>-0.338218</td>\n",
              "      <td>-0.402695</td>\n",
              "      <td>-0.397027</td>\n",
              "      <td>-0.418572</td>\n",
              "      <td>-0.385424</td>\n",
              "      <td>-0.333250</td>\n",
              "      <td>-0.382728</td>\n",
              "      <td>-0.028025</td>\n",
              "      <td>-0.250656</td>\n",
              "      <td>-0.153927</td>\n",
              "      <td>-0.505058</td>\n",
              "      <td>-0.766558</td>\n",
              "      <td>0.424546</td>\n",
              "      <td>-0.031722</td>\n",
              "      <td>0</td>\n",
              "      <td>-0.858034</td>\n",
              "      <td>-0.108983</td>\n",
              "      <td>-0.465640</td>\n",
              "      <td>-0.492057</td>\n",
              "      <td>-0.504717</td>\n",
              "      <td>-0.446986</td>\n",
              "      <td>-0.449269</td>\n",
              "      <td>-0.529199</td>\n",
              "      <td>-0.440422</td>\n",
              "      <td>-0.413758</td>\n",
              "      <td>-0.479668</td>\n",
              "      <td>-0.268133</td>\n",
              "      <td>-0.194119</td>\n",
              "      <td>-0.468489</td>\n",
              "      <td>-0.411294</td>\n",
              "      <td>-0.336216</td>\n",
              "      <td>-0.435582</td>\n",
              "      <td>-0.586300</td>\n",
              "      <td>-0.600456</td>\n",
              "      <td>-0.670895</td>\n",
              "      <td>-0.513701</td>\n",
              "      <td>-0.423320</td>\n",
              "      <td>-0.857174</td>\n",
              "      <td>-0.211930</td>\n",
              "      <td>...</td>\n",
              "      <td>-0.843710</td>\n",
              "      <td>0.317660</td>\n",
              "      <td>-7.472901</td>\n",
              "      <td>6.817137</td>\n",
              "      <td>7.791368</td>\n",
              "      <td>1.148140</td>\n",
              "      <td>0.180354</td>\n",
              "      <td>0.099909</td>\n",
              "      <td>0.180431</td>\n",
              "      <td>-2.031322</td>\n",
              "      <td>2.580386</td>\n",
              "      <td>2.911129</td>\n",
              "      <td>-0.525396</td>\n",
              "      <td>2.364930</td>\n",
              "      <td>4.373453</td>\n",
              "      <td>0.943853</td>\n",
              "      <td>5.483634</td>\n",
              "      <td>-8.860805</td>\n",
              "      <td>-0.788189</td>\n",
              "      <td>-0.803958</td>\n",
              "      <td>0.072928</td>\n",
              "      <td>-4.090737</td>\n",
              "      <td>-0.135732</td>\n",
              "      <td>1.256883</td>\n",
              "      <td>3.512858</td>\n",
              "      <td>-3.243966</td>\n",
              "      <td>-2.248838</td>\n",
              "      <td>-0.942617</td>\n",
              "      <td>-1.099686</td>\n",
              "      <td>1.022373</td>\n",
              "      <td>-1.113295</td>\n",
              "      <td>0.090922</td>\n",
              "      <td>-2.134252</td>\n",
              "      <td>0.001636</td>\n",
              "      <td>0.592155</td>\n",
              "      <td>-2.128106</td>\n",
              "      <td>-1.531456</td>\n",
              "      <td>1.588661</td>\n",
              "      <td>-0.088552</td>\n",
              "      <td>0</td>\n",
              "    </tr>\n",
              "    <tr>\n",
              "      <th>4</th>\n",
              "      <td>-1.061267</td>\n",
              "      <td>-1.046116</td>\n",
              "      <td>-1.047895</td>\n",
              "      <td>-1.141464</td>\n",
              "      <td>-1.192787</td>\n",
              "      <td>-1.084721</td>\n",
              "      <td>-1.051286</td>\n",
              "      <td>-1.025664</td>\n",
              "      <td>-0.756708</td>\n",
              "      <td>-0.943720</td>\n",
              "      <td>-0.945527</td>\n",
              "      <td>-1.068194</td>\n",
              "      <td>-1.096007</td>\n",
              "      <td>0.119455</td>\n",
              "      <td>-0.213303</td>\n",
              "      <td>0</td>\n",
              "      <td>-1.231503</td>\n",
              "      <td>-0.139121</td>\n",
              "      <td>-1.202508</td>\n",
              "      <td>-1.248480</td>\n",
              "      <td>-1.203851</td>\n",
              "      <td>-1.148534</td>\n",
              "      <td>-1.154135</td>\n",
              "      <td>-1.228340</td>\n",
              "      <td>-1.099459</td>\n",
              "      <td>-1.101248</td>\n",
              "      <td>-1.166312</td>\n",
              "      <td>-0.978207</td>\n",
              "      <td>-0.910424</td>\n",
              "      <td>-1.071231</td>\n",
              "      <td>-1.028918</td>\n",
              "      <td>-1.012837</td>\n",
              "      <td>-1.044214</td>\n",
              "      <td>-1.087774</td>\n",
              "      <td>-1.071669</td>\n",
              "      <td>-1.149699</td>\n",
              "      <td>-1.202623</td>\n",
              "      <td>-1.012038</td>\n",
              "      <td>-1.244124</td>\n",
              "      <td>-0.746113</td>\n",
              "      <td>...</td>\n",
              "      <td>1.074993</td>\n",
              "      <td>0.681350</td>\n",
              "      <td>-7.845428</td>\n",
              "      <td>7.195527</td>\n",
              "      <td>5.108164</td>\n",
              "      <td>-1.294968</td>\n",
              "      <td>-0.149826</td>\n",
              "      <td>0.195747</td>\n",
              "      <td>-0.149806</td>\n",
              "      <td>2.372483</td>\n",
              "      <td>2.449237</td>\n",
              "      <td>2.737049</td>\n",
              "      <td>1.771080</td>\n",
              "      <td>2.641403</td>\n",
              "      <td>4.698569</td>\n",
              "      <td>3.269422</td>\n",
              "      <td>9.644247</td>\n",
              "      <td>-12.960254</td>\n",
              "      <td>0.166588</td>\n",
              "      <td>-1.734091</td>\n",
              "      <td>-1.029622</td>\n",
              "      <td>-4.754052</td>\n",
              "      <td>0.153771</td>\n",
              "      <td>1.797731</td>\n",
              "      <td>2.852095</td>\n",
              "      <td>-2.146795</td>\n",
              "      <td>-1.051663</td>\n",
              "      <td>0.139364</td>\n",
              "      <td>1.175844</td>\n",
              "      <td>1.139949</td>\n",
              "      <td>-1.253957</td>\n",
              "      <td>0.114008</td>\n",
              "      <td>-2.857171</td>\n",
              "      <td>-0.025092</td>\n",
              "      <td>0.299909</td>\n",
              "      <td>-2.874720</td>\n",
              "      <td>-2.562654</td>\n",
              "      <td>0.566947</td>\n",
              "      <td>-0.310929</td>\n",
              "      <td>0</td>\n",
              "    </tr>\n",
              "  </tbody>\n",
              "</table>\n",
              "<p>5 rows × 439 columns</p>\n",
              "</div>"
            ],
            "text/plain": [
              "          1         2         3         4  ...       436       437       438  439\n",
              "0 -0.654767 -0.700667 -0.648094 -0.785926  ... -2.803898  0.474972 -0.362934    0\n",
              "1 -1.056926 -1.036600 -1.042843 -1.140621  ... -2.841741  0.390646 -0.228706    0\n",
              "2 -0.485537 -0.424480 -0.425817 -0.487376  ... -2.168758  0.889214 -0.225851    0\n",
              "3 -0.399518 -0.338218 -0.402695 -0.397027  ... -1.531456  1.588661 -0.088552    0\n",
              "4 -1.061267 -1.046116 -1.047895 -1.141464  ... -2.562654  0.566947 -0.310929    0\n",
              "\n",
              "[5 rows x 439 columns]"
            ]
          },
          "metadata": {
            "tags": []
          },
          "execution_count": 1
        }
      ]
    },
    {
      "cell_type": "code",
      "metadata": {
        "id": "o7OKDin4-bFc",
        "colab": {
          "base_uri": "https://localhost:8080/"
        },
        "outputId": "f689be09-0803-4370-e7df-e65b9061371c"
      },
      "source": [
        "from google.colab import drive\n",
        "drive.mount('/content/drive')"
      ],
      "execution_count": 2,
      "outputs": [
        {
          "output_type": "stream",
          "text": [
            "Mounted at /content/drive\n"
          ],
          "name": "stdout"
        }
      ]
    },
    {
      "cell_type": "code",
      "metadata": {
        "id": "PfhQD8ws6tZF"
      },
      "source": [
        "import timeit\n",
        "import datetime as dt\n",
        "import numpy as np\n",
        "import pandas as pd\n",
        "import seaborn as sns\n",
        "import matplotlib.pyplot as plt\n",
        "from scipy import stats\n",
        "from scipy import optimize\n",
        "from sklearn import metrics\n",
        "from sklearn import preprocessing\n",
        "from sklearn import svm\n",
        "from sklearn.ensemble import RandomForestClassifier\n",
        "from sklearn.ensemble import VotingClassifier\n",
        "from sklearn.model_selection import RandomizedSearchCV\n",
        "from sklearn.model_selection import StratifiedShuffleSplit\n",
        "from sklearn.model_selection import cross_val_score\n",
        "from sklearn.calibration import CalibratedClassifierCV, calibration_curve\n",
        "from sklearn.utils import class_weight"
      ],
      "execution_count": 3,
      "outputs": []
    },
    {
      "cell_type": "code",
      "metadata": {
        "id": "lGjec-TI6uo2"
      },
      "source": [
        " #TensorFlow 2 -> Keras\n",
        "from tensorflow import keras"
      ],
      "execution_count": 4,
      "outputs": []
    },
    {
      "cell_type": "code",
      "metadata": {
        "id": "GJbtkFm26zm3",
        "colab": {
          "base_uri": "https://localhost:8080/"
        },
        "outputId": "b3e5046e-5ae8-4107-a060-4375fc071ff1"
      },
      "source": [
        "try:\n",
        "    # Using experimental HalvingRandomSearchCV for hyperparameters optimization\n",
        "    from sklearn.experimental import enable_halving_search_cv # noqa\n",
        "    from sklearn.model_selection import HalvingRandomSearchCV\n",
        "except ImportError:\n",
        "    print('HalvingRandomSearchCV not found. Update scikit-learn to 0.24.')"
      ],
      "execution_count": 5,
      "outputs": [
        {
          "output_type": "stream",
          "text": [
            "HalvingRandomSearchCV not found. Update scikit-learn to 0.24.\n"
          ],
          "name": "stdout"
        }
      ]
    },
    {
      "cell_type": "code",
      "metadata": {
        "id": "5B-TFD6D6726",
        "colab": {
          "base_uri": "https://localhost:8080/",
          "height": 363
        },
        "outputId": "3ca9ec20-05aa-46b0-aa1a-0ec468dbacb3"
      },
      "source": [
        "pip install scikit-learn==0.24.2"
      ],
      "execution_count": 6,
      "outputs": [
        {
          "output_type": "stream",
          "text": [
            "Collecting scikit-learn==0.24.2\n",
            "\u001b[?25l  Downloading https://files.pythonhosted.org/packages/a8/eb/a48f25c967526b66d5f1fa7a984594f0bf0a5afafa94a8c4dbc317744620/scikit_learn-0.24.2-cp37-cp37m-manylinux2010_x86_64.whl (22.3MB)\n",
            "\u001b[K     |████████████████████████████████| 22.3MB 1.4MB/s \n",
            "\u001b[?25hRequirement already satisfied: scipy>=0.19.1 in /usr/local/lib/python3.7/dist-packages (from scikit-learn==0.24.2) (1.4.1)\n",
            "Collecting threadpoolctl>=2.0.0\n",
            "  Downloading https://files.pythonhosted.org/packages/c6/e8/c216b9b60cbba4642d3ca1bae7a53daa0c24426f662e0e3ce3dc7f6caeaa/threadpoolctl-2.2.0-py3-none-any.whl\n",
            "Requirement already satisfied: joblib>=0.11 in /usr/local/lib/python3.7/dist-packages (from scikit-learn==0.24.2) (1.0.1)\n",
            "Requirement already satisfied: numpy>=1.13.3 in /usr/local/lib/python3.7/dist-packages (from scikit-learn==0.24.2) (1.19.5)\n",
            "Installing collected packages: threadpoolctl, scikit-learn\n",
            "  Found existing installation: scikit-learn 0.22.2.post1\n",
            "    Uninstalling scikit-learn-0.22.2.post1:\n",
            "      Successfully uninstalled scikit-learn-0.22.2.post1\n",
            "Successfully installed scikit-learn-0.24.2 threadpoolctl-2.2.0\n"
          ],
          "name": "stdout"
        },
        {
          "output_type": "display_data",
          "data": {
            "application/vnd.colab-display-data+json": {
              "pip_warning": {
                "packages": [
                  "sklearn"
                ]
              }
            }
          },
          "metadata": {
            "tags": []
          }
        }
      ]
    },
    {
      "cell_type": "code",
      "metadata": {
        "id": "fc6htFgI61wn"
      },
      "source": [
        "#rom bayes_optim.bayesian_optimization import BayesianOptimization\n",
        "import warnings\n",
        "warnings.filterwarnings(action='ignore', category=FutureWarning)\n",
        "# Inline figures\n",
        "%matplotlib inline"
      ],
      "execution_count": 7,
      "outputs": []
    },
    {
      "cell_type": "code",
      "metadata": {
        "id": "KbQI52SY8Zc9"
      },
      "source": [
        "# Figure aesthetics from Seaborn\n",
        "sns.set(context='paper', style='white', font_scale=1.2)\n",
        "sns.set_style('ticks', {'xtick.direction':'in', 'ytick.direction':'in'})"
      ],
      "execution_count": 8,
      "outputs": []
    },
    {
      "cell_type": "code",
      "metadata": {
        "id": "yR1f7smS8aM6"
      },
      "source": [
        "# An ancilary function for showing the confusion matrix, taken from:\n",
        "# https://github.com/amueller/introduction_to_ml_with_python/blob/master/mglearn/tools.py\n",
        "def heatmap(values, xlabel, ylabel, xticklabels, yticklabels, cmap=None,\n",
        "            vmin=None, vmax=None, ax=None, fmt=\"%0.2f\", fontsize=14):\n",
        "    if ax is None:\n",
        "        ax = plt.gca()\n",
        "    # plot the mean cross-validation scores\n",
        "    img = ax.pcolor(values, cmap=cmap, vmin=vmin, vmax=vmax)\n",
        "    img.update_scalarmappable()\n",
        "    ax.set_xlabel(xlabel)\n",
        "    ax.set_ylabel(ylabel)\n",
        "    ax.set_xticks(np.arange(len(xticklabels)) + .5)\n",
        "    ax.set_yticks(np.arange(len(yticklabels)) + .5)\n",
        "    ax.set_xticklabels(xticklabels)\n",
        "    ax.set_yticklabels(yticklabels)\n",
        "    ax.set_aspect(1)\n",
        "\n",
        "    for p, color, value in zip(img.get_paths(), img.get_facecolors(),\n",
        "                               img.get_array()):\n",
        "        x, y = p.vertices[:-2, :].mean(0)\n",
        "        if np.mean(color[:3]) > 0.5:\n",
        "            c = 'k'\n",
        "        else:\n",
        "            c = 'w'\n",
        "        ax.text(x, y, fmt % value, color=c, ha=\"center\", va=\"center\", fontsize=fontsize)\n",
        "    return img"
      ],
      "execution_count": 9,
      "outputs": []
    },
    {
      "cell_type": "code",
      "metadata": {
        "id": "vzF6j_2y8cnv"
      },
      "source": [
        "def matthews_score(y_true, y_pred):\n",
        "    \"\"\"\" Matthews correlation coeficient \n",
        "\n",
        "    Matthews coefficient ranges between -1 and +1. A coefficient of +1 \n",
        "    represents a perfect prediction, 0 no better than random guessing \n",
        "    and -1 indicates a total disagreement between prediction and observation.\n",
        "\n",
        "    Arguments\n",
        "    ---------\n",
        "    y_true: array-like of shape (n_samples,)\n",
        "        Ground truth (correct) target values.\n",
        "    y_pred: array-like of shape (n_samples,)\n",
        "        Estimated targets as returned by a classifier.\n",
        "\n",
        "    Returns\n",
        "    -------\n",
        "    matthews: float\n",
        "        Matthews correlation coefficient between -1 and +1.\n",
        "    \"\"\"\n",
        "    # Confusion matrix\n",
        "    C_mat = metrics.confusion_matrix(y_true, y_pred)\n",
        "    tn = C_mat[0,0]  # true negatives\n",
        "    fn = C_mat[1,0]  # false negatives\n",
        "    tp = C_mat[1,1]  # true positives\n",
        "    fp = C_mat[0,1]  # false positives\n",
        "    # Matthews coefficient\n",
        "    matthews = (tp*tn - fp*fn) / np.sqrt((tp + fp)*(tp + fn)*(tn + fp)*(tn + fn))\n",
        "    return matthews"
      ],
      "execution_count": 10,
      "outputs": []
    },
    {
      "cell_type": "code",
      "metadata": {
        "id": "t-YF0Ref8e6H"
      },
      "source": [
        "def brier_score(y_labels, y_probas):\n",
        "    \"\"\" Briers score for binary classification.\n",
        "\n",
        "    Arguments\n",
        "    ---------\n",
        "    y_labels: array-like\n",
        "        Array with actual class labels (zeros and ones).\n",
        "    y_probas: array-like\n",
        "        Array with probabilities of positive class (of class one).\n",
        "    Returns\n",
        "    -------\n",
        "    BS: float\n",
        "        Briers score value.\n",
        "    \"\"\"\n",
        "    n_samples = len(y_labels)\n",
        "    BS = np.sum((y_labels - y_probas)**2)/float(n_samples)\n",
        "    return BS"
      ],
      "execution_count": 11,
      "outputs": []
    },
    {
      "cell_type": "code",
      "metadata": {
        "id": "ZfZIbShB5on-",
        "colab": {
          "base_uri": "https://localhost:8080/"
        },
        "outputId": "465d7261-f8bc-4602-8ec3-f8ef8ca45a31"
      },
      "source": [
        "data.shape\n",
        "# Percentage of \"ones\" in the \"Stability\" column\n",
        "print('There is {:.1f}% of stable cases in the dataset!'\n",
        "      .format(data['439'].sum()/float(len(data['439']))*100.))"
      ],
      "execution_count": 12,
      "outputs": [
        {
          "output_type": "stream",
          "text": [
            "There is 10.0% of stable cases in the dataset!\n"
          ],
          "name": "stdout"
        }
      ]
    },
    {
      "cell_type": "code",
      "metadata": {
        "id": "0lA5juzG6Ytn",
        "colab": {
          "base_uri": "https://localhost:8080/"
        },
        "outputId": "6d0dca26-c70d-4b81-bbbb-1d5df897078b"
      },
      "source": [
        "# Features and target\n",
        "no_features = len(data.columns) - 1\n",
        "X_data = data.iloc[:,0:no_features]  # features\n",
        "print('X_data', X_data.shape)\n",
        "y_data = data['439']"
      ],
      "execution_count": 13,
      "outputs": [
        {
          "output_type": "stream",
          "text": [
            "X_data (12000, 438)\n"
          ],
          "name": "stdout"
        }
      ]
    },
    {
      "cell_type": "code",
      "metadata": {
        "id": "ffhnjNqk6eGs"
      },
      "source": [
        "# Stratified Shuffle Split dataset into train and test sets 分层Shuffle将数据集划分为训练集和测试集\n",
        "# (stratified shuffle split preserves unbalance between categories,分层洗牌分裂保持了类别之间的不平衡\n",
        "# while shuffling and splitting data into train and test sets). 同时将数据变换和拆分为训练集和测试集\n",
        "splitter = StratifiedShuffleSplit(n_splits=1, train_size=0.8, random_state=365)\n",
        "for train_idx, test_idx in splitter.split(X_data, y_data):\n",
        "    X_train = X_data.loc[train_idx]\n",
        "    y_train = y_data.loc[train_idx]\n",
        "    X_test = X_data.loc[test_idx]\n",
        "    y_test = y_data.loc[test_idx]"
      ],
      "execution_count": 14,
      "outputs": []
    },
    {
      "cell_type": "code",
      "metadata": {
        "id": "oK5-2Q9K6sKk"
      },
      "source": [
        "# Standardize the input data\n",
        "scaler = preprocessing.StandardScaler()\n",
        "X_train = scaler.fit_transform(X_train)\n",
        "X_test = scaler.transform(X_test)"
      ],
      "execution_count": 15,
      "outputs": []
    },
    {
      "cell_type": "code",
      "metadata": {
        "id": "Gndp87lp8xWV"
      },
      "source": [
        "# Reserving a portion of the training set for validation\n",
        "# (using the Stratified Shuffle Split). This is only needed\n",
        "# for training autoencoder and a neural network classifier.\n",
        "splitter = StratifiedShuffleSplit(n_splits=1, train_size=0.9, random_state=365)\n",
        "for train_idx, test_idx in splitter.split(X_train, y_train.values):\n",
        "    X_train_part = X_train[train_idx]\n",
        "    y_train_part = y_train.values[train_idx]\n",
        "    X_validation = X_train[test_idx]\n",
        "    y_validation = y_train.values[test_idx]"
      ],
      "execution_count": 16,
      "outputs": []
    },
    {
      "cell_type": "code",
      "metadata": {
        "id": "6wr9R6qs80xZ",
        "colab": {
          "base_uri": "https://localhost:8080/"
        },
        "outputId": "b72e719a-6747-4766-c768-e35ec5ab3bdd"
      },
      "source": [
        "print('X_train_part', X_train_part.shape)\n",
        "print('X_validation', X_validation.shape)"
      ],
      "execution_count": 17,
      "outputs": [
        {
          "output_type": "stream",
          "text": [
            "X_train_part (8640, 438)\n",
            "X_validation (960, 438)\n"
          ],
          "name": "stdout"
        }
      ]
    },
    {
      "cell_type": "code",
      "metadata": {
        "id": "u14HvlO182k0"
      },
      "source": [
        "# Codings dimension\n",
        "DIMENSION = 16"
      ],
      "execution_count": 18,
      "outputs": []
    },
    {
      "cell_type": "code",
      "metadata": {
        "id": "8eK-0hAo85Ff",
        "colab": {
          "base_uri": "https://localhost:8080/"
        },
        "outputId": "994329e7-210c-4354-ce96-5c3d9088045f"
      },
      "source": [
        "L2 = 0.001  # regularization strength (L2 penalty)\n",
        "# Reducing \"no_features\" to low dimensional space with autoencoder\n",
        "input_layer = keras.layers.Input(shape=(no_features,))\n",
        "# Denoising layer (GaussianNoise or Dropout)\n",
        "denoise = keras.layers.Dropout(rate=0.25)(input_layer)\n",
        "#denoise = keras.layers.GaussianNoise(stdev=0.25)(input_layer)  # alter.\n",
        "# \"encoded\" is the encoded representation of the input\n",
        "x = keras.layers.Dense(256, activation='relu', \n",
        "                       kernel_initializer='glorot_normal',\n",
        "                       kernel_regularizer=keras.regularizers.l2(L2))(denoise)\n",
        "x = keras.layers.Dense(128, activation='relu', \n",
        "                       kernel_initializer='glorot_normal',\n",
        "                       kernel_regularizer=keras.regularizers.l2(L2))(x)\n",
        "x = keras.layers.Dense(64, activation='relu', \n",
        "                       kernel_initializer='glorot_normal',\n",
        "                       kernel_regularizer=keras.regularizers.l2(L2))(x)\n",
        "encoded = keras.layers.Dense(DIMENSION, activation='relu',  # encoder dimension\n",
        "                             kernel_initializer='glorot_normal',\n",
        "                             kernel_regularizer=keras.regularizers.l2(L2))(x)\n",
        "# \"decoded\" is the lossy reconstruction of the input\n",
        "x = keras.layers.Dense(64, activation='relu', \n",
        "                       kernel_initializer='glorot_normal',\n",
        "                       kernel_regularizer=keras.regularizers.l2(L2))(encoded)\n",
        "x = keras.layers.Dense(128, activation='relu', \n",
        "                       kernel_initializer='glorot_normal',\n",
        "                       kernel_regularizer=keras.regularizers.l2(L2))(x)\n",
        "x = keras.layers.Dense(256, activation='relu', \n",
        "                       kernel_initializer='glorot_normal',\n",
        "                       kernel_regularizer=keras.regularizers.l2(L2))(x)\n",
        "decoded = keras.layers.Dense(no_features, activation='linear', \n",
        "                             kernel_initializer='glorot_normal',\n",
        "                             kernel_regularizer=keras.regularizers.l2(L2))(x)\n",
        "# Autoencoder\n",
        "autoencoder = keras.models.Model(input_layer, decoded)\n",
        "# Encoder\n",
        "encoder = keras.models.Model(input_layer, encoded)\n",
        "# Compile the model\n",
        "lr_schedule = keras.optimizers.schedules.ExponentialDecay(\n",
        "        initial_learning_rate=1e-3,\n",
        "        decay_steps=500, decay_rate=0.96, staircase=False)\n",
        "adam_schedule = keras.optimizers.Adam(learning_rate=lr_schedule)\n",
        "autoencoder.compile(optimizer=adam_schedule, loss='kullback_leibler_divergence')\n",
        "# Early stopping criteria\n",
        "early_stopping = keras.callbacks.EarlyStopping(monitor='val_loss', min_delta=0.1, \n",
        "                                               patience=10, verbose=1)\n",
        "# Train the autoencoder on the training data\n",
        "history = autoencoder.fit(X_train_part, X_train_part, epochs=100, batch_size=32, \n",
        "                          shuffle=True, validation_data=(X_validation, X_validation), \n",
        "                          callbacks=[early_stopping], verbose=1)"
      ],
      "execution_count": 19,
      "outputs": [
        {
          "output_type": "stream",
          "text": [
            "Epoch 1/100\n",
            "270/270 [==============================] - 3s 8ms/step - loss: 187.9480 - val_loss: 114.3747\n",
            "Epoch 2/100\n",
            "270/270 [==============================] - 2s 8ms/step - loss: 81.9838 - val_loss: 61.9705\n",
            "Epoch 3/100\n",
            "270/270 [==============================] - 2s 8ms/step - loss: 56.4821 - val_loss: 61.9452\n",
            "Epoch 4/100\n",
            "270/270 [==============================] - 2s 8ms/step - loss: 56.4582 - val_loss: 61.9225\n",
            "Epoch 5/100\n",
            "270/270 [==============================] - 2s 7ms/step - loss: 56.4361 - val_loss: 61.9010\n",
            "Epoch 6/100\n",
            "270/270 [==============================] - 2s 8ms/step - loss: 56.4150 - val_loss: 61.8803\n",
            "Epoch 7/100\n",
            "270/270 [==============================] - 2s 7ms/step - loss: 56.3945 - val_loss: 61.8601\n",
            "Epoch 8/100\n",
            "270/270 [==============================] - 2s 7ms/step - loss: 56.3744 - val_loss: 61.8402\n",
            "Epoch 9/100\n",
            "270/270 [==============================] - 2s 7ms/step - loss: 56.3544 - val_loss: 61.8206\n",
            "Epoch 10/100\n",
            "270/270 [==============================] - 2s 7ms/step - loss: 56.3347 - val_loss: 61.8009\n",
            "Epoch 11/100\n",
            "270/270 [==============================] - 2s 7ms/step - loss: 56.3149 - val_loss: 61.7811\n",
            "Epoch 12/100\n",
            "270/270 [==============================] - 2s 7ms/step - loss: 56.2950 - val_loss: 61.7624\n",
            "Epoch 13/100\n",
            "270/270 [==============================] - 2s 8ms/step - loss: 56.2753 - val_loss: 61.7416\n",
            "Epoch 14/100\n",
            "270/270 [==============================] - 2s 7ms/step - loss: 56.2550 - val_loss: 61.7221\n",
            "Epoch 15/100\n",
            "270/270 [==============================] - 2s 7ms/step - loss: 56.2348 - val_loss: 61.7015\n",
            "Epoch 16/100\n",
            "270/270 [==============================] - 2s 7ms/step - loss: 53.7411 - val_loss: 58.5046\n",
            "Epoch 17/100\n",
            "270/270 [==============================] - 2s 7ms/step - loss: 53.0102 - val_loss: 58.4843\n",
            "Epoch 18/100\n",
            "270/270 [==============================] - 2s 7ms/step - loss: 52.9891 - val_loss: 58.4621\n",
            "Epoch 19/100\n",
            "270/270 [==============================] - 2s 7ms/step - loss: 52.9678 - val_loss: 58.4418\n",
            "Epoch 20/100\n",
            "270/270 [==============================] - 2s 7ms/step - loss: 52.9465 - val_loss: 58.4193\n",
            "Epoch 21/100\n",
            "270/270 [==============================] - 2s 7ms/step - loss: 52.9244 - val_loss: 58.4002\n",
            "Epoch 22/100\n",
            "270/270 [==============================] - 2s 7ms/step - loss: 52.9024 - val_loss: 58.3767\n",
            "Epoch 23/100\n",
            "270/270 [==============================] - 2s 7ms/step - loss: 52.8799 - val_loss: 58.3586\n",
            "Epoch 24/100\n",
            "270/270 [==============================] - 2s 7ms/step - loss: 52.8577 - val_loss: 58.3284\n",
            "Epoch 25/100\n",
            "270/270 [==============================] - 2s 7ms/step - loss: 52.8351 - val_loss: 58.3076\n",
            "Epoch 26/100\n",
            "270/270 [==============================] - 2s 7ms/step - loss: 52.8124 - val_loss: 58.2856\n",
            "Epoch 27/100\n",
            "270/270 [==============================] - 2s 7ms/step - loss: 52.7901 - val_loss: 58.2636\n",
            "Epoch 28/100\n",
            "270/270 [==============================] - 2s 7ms/step - loss: 52.7677 - val_loss: 58.2427\n",
            "Epoch 29/100\n",
            "270/270 [==============================] - 2s 7ms/step - loss: 52.7462 - val_loss: 58.2208\n",
            "Epoch 30/100\n",
            "270/270 [==============================] - 2s 7ms/step - loss: 52.7240 - val_loss: 58.1970\n",
            "Epoch 31/100\n",
            "270/270 [==============================] - 2s 7ms/step - loss: 52.7026 - val_loss: 58.1798\n",
            "Epoch 32/100\n",
            "270/270 [==============================] - 2s 7ms/step - loss: 52.6817 - val_loss: 58.1553\n",
            "Epoch 33/100\n",
            "270/270 [==============================] - 2s 7ms/step - loss: 52.6613 - val_loss: 58.1366\n",
            "Epoch 34/100\n",
            "270/270 [==============================] - 2s 7ms/step - loss: 52.6418 - val_loss: 58.1181\n",
            "Epoch 35/100\n",
            "270/270 [==============================] - 2s 7ms/step - loss: 52.6226 - val_loss: 58.0981\n",
            "Epoch 36/100\n",
            "270/270 [==============================] - 2s 7ms/step - loss: 52.6044 - val_loss: 58.0781\n",
            "Epoch 37/100\n",
            "270/270 [==============================] - 2s 7ms/step - loss: 52.5867 - val_loss: 58.0605\n",
            "Epoch 38/100\n",
            "270/270 [==============================] - 2s 7ms/step - loss: 52.5703 - val_loss: 58.0438\n",
            "Epoch 39/100\n",
            "270/270 [==============================] - 2s 7ms/step - loss: 52.5539 - val_loss: 58.0276\n",
            "Epoch 40/100\n",
            "270/270 [==============================] - 2s 7ms/step - loss: 52.5391 - val_loss: 58.0132\n",
            "Epoch 41/100\n",
            "270/270 [==============================] - 2s 8ms/step - loss: 52.5243 - val_loss: 57.9992\n",
            "Epoch 42/100\n",
            "270/270 [==============================] - 2s 8ms/step - loss: 52.5103 - val_loss: 57.9849\n",
            "Epoch 43/100\n",
            "270/270 [==============================] - 2s 7ms/step - loss: 52.4971 - val_loss: 57.9721\n",
            "Epoch 44/100\n",
            "270/270 [==============================] - 2s 8ms/step - loss: 52.4848 - val_loss: 57.9607\n",
            "Epoch 45/100\n",
            "270/270 [==============================] - 2s 7ms/step - loss: 52.4731 - val_loss: 57.9489\n",
            "Epoch 46/100\n",
            "270/270 [==============================] - 2s 7ms/step - loss: 52.4619 - val_loss: 57.9383\n",
            "Epoch 47/100\n",
            "270/270 [==============================] - 2s 8ms/step - loss: 52.4512 - val_loss: 57.9276\n",
            "Epoch 48/100\n",
            "270/270 [==============================] - 2s 7ms/step - loss: 52.4420 - val_loss: 57.9191\n",
            "Epoch 49/100\n",
            "270/270 [==============================] - 2s 8ms/step - loss: 52.4329 - val_loss: 57.9097\n",
            "Epoch 50/100\n",
            "270/270 [==============================] - 2s 7ms/step - loss: 52.4242 - val_loss: 57.9017\n",
            "Epoch 51/100\n",
            "270/270 [==============================] - 2s 7ms/step - loss: 52.4160 - val_loss: 57.8945\n",
            "Epoch 52/100\n",
            "270/270 [==============================] - 2s 7ms/step - loss: 52.4092 - val_loss: 57.8872\n",
            "Epoch 53/100\n",
            "270/270 [==============================] - 2s 7ms/step - loss: 52.4021 - val_loss: 57.8798\n",
            "Epoch 00053: early stopping\n"
          ],
          "name": "stdout"
        }
      ]
    },
    {
      "cell_type": "code",
      "metadata": {
        "id": "g8UxlUvn9JRB"
      },
      "source": [
        "plt.plot(history.history['loss'], label='loss')\n",
        "plt.plot(history.history['val_loss'], label='val_loss')\n",
        "plt.legend()\n",
        "plt.grid(axis='y')\n",
        "plt.xlabel('Epochs')\n",
        "plt.ylabel('Loss value')\n",
        "plt.show()"
      ],
      "execution_count": null,
      "outputs": []
    },
    {
      "cell_type": "code",
      "metadata": {
        "id": "JrsaiSXO9Ugg",
        "colab": {
          "base_uri": "https://localhost:8080/"
        },
        "outputId": "be95e3a3-298f-40e3-9a3a-133336c49731"
      },
      "source": [
        "# Encoding training data (with Monte Carlo sampling and averaging)\n",
        "X_train_encoded = np.stack([encoder(X_train, training=True) for sample in range(100)]).mean(axis=0)\n",
        "print(X_train_encoded.shape)\n",
        "# Encoding testing data\n",
        "X_test_encoded = np.stack([encoder(X_test, training=True) for sample in range(100)]).mean(axis=0)\n",
        "print(X_test_encoded.shape)"
      ],
      "execution_count": 21,
      "outputs": [
        {
          "output_type": "stream",
          "text": [
            "(9600, 16)\n",
            "(2400, 16)\n"
          ],
          "name": "stdout"
        }
      ]
    },
    {
      "cell_type": "code",
      "metadata": {
        "id": "Ltf089a49Xjx",
        "colab": {
          "base_uri": "https://localhost:8080/"
        },
        "outputId": "625dd1ca-75f3-4763-b273-6032e8e5510e"
      },
      "source": [
        "# Computing weights for the class balancing of the DNN classifier\n",
        "class_weights = class_weight.compute_class_weight('balanced', np.unique(y_train), y_train)\n",
        "class_weights_dict = dict(zip(np.unique(y_train), class_weights))\n",
        "print(class_weights_dict)"
      ],
      "execution_count": 22,
      "outputs": [
        {
          "output_type": "stream",
          "text": [
            "{0: 0.55542698449433, 1: 5.010438413361169}\n"
          ],
          "name": "stdout"
        }
      ]
    },
    {
      "cell_type": "code",
      "metadata": {
        "id": "3UoQblOb9b6q",
        "colab": {
          "base_uri": "https://localhost:8080/"
        },
        "outputId": "5ec38886-d7b4-4280-a869-9537ac3fbf23"
      },
      "source": [
        "# Clone the encoder model\n",
        "model_clone = keras.models.clone_model(encoder)\n",
        "model_clone.set_weights(encoder.get_weights())\n",
        "# Transfer learning from encoder to classifier\n",
        "classifier_model = keras.models.Sequential(model_clone.layers[:-1])  # exclude last encoder layer\n",
        "# Stack additional layers\n",
        "classifier_model.add(keras.layers.Dense(128, activation='relu',\n",
        "                                        kernel_initializer='glorot_normal',\n",
        "                                        kernel_regularizer=keras.regularizers.l2(L2)))\n",
        "classifier_model.add(keras.layers.Dropout(0.2))\n",
        "classifier_model.add(keras.layers.Dense(64, activation='relu',\n",
        "                                        kernel_initializer='glorot_normal',\n",
        "                                        kernel_regularizer=keras.regularizers.l2(L2)))\n",
        "classifier_model.add(keras.layers.Dropout(0.1))\n",
        "classifier_model.add(keras.layers.Dense(1, activation='sigmoid'))\n",
        "# Freezing layers (except newly added ones)\n",
        "for layer in classifier_model.layers[:-5]:\n",
        "    layer.trainable = False\n",
        "EPOCHS = 200\n",
        "BATCH_SIZE = 32\n",
        "lr_schedule = keras.optimizers.schedules.ExponentialDecay(\n",
        "        initial_learning_rate=1e-3,\n",
        "        decay_steps=200, decay_rate=0.96, staircase=False)\n",
        "adam_schedule = keras.optimizers.Adam(learning_rate=lr_schedule)\n",
        "classifier_model.compile(optimizer=adam_schedule, loss='binary_crossentropy', metrics=['AUC'])\n",
        "early_stopping = keras.callbacks.EarlyStopping(monitor='val_loss', min_delta=0.01, \n",
        "        patience=25, verbose=1, restore_best_weights=True)\n",
        "# Train the classifier (first pass)\n",
        "classification_history = classifier_model.fit(X_train_part, y_train_part, \n",
        "        epochs=EPOCHS, batch_size=BATCH_SIZE, \n",
        "        shuffle=True, validation_data=(X_validation, y_validation),\n",
        "        class_weight=class_weights_dict, callbacks=[early_stopping], verbose=1)"
      ],
      "execution_count": 23,
      "outputs": [
        {
          "output_type": "stream",
          "text": [
            "WARNING:tensorflow:From /usr/local/lib/python3.7/dist-packages/tensorflow/python/ops/array_ops.py:5049: calling gather (from tensorflow.python.ops.array_ops) with validate_indices is deprecated and will be removed in a future version.\n",
            "Instructions for updating:\n",
            "The `validate_indices` argument has no effect. Indices are always validated on CPU and never validated on GPU.\n",
            "Epoch 1/200\n",
            "270/270 [==============================] - 2s 4ms/step - loss: 0.7943 - auc: 0.5641 - val_loss: 0.7155 - val_auc: 0.8005\n",
            "Epoch 2/200\n",
            "270/270 [==============================] - 1s 3ms/step - loss: 0.7227 - auc: 0.6736 - val_loss: 0.6588 - val_auc: 0.8030\n",
            "Epoch 3/200\n",
            "270/270 [==============================] - 1s 4ms/step - loss: 0.6908 - auc: 0.7169 - val_loss: 0.5971 - val_auc: 0.8066\n",
            "Epoch 4/200\n",
            "270/270 [==============================] - 1s 3ms/step - loss: 0.6677 - auc: 0.7444 - val_loss: 0.5378 - val_auc: 0.8115\n",
            "Epoch 5/200\n",
            "270/270 [==============================] - 1s 3ms/step - loss: 0.6393 - auc: 0.7725 - val_loss: 0.5478 - val_auc: 0.8163\n",
            "Epoch 6/200\n",
            "270/270 [==============================] - 1s 3ms/step - loss: 0.6442 - auc: 0.7627 - val_loss: 0.6316 - val_auc: 0.8218\n",
            "Epoch 7/200\n",
            "270/270 [==============================] - 1s 3ms/step - loss: 0.6296 - auc: 0.7772 - val_loss: 0.4628 - val_auc: 0.8184\n",
            "Epoch 8/200\n",
            "270/270 [==============================] - 1s 3ms/step - loss: 0.6355 - auc: 0.7655 - val_loss: 0.5501 - val_auc: 0.8261\n",
            "Epoch 9/200\n",
            "270/270 [==============================] - 1s 3ms/step - loss: 0.6148 - auc: 0.7894 - val_loss: 0.5689 - val_auc: 0.8270\n",
            "Epoch 10/200\n",
            "270/270 [==============================] - 1s 3ms/step - loss: 0.6079 - auc: 0.7933 - val_loss: 0.5006 - val_auc: 0.8273\n",
            "Epoch 11/200\n",
            "270/270 [==============================] - 1s 3ms/step - loss: 0.6058 - auc: 0.7934 - val_loss: 0.4587 - val_auc: 0.8287\n",
            "Epoch 12/200\n",
            "270/270 [==============================] - 1s 3ms/step - loss: 0.5945 - auc: 0.8029 - val_loss: 0.5213 - val_auc: 0.8339\n",
            "Epoch 13/200\n",
            "270/270 [==============================] - 1s 3ms/step - loss: 0.5951 - auc: 0.8019 - val_loss: 0.6194 - val_auc: 0.8338\n",
            "Epoch 14/200\n",
            "270/270 [==============================] - 1s 3ms/step - loss: 0.5947 - auc: 0.7995 - val_loss: 0.5258 - val_auc: 0.8318\n",
            "Epoch 15/200\n",
            "270/270 [==============================] - 1s 3ms/step - loss: 0.5918 - auc: 0.8009 - val_loss: 0.5220 - val_auc: 0.8359\n",
            "Epoch 16/200\n",
            "270/270 [==============================] - 1s 3ms/step - loss: 0.5826 - auc: 0.8100 - val_loss: 0.4622 - val_auc: 0.8344\n",
            "Epoch 17/200\n",
            "270/270 [==============================] - 1s 3ms/step - loss: 0.5888 - auc: 0.8038 - val_loss: 0.6031 - val_auc: 0.8373\n",
            "Epoch 18/200\n",
            "270/270 [==============================] - 1s 3ms/step - loss: 0.5839 - auc: 0.8074 - val_loss: 0.5387 - val_auc: 0.8391\n",
            "Epoch 19/200\n",
            "270/270 [==============================] - 1s 3ms/step - loss: 0.5836 - auc: 0.8067 - val_loss: 0.5718 - val_auc: 0.8389\n",
            "Epoch 20/200\n",
            "270/270 [==============================] - 1s 3ms/step - loss: 0.5747 - auc: 0.8142 - val_loss: 0.6125 - val_auc: 0.8443\n",
            "Epoch 21/200\n",
            "270/270 [==============================] - 1s 3ms/step - loss: 0.5827 - auc: 0.8069 - val_loss: 0.5308 - val_auc: 0.8416\n",
            "Epoch 22/200\n",
            "270/270 [==============================] - 1s 3ms/step - loss: 0.5796 - auc: 0.8096 - val_loss: 0.4831 - val_auc: 0.8464\n",
            "Epoch 23/200\n",
            "270/270 [==============================] - 1s 3ms/step - loss: 0.5754 - auc: 0.8136 - val_loss: 0.4759 - val_auc: 0.8491\n",
            "Epoch 24/200\n",
            "270/270 [==============================] - 1s 3ms/step - loss: 0.5659 - auc: 0.8216 - val_loss: 0.6325 - val_auc: 0.8464\n",
            "Epoch 25/200\n",
            "270/270 [==============================] - 1s 3ms/step - loss: 0.5717 - auc: 0.8163 - val_loss: 0.5526 - val_auc: 0.8466\n",
            "Epoch 26/200\n",
            "270/270 [==============================] - 1s 3ms/step - loss: 0.5704 - auc: 0.8172 - val_loss: 0.4340 - val_auc: 0.8470\n",
            "Epoch 27/200\n",
            "270/270 [==============================] - 1s 3ms/step - loss: 0.5762 - auc: 0.8120 - val_loss: 0.5344 - val_auc: 0.8488\n",
            "Epoch 28/200\n",
            "270/270 [==============================] - 1s 3ms/step - loss: 0.5667 - auc: 0.8204 - val_loss: 0.6396 - val_auc: 0.8480\n",
            "Epoch 29/200\n",
            "270/270 [==============================] - 1s 3ms/step - loss: 0.5718 - auc: 0.8160 - val_loss: 0.6109 - val_auc: 0.8496\n",
            "Epoch 30/200\n",
            "270/270 [==============================] - 1s 3ms/step - loss: 0.5693 - auc: 0.8181 - val_loss: 0.5654 - val_auc: 0.8483\n",
            "Epoch 31/200\n",
            "270/270 [==============================] - 1s 3ms/step - loss: 0.5694 - auc: 0.8172 - val_loss: 0.4974 - val_auc: 0.8488\n",
            "Epoch 32/200\n",
            "270/270 [==============================] - 1s 3ms/step - loss: 0.5675 - auc: 0.8204 - val_loss: 0.4972 - val_auc: 0.8505\n",
            "Epoch 33/200\n",
            "270/270 [==============================] - 1s 3ms/step - loss: 0.5648 - auc: 0.8219 - val_loss: 0.4932 - val_auc: 0.8484\n",
            "Epoch 34/200\n",
            "270/270 [==============================] - 1s 3ms/step - loss: 0.5655 - auc: 0.8211 - val_loss: 0.5573 - val_auc: 0.8504\n",
            "Epoch 35/200\n",
            "270/270 [==============================] - 1s 3ms/step - loss: 0.5668 - auc: 0.8203 - val_loss: 0.5849 - val_auc: 0.8495\n",
            "Epoch 36/200\n",
            "270/270 [==============================] - 1s 3ms/step - loss: 0.5662 - auc: 0.8199 - val_loss: 0.6261 - val_auc: 0.8504\n",
            "Epoch 37/200\n",
            "270/270 [==============================] - 1s 3ms/step - loss: 0.5568 - auc: 0.8282 - val_loss: 0.4649 - val_auc: 0.8528\n",
            "Epoch 38/200\n",
            "270/270 [==============================] - 1s 3ms/step - loss: 0.5610 - auc: 0.8248 - val_loss: 0.5317 - val_auc: 0.8533\n",
            "Epoch 39/200\n",
            "270/270 [==============================] - 1s 3ms/step - loss: 0.5637 - auc: 0.8218 - val_loss: 0.5025 - val_auc: 0.8510\n",
            "Epoch 40/200\n",
            "270/270 [==============================] - 1s 3ms/step - loss: 0.5570 - auc: 0.8283 - val_loss: 0.4973 - val_auc: 0.8512\n",
            "Epoch 41/200\n",
            "270/270 [==============================] - 1s 3ms/step - loss: 0.5548 - auc: 0.8299 - val_loss: 0.5096 - val_auc: 0.8563\n",
            "Epoch 42/200\n",
            "270/270 [==============================] - 1s 3ms/step - loss: 0.5552 - auc: 0.8299 - val_loss: 0.4713 - val_auc: 0.8570\n",
            "Epoch 43/200\n",
            "270/270 [==============================] - 1s 3ms/step - loss: 0.5577 - auc: 0.8275 - val_loss: 0.5291 - val_auc: 0.8546\n",
            "Epoch 44/200\n",
            "270/270 [==============================] - 1s 3ms/step - loss: 0.5558 - auc: 0.8298 - val_loss: 0.5018 - val_auc: 0.8553\n",
            "Epoch 45/200\n",
            "270/270 [==============================] - 1s 3ms/step - loss: 0.5581 - auc: 0.8277 - val_loss: 0.5269 - val_auc: 0.8567\n",
            "Epoch 46/200\n",
            "270/270 [==============================] - 1s 3ms/step - loss: 0.5576 - auc: 0.8284 - val_loss: 0.4659 - val_auc: 0.8547\n",
            "Epoch 47/200\n",
            "270/270 [==============================] - 1s 3ms/step - loss: 0.5528 - auc: 0.8315 - val_loss: 0.5289 - val_auc: 0.8563\n",
            "Epoch 48/200\n",
            "270/270 [==============================] - 1s 3ms/step - loss: 0.5594 - auc: 0.8269 - val_loss: 0.5274 - val_auc: 0.8561\n",
            "Epoch 49/200\n",
            "270/270 [==============================] - 1s 3ms/step - loss: 0.5565 - auc: 0.8284 - val_loss: 0.5058 - val_auc: 0.8585\n",
            "Epoch 50/200\n",
            "270/270 [==============================] - 1s 3ms/step - loss: 0.5542 - auc: 0.8306 - val_loss: 0.4994 - val_auc: 0.8570\n",
            "Epoch 51/200\n",
            "270/270 [==============================] - 1s 3ms/step - loss: 0.5573 - auc: 0.8275 - val_loss: 0.5010 - val_auc: 0.8576\n",
            "Restoring model weights from the end of the best epoch.\n",
            "Epoch 00051: early stopping\n"
          ],
          "name": "stdout"
        }
      ]
    },
    {
      "cell_type": "code",
      "metadata": {
        "id": "1hmaXa-99nD_",
        "colab": {
          "base_uri": "https://localhost:8080/",
          "height": 295
        },
        "outputId": "44a63c6e-b744-469c-d5c6-26cc45944412"
      },
      "source": [
        "plt.figure(figsize=(5.5,4))\n",
        "plt.title('Network training phase')\n",
        "plt.plot(classification_history.history['loss'], label='training')\n",
        "plt.plot(classification_history.history['val_loss'], label='validation')\n",
        "plt.legend()\n",
        "plt.grid(axis='y')\n",
        "plt.xlabel('Epochs')\n",
        "plt.ylabel('Loss value')\n",
        "plt.show()"
      ],
      "execution_count": 24,
      "outputs": [
        {
          "output_type": "display_data",
          "data": {
            "image/png": "[encoded data removed]",
            "text/plain": [
              "<Figure size 396x288 with 1 Axes>"
            ]
          },
          "metadata": {
            "tags": []
          }
        }
      ]
    },
    {
      "cell_type": "code",
      "metadata": {
        "id": "JKqCspjv9_Bo",
        "colab": {
          "base_uri": "https://localhost:8080/"
        },
        "outputId": "95bcd8f9-6549-4459-b101-a9901574ce2a"
      },
      "source": [
        "classifier_model.layers"
      ],
      "execution_count": 25,
      "outputs": [
        {
          "output_type": "execute_result",
          "data": {
            "text/plain": [
              "[<tensorflow.python.keras.layers.core.Dropout at 0x7f5aee10fa90>,\n",
              " <tensorflow.python.keras.layers.core.Dense at 0x7f5ae92179d0>,\n",
              " <tensorflow.python.keras.layers.core.Dense at 0x7f5ae72a7090>,\n",
              " <tensorflow.python.keras.layers.core.Dense at 0x7f5ae9019390>,\n",
              " <tensorflow.python.keras.layers.core.Dense at 0x7f5ae655ea50>,\n",
              " <tensorflow.python.keras.layers.core.Dropout at 0x7f5ae916a550>,\n",
              " <tensorflow.python.keras.layers.core.Dense at 0x7f5aed4239d0>,\n",
              " <tensorflow.python.keras.layers.core.Dropout at 0x7f5ae65b24d0>,\n",
              " <tensorflow.python.keras.layers.core.Dense at 0x7f5ae654bb10>]"
            ]
          },
          "metadata": {
            "tags": []
          },
          "execution_count": 25
        }
      ]
    },
    {
      "cell_type": "code",
      "metadata": {
        "id": "8ItVDaK-9_wl",
        "colab": {
          "base_uri": "https://localhost:8080/"
        },
        "outputId": "332a86ad-113a-48ca-d367-83d5616ad9ab"
      },
      "source": [
        "# Un-freezing selected layers for fine-tuning\n",
        "for layer in classifier_model.layers[3:-5]:\n",
        "    print(layer)\n",
        "    layer.trainable = True"
      ],
      "execution_count": 26,
      "outputs": [
        {
          "output_type": "stream",
          "text": [
            "<tensorflow.python.keras.layers.core.Dense object at 0x7f5ae9019390>\n"
          ],
          "name": "stdout"
        }
      ]
    },
    {
      "cell_type": "code",
      "metadata": {
        "colab": {
          "base_uri": "https://localhost:8080/"
        },
        "id": "iF0UzcbM-Bf-",
        "outputId": "fb0b69ef-a3b5-46e0-f14b-a0c42662d50e"
      },
      "source": [
        "# Fine-tuning network weights with a reduced learning rate (second pass)\n",
        "lr_schedule = keras.optimizers.schedules.ExponentialDecay(\n",
        "        initial_learning_rate=1e-4,  # lower initial rate\n",
        "        decay_steps=100, decay_rate=0.96, staircase=False)\n",
        "adam = keras.optimizers.Adam(learning_rate=lr_schedule)\n",
        "early_stopping = keras.callbacks.EarlyStopping(monitor='val_loss', min_delta=0.01, \n",
        "        patience=50, verbose=1, restore_best_weights=True)\n",
        "classifier_model.compile(optimizer=adam, loss='binary_crossentropy', metrics=['AUC'])\n",
        "fine_tuning_history = classifier_model.fit(X_train_part, y_train_part, \n",
        "        epochs=EPOCHS, batch_size=BATCH_SIZE, \n",
        "        shuffle=False, validation_data=(X_validation, y_validation),\n",
        "        class_weight=class_weights_dict, callbacks=[early_stopping], verbose=1)"
      ],
      "execution_count": 27,
      "outputs": [
        {
          "output_type": "stream",
          "text": [
            "Epoch 1/200\n",
            "270/270 [==============================] - 2s 4ms/step - loss: 0.5462 - auc: 0.8368 - val_loss: 0.5406 - val_auc: 0.8801\n",
            "Epoch 2/200\n",
            "270/270 [==============================] - 1s 4ms/step - loss: 0.5207 - auc: 0.8581 - val_loss: 0.4991 - val_auc: 0.9040\n",
            "Epoch 3/200\n",
            "270/270 [==============================] - 1s 4ms/step - loss: 0.4842 - auc: 0.8845 - val_loss: 0.4533 - val_auc: 0.9215\n",
            "Epoch 4/200\n",
            "270/270 [==============================] - 1s 3ms/step - loss: 0.4743 - auc: 0.8907 - val_loss: 0.4405 - val_auc: 0.9321\n",
            "Epoch 5/200\n",
            "270/270 [==============================] - 1s 3ms/step - loss: 0.4521 - auc: 0.9049 - val_loss: 0.4005 - val_auc: 0.9404\n",
            "Epoch 6/200\n",
            "270/270 [==============================] - 1s 4ms/step - loss: 0.4314 - auc: 0.9157 - val_loss: 0.4179 - val_auc: 0.9460\n",
            "Epoch 7/200\n",
            "270/270 [==============================] - 1s 4ms/step - loss: 0.4210 - auc: 0.9213 - val_loss: 0.3955 - val_auc: 0.9513\n",
            "Epoch 8/200\n",
            "270/270 [==============================] - 1s 4ms/step - loss: 0.4180 - auc: 0.9216 - val_loss: 0.3862 - val_auc: 0.9543\n",
            "Epoch 9/200\n",
            "270/270 [==============================] - 1s 3ms/step - loss: 0.4049 - auc: 0.9282 - val_loss: 0.3767 - val_auc: 0.9567\n",
            "Epoch 10/200\n",
            "270/270 [==============================] - 1s 3ms/step - loss: 0.3973 - auc: 0.9316 - val_loss: 0.3578 - val_auc: 0.9591\n",
            "Epoch 11/200\n",
            "270/270 [==============================] - 1s 3ms/step - loss: 0.3885 - auc: 0.9360 - val_loss: 0.3536 - val_auc: 0.9599\n",
            "Epoch 12/200\n",
            "270/270 [==============================] - 1s 3ms/step - loss: 0.3871 - auc: 0.9357 - val_loss: 0.3211 - val_auc: 0.9622\n",
            "Epoch 13/200\n",
            "270/270 [==============================] - 1s 3ms/step - loss: 0.3764 - auc: 0.9405 - val_loss: 0.3163 - val_auc: 0.9623\n",
            "Epoch 14/200\n",
            "270/270 [==============================] - 1s 3ms/step - loss: 0.3790 - auc: 0.9389 - val_loss: 0.3046 - val_auc: 0.9642\n",
            "Epoch 15/200\n",
            "270/270 [==============================] - 1s 4ms/step - loss: 0.3819 - auc: 0.9374 - val_loss: 0.3246 - val_auc: 0.9638\n",
            "Epoch 16/200\n",
            "270/270 [==============================] - 1s 4ms/step - loss: 0.3765 - auc: 0.9396 - val_loss: 0.2941 - val_auc: 0.9659\n",
            "Epoch 17/200\n",
            "270/270 [==============================] - 1s 4ms/step - loss: 0.3788 - auc: 0.9382 - val_loss: 0.3090 - val_auc: 0.9658\n",
            "Epoch 18/200\n",
            "270/270 [==============================] - 1s 4ms/step - loss: 0.3785 - auc: 0.9388 - val_loss: 0.3058 - val_auc: 0.9654\n",
            "Epoch 19/200\n",
            "270/270 [==============================] - 1s 4ms/step - loss: 0.3687 - auc: 0.9429 - val_loss: 0.3142 - val_auc: 0.9658\n",
            "Epoch 20/200\n",
            "270/270 [==============================] - 1s 4ms/step - loss: 0.3659 - auc: 0.9441 - val_loss: 0.3059 - val_auc: 0.9664\n",
            "Epoch 21/200\n",
            "270/270 [==============================] - 1s 4ms/step - loss: 0.3703 - auc: 0.9419 - val_loss: 0.3009 - val_auc: 0.9665\n",
            "Epoch 22/200\n",
            "270/270 [==============================] - 1s 4ms/step - loss: 0.3661 - auc: 0.9437 - val_loss: 0.3066 - val_auc: 0.9665\n",
            "Epoch 23/200\n",
            "270/270 [==============================] - 1s 4ms/step - loss: 0.3689 - auc: 0.9425 - val_loss: 0.3069 - val_auc: 0.9668\n",
            "Epoch 24/200\n",
            "270/270 [==============================] - 1s 4ms/step - loss: 0.3581 - auc: 0.9470 - val_loss: 0.3028 - val_auc: 0.9673\n",
            "Epoch 25/200\n",
            "270/270 [==============================] - 1s 4ms/step - loss: 0.3584 - auc: 0.9473 - val_loss: 0.3130 - val_auc: 0.9675\n",
            "Epoch 26/200\n",
            "270/270 [==============================] - 1s 4ms/step - loss: 0.3704 - auc: 0.9415 - val_loss: 0.3111 - val_auc: 0.9674\n",
            "Epoch 27/200\n",
            "270/270 [==============================] - 1s 4ms/step - loss: 0.3653 - auc: 0.9439 - val_loss: 0.3135 - val_auc: 0.9675\n",
            "Epoch 28/200\n",
            "270/270 [==============================] - 1s 4ms/step - loss: 0.3653 - auc: 0.9440 - val_loss: 0.3109 - val_auc: 0.9673\n",
            "Epoch 29/200\n",
            "270/270 [==============================] - 1s 4ms/step - loss: 0.3600 - auc: 0.9464 - val_loss: 0.3238 - val_auc: 0.9671\n",
            "Epoch 30/200\n",
            "270/270 [==============================] - 1s 4ms/step - loss: 0.3609 - auc: 0.9455 - val_loss: 0.3070 - val_auc: 0.9675\n",
            "Epoch 31/200\n",
            "270/270 [==============================] - 1s 4ms/step - loss: 0.3555 - auc: 0.9478 - val_loss: 0.3066 - val_auc: 0.9674\n",
            "Epoch 32/200\n",
            "270/270 [==============================] - 1s 3ms/step - loss: 0.3585 - auc: 0.9462 - val_loss: 0.3130 - val_auc: 0.9673\n",
            "Epoch 33/200\n",
            "270/270 [==============================] - 1s 4ms/step - loss: 0.3621 - auc: 0.9448 - val_loss: 0.3177 - val_auc: 0.9673\n",
            "Epoch 34/200\n",
            "270/270 [==============================] - 1s 4ms/step - loss: 0.3569 - auc: 0.9471 - val_loss: 0.3128 - val_auc: 0.9675\n",
            "Epoch 35/200\n",
            "270/270 [==============================] - 1s 4ms/step - loss: 0.3632 - auc: 0.9443 - val_loss: 0.3125 - val_auc: 0.9677\n",
            "Epoch 36/200\n",
            "270/270 [==============================] - 1s 4ms/step - loss: 0.3610 - auc: 0.9450 - val_loss: 0.3141 - val_auc: 0.9677\n",
            "Epoch 37/200\n",
            "270/270 [==============================] - 1s 4ms/step - loss: 0.3600 - auc: 0.9455 - val_loss: 0.3077 - val_auc: 0.9681\n",
            "Epoch 38/200\n",
            "270/270 [==============================] - 1s 4ms/step - loss: 0.3547 - auc: 0.9479 - val_loss: 0.3046 - val_auc: 0.9681\n",
            "Epoch 39/200\n",
            "270/270 [==============================] - 1s 4ms/step - loss: 0.3626 - auc: 0.9446 - val_loss: 0.3078 - val_auc: 0.9682\n",
            "Epoch 40/200\n",
            "270/270 [==============================] - 1s 4ms/step - loss: 0.3588 - auc: 0.9465 - val_loss: 0.3088 - val_auc: 0.9680\n",
            "Epoch 41/200\n",
            "270/270 [==============================] - 1s 4ms/step - loss: 0.3655 - auc: 0.9434 - val_loss: 0.3118 - val_auc: 0.9679\n",
            "Epoch 42/200\n",
            "270/270 [==============================] - 1s 4ms/step - loss: 0.3580 - auc: 0.9469 - val_loss: 0.3125 - val_auc: 0.9679\n",
            "Epoch 43/200\n",
            "270/270 [==============================] - 1s 4ms/step - loss: 0.3623 - auc: 0.9447 - val_loss: 0.3121 - val_auc: 0.9680\n",
            "Epoch 44/200\n",
            "270/270 [==============================] - 1s 4ms/step - loss: 0.3582 - auc: 0.9464 - val_loss: 0.3104 - val_auc: 0.9681\n",
            "Epoch 45/200\n",
            "270/270 [==============================] - 1s 4ms/step - loss: 0.3603 - auc: 0.9456 - val_loss: 0.3122 - val_auc: 0.9680\n",
            "Epoch 46/200\n",
            "270/270 [==============================] - 1s 4ms/step - loss: 0.3588 - auc: 0.9460 - val_loss: 0.3120 - val_auc: 0.9680\n",
            "Epoch 47/200\n",
            "270/270 [==============================] - 1s 4ms/step - loss: 0.3612 - auc: 0.9446 - val_loss: 0.3081 - val_auc: 0.9682\n",
            "Epoch 48/200\n",
            "270/270 [==============================] - 1s 4ms/step - loss: 0.3531 - auc: 0.9488 - val_loss: 0.3096 - val_auc: 0.9682\n",
            "Epoch 49/200\n",
            "270/270 [==============================] - 1s 4ms/step - loss: 0.3533 - auc: 0.9486 - val_loss: 0.3080 - val_auc: 0.9682\n",
            "Epoch 50/200\n",
            "270/270 [==============================] - 1s 4ms/step - loss: 0.3544 - auc: 0.9477 - val_loss: 0.3080 - val_auc: 0.9682\n",
            "Epoch 51/200\n",
            "270/270 [==============================] - 1s 4ms/step - loss: 0.3550 - auc: 0.9480 - val_loss: 0.3077 - val_auc: 0.9682\n",
            "Epoch 52/200\n",
            "270/270 [==============================] - 1s 4ms/step - loss: 0.3600 - auc: 0.9456 - val_loss: 0.3098 - val_auc: 0.9682\n",
            "Epoch 53/200\n",
            "270/270 [==============================] - 1s 4ms/step - loss: 0.3550 - auc: 0.9482 - val_loss: 0.3102 - val_auc: 0.9681\n",
            "Epoch 54/200\n",
            "270/270 [==============================] - 1s 4ms/step - loss: 0.3544 - auc: 0.9479 - val_loss: 0.3092 - val_auc: 0.9681\n",
            "Epoch 55/200\n",
            "270/270 [==============================] - 1s 4ms/step - loss: 0.3570 - auc: 0.9466 - val_loss: 0.3081 - val_auc: 0.9682\n",
            "Epoch 56/200\n",
            "270/270 [==============================] - 1s 4ms/step - loss: 0.3567 - auc: 0.9470 - val_loss: 0.3067 - val_auc: 0.9683\n",
            "Epoch 57/200\n",
            "270/270 [==============================] - 1s 4ms/step - loss: 0.3536 - auc: 0.9486 - val_loss: 0.3067 - val_auc: 0.9683\n",
            "Epoch 58/200\n",
            "270/270 [==============================] - 1s 4ms/step - loss: 0.3592 - auc: 0.9457 - val_loss: 0.3076 - val_auc: 0.9682\n",
            "Epoch 59/200\n",
            "270/270 [==============================] - 1s 4ms/step - loss: 0.3584 - auc: 0.9468 - val_loss: 0.3084 - val_auc: 0.9682\n",
            "Epoch 60/200\n",
            "270/270 [==============================] - 1s 4ms/step - loss: 0.3600 - auc: 0.9452 - val_loss: 0.3087 - val_auc: 0.9682\n",
            "Epoch 61/200\n",
            "270/270 [==============================] - 1s 4ms/step - loss: 0.3528 - auc: 0.9491 - val_loss: 0.3082 - val_auc: 0.9682\n",
            "Epoch 62/200\n",
            "270/270 [==============================] - 1s 4ms/step - loss: 0.3621 - auc: 0.9446 - val_loss: 0.3077 - val_auc: 0.9682\n",
            "Epoch 63/200\n",
            "270/270 [==============================] - 1s 4ms/step - loss: 0.3644 - auc: 0.9436 - val_loss: 0.3077 - val_auc: 0.9682\n",
            "Epoch 64/200\n",
            "270/270 [==============================] - 1s 4ms/step - loss: 0.3556 - auc: 0.9476 - val_loss: 0.3074 - val_auc: 0.9682\n",
            "Epoch 65/200\n",
            "270/270 [==============================] - 1s 4ms/step - loss: 0.3591 - auc: 0.9460 - val_loss: 0.3078 - val_auc: 0.9682\n",
            "Epoch 66/200\n",
            "270/270 [==============================] - 1s 4ms/step - loss: 0.3524 - auc: 0.9492 - val_loss: 0.3077 - val_auc: 0.9682\n",
            "Restoring model weights from the end of the best epoch.\n",
            "Epoch 00066: early stopping\n"
          ],
          "name": "stdout"
        }
      ]
    },
    {
      "cell_type": "code",
      "metadata": {
        "colab": {
          "base_uri": "https://localhost:8080/",
          "height": 295
        },
        "id": "-B8I5eKj-Vy_",
        "outputId": "e292963b-7666-4e2d-9053-027e0de5189d"
      },
      "source": [
        "plt.figure(figsize=(5.5,4))\n",
        "plt.title('Network fine-tunning phase')\n",
        "plt.plot(fine_tuning_history.history['loss'], label='training')\n",
        "plt.plot(fine_tuning_history.history['val_loss'], label='validation')\n",
        "plt.legend()\n",
        "plt.grid(axis='y')\n",
        "plt.xlabel('Epochs')\n",
        "plt.ylabel('Loss value')\n",
        "plt.show()"
      ],
      "execution_count": 28,
      "outputs": [
        {
          "output_type": "display_data",
          "data": {
            "image/png": "[encoded data removed]",
            "text/plain": [
              "<Figure size 396x288 with 1 Axes>"
            ]
          },
          "metadata": {
            "tags": []
          }
        }
      ]
    },
    {
      "cell_type": "code",
      "metadata": {
        "colab": {
          "base_uri": "https://localhost:8080/",
          "height": 222
        },
        "id": "1OR8h0om-eD_",
        "outputId": "22ebc8a0-6992-4e09-afdf-b8fb78b241e3"
      },
      "source": [
        "fig, ax = plt.subplots(1, 2, figsize=(7,3))\n",
        "#ax[0].set_title('Network training phase')\n",
        "ax[0].plot(classification_history.history['loss'], label='training')\n",
        "ax[0].plot(classification_history.history['val_loss'], label='validation')\n",
        "ax[0].set_xlabel('Epochs')\n",
        "ax[0].set_ylabel('Loss value')\n",
        "ax[0].legend(loc='upper right')\n",
        "ax[0].grid(axis='y')\n",
        "#ax[1].set_title('Network fine-tuning phase')\n",
        "ax[1].plot(fine_tuning_history.history['loss'], label='training')\n",
        "ax[1].plot(fine_tuning_history.history['val_loss'], label='validation')\n",
        "ax[1].set_xlabel('Epochs')\n",
        "ax[1].set_ylabel('Loss value')\n",
        "ax[1].legend(loc='upper right')\n",
        "ax[1].grid(axis='y')\n",
        "fig.tight_layout()\n",
        "plt.show()\n"
      ],
      "execution_count": 29,
      "outputs": [
        {
          "output_type": "display_data",
          "data": {
            "image/png": "[encoded data removed]",
            "text/plain": [
              "<Figure size 504x216 with 2 Axes>"
            ]
          },
          "metadata": {
            "tags": []
          }
        }
      ]
    },
    {
      "cell_type": "code",
      "metadata": {
        "id": "aur8rzGQ-mmy"
      },
      "source": [
        "y_scores = classifier_model.predict(X_test).flatten()"
      ],
      "execution_count": 30,
      "outputs": []
    },
    {
      "cell_type": "code",
      "metadata": {
        "id": "wpk0xqv7-oR-",
        "colab": {
          "base_uri": "https://localhost:8080/"
        },
        "outputId": "9353e578-9f4b-4fac-ae62-db9e5c3921fb"
      },
      "source": [
        "y_scores.shape"
      ],
      "execution_count": 31,
      "outputs": [
        {
          "output_type": "execute_result",
          "data": {
            "text/plain": [
              "(2400,)"
            ]
          },
          "metadata": {
            "tags": []
          },
          "execution_count": 31
        }
      ]
    },
    {
      "cell_type": "code",
      "metadata": {
        "id": "GqnCk5Fo-qOh",
        "colab": {
          "base_uri": "https://localhost:8080/"
        },
        "outputId": "04f82baa-6399-4345-cd27-af92156a2fbf"
      },
      "source": [
        "# Precision/recall trade-off \n",
        "precisions, recalls, thresholds = metrics.precision_recall_curve(y_test, y_scores)\n",
        "# Find a best threshold value (where precision and recall curves intersect)\n",
        "EPSILON = 1e-3  # Tolerance\n",
        "THRESHOLD = thresholds[np.argwhere(abs(precisions - recalls) < EPSILON)][0][0]\n",
        "print(THRESHOLD)"
      ],
      "execution_count": 32,
      "outputs": [
        {
          "output_type": "stream",
          "text": [
            "0.6658671\n"
          ],
          "name": "stdout"
        }
      ]
    },
    {
      "cell_type": "code",
      "metadata": {
        "id": "qtNcibLW-sV0"
      },
      "source": [
        "def precision_recall_tradeoff(thresholds, precisions, recalls, threshold, title=''):\n",
        "    fig, ax = plt.subplots(figsize=(5.5,3.5))\n",
        "    ax.set_title(title)\n",
        "    ax.plot(thresholds, precisions[:-1], lw=2, label='Precision')\n",
        "    ax.plot(thresholds, recalls[:-1], lw=2, label='Recall')\n",
        "    plt.vlines(threshold, 0, 1, linestyles='--', color='dimgrey', \n",
        "               label='Threshold = {:.2f}'.format(threshold))\n",
        "    ax.set_xlabel('Thresholds')\n",
        "    ax.set_ylabel('Precision / Recall')\n",
        "    ax.legend(loc='center left')\n",
        "    ax.grid()\n",
        "    fig.tight_layout()\n",
        "    plt.show()\n",
        "    return"
      ],
      "execution_count": 33,
      "outputs": []
    },
    {
      "cell_type": "code",
      "metadata": {
        "id": "zgY9XEI4-vN8",
        "colab": {
          "base_uri": "https://localhost:8080/",
          "height": 258
        },
        "outputId": "4240486f-dca2-4655-d27b-f04de7f5dbe2"
      },
      "source": [
        "# Show precision/recall curves\n",
        "precision_recall_tradeoff(thresholds, precisions, recalls, THRESHOLD, title='DNN classifier')"
      ],
      "execution_count": 34,
      "outputs": [
        {
          "output_type": "display_data",
          "data": {
            "image/png": "[encoded data removed]",
            "text/plain": [
              "<Figure size 396x252 with 1 Axes>"
            ]
          },
          "metadata": {
            "tags": []
          }
        }
      ]
    },
    {
      "cell_type": "code",
      "metadata": {
        "id": "lfIUPg0C-30_"
      },
      "source": [
        "pred = np.where(y_scores >= THRESHOLD, 1, 0)"
      ],
      "execution_count": 35,
      "outputs": []
    },
    {
      "cell_type": "code",
      "metadata": {
        "id": "QIr8LR7l-6uQ",
        "colab": {
          "base_uri": "https://localhost:8080/"
        },
        "outputId": "5333f44b-6111-471e-848d-f933bd1f1748"
      },
      "source": [
        " #Monte Carlo predictions\n",
        "predictions = np.stack([classifier_model(X_test, training=True) for sample in range(100)])\n",
        "predictions = predictions.reshape(100, -1)\n",
        "predictions.shape"
      ],
      "execution_count": 36,
      "outputs": [
        {
          "output_type": "execute_result",
          "data": {
            "text/plain": [
              "(100, 2400)"
            ]
          },
          "metadata": {
            "tags": []
          },
          "execution_count": 36
        }
      ]
    },
    {
      "cell_type": "code",
      "metadata": {
        "id": "yVRGsBmf_Cdj"
      },
      "source": [
        "# Showing boxplots for select cases\n",
        "predicts = pd.DataFrame(predictions[:,[11,12,13,16,19]], \n",
        "                        columns=['Case {:d}'.format(i+1) for i in range(5)])"
      ],
      "execution_count": 37,
      "outputs": []
    },
    {
      "cell_type": "code",
      "metadata": {
        "id": "ThrTMh1o_DUX",
        "colab": {
          "base_uri": "https://localhost:8080/",
          "height": 294
        },
        "outputId": "4fb48940-a2e1-470c-eae6-a50a3e87d8f0"
      },
      "source": [
        "fig, ax = plt.subplots(figsize=(6,4))\n",
        "sns.boxplot(data=predicts, orient='v', ax=ax, showmeans=True, \n",
        "            meanprops={'marker': '*', 'markeredgecolor': 'black', 'markersize': '10'})\n",
        "sns.swarmplot(data=predicts, orient='v', size=3, color='.3', alpha=0.7, ax=ax)\n",
        "ax.axhline(THRESHOLD, ls='--', lw=2, color='dimgrey', label='Threshold = {:.2f}'.format(THRESHOLD))\n",
        "ax.legend(loc='upper left')\n",
        "ax.set_ylabel('Probability')\n",
        "fig.tight_layout()\n",
        "plt.show()"
      ],
      "execution_count": 38,
      "outputs": [
        {
          "output_type": "display_data",
          "data": {
            "image/png": "[encoded data removed]",
            "text/plain": [
              "<Figure size 432x288 with 1 Axes>"
            ]
          },
          "metadata": {
            "tags": []
          }
        }
      ]
    },
    {
      "cell_type": "code",
      "metadata": {
        "id": "c5DLohOU_JGF"
      },
      "source": [
        "def show_confusion_matrix(y_true, y_pred, labels, title):\n",
        "    scores_image = heatmap(metrics.confusion_matrix(y_true, y_pred), xlabel='Predicted label', \n",
        "                       ylabel='True label', xticklabels=labels, yticklabels=labels, \n",
        "                       cmap=plt.cm.gray_r, fmt=\"%d\")\n",
        "    plt.title(title)\n",
        "    plt.gca().invert_yaxis()\n",
        "    plt.show()\n",
        "    return"
      ],
      "execution_count": 39,
      "outputs": []
    },
    {
      "cell_type": "code",
      "metadata": {
        "id": "Nk1U2Dnv_S2P",
        "colab": {
          "base_uri": "https://localhost:8080/",
          "height": 295
        },
        "outputId": "886a2caf-72ea-4684-aa0a-ebbf8dc3b2fc"
      },
      "source": [
        "labels = ['Stable', 'Unstable']\n",
        "# confusion matrix\n",
        "show_confusion_matrix(y_test, pred, labels, title='DNN classifier')"
      ],
      "execution_count": 40,
      "outputs": [
        {
          "output_type": "display_data",
          "data": {
            "image/png": "[encoded data removed]",
            "text/plain": [
              "<Figure size 432x288 with 1 Axes>"
            ]
          },
          "metadata": {
            "tags": []
          }
        }
      ]
    },
    {
      "cell_type": "code",
      "metadata": {
        "id": "m0XvtY21_V4R",
        "colab": {
          "base_uri": "https://localhost:8080/"
        },
        "outputId": "9870f0dc-07ea-47b3-ed32-c9b9fd4bfa7f"
      },
      "source": [
        "# classification report\n",
        "print(metrics.classification_report(y_test, pred, target_names=labels))"
      ],
      "execution_count": 41,
      "outputs": [
        {
          "output_type": "stream",
          "text": [
            "              precision    recall  f1-score   support\n",
            "\n",
            "      Stable       0.96      0.96      0.96      2161\n",
            "    Unstable       0.66      0.66      0.66       239\n",
            "\n",
            "    accuracy                           0.93      2400\n",
            "   macro avg       0.81      0.81      0.81      2400\n",
            "weighted avg       0.93      0.93      0.93      2400\n",
            "\n"
          ],
          "name": "stdout"
        }
      ]
    },
    {
      "cell_type": "code",
      "metadata": {
        "id": "zrqdSWPg_gXW"
      },
      "source": [
        "dnn_data = pd.DataFrame(data=[metrics.accuracy_score(y_test, pred), \n",
        "                              metrics.recall_score(y_test, pred),\n",
        "                              metrics.precision_score(y_test, pred), \n",
        "                              metrics.roc_auc_score(y_test, pred),\n",
        "                              metrics.f1_score(y_test, pred), \n",
        "                              matthews_score(y_test, pred), \n",
        "                              brier_score(y_test, y_scores)],\n",
        "                        index=[\"accuracy\", \"recall\", \"precision\", \"roc_auc_score\", \n",
        "                               \"f1-score\", \"matthews\", \"brier\"], \n",
        "                        columns=['Values'])"
      ],
      "execution_count": 42,
      "outputs": []
    },
    {
      "cell_type": "code",
      "metadata": {
        "id": "dZcK-jQ__mp4"
      },
      "source": [
        ""
      ],
      "execution_count": 42,
      "outputs": []
    },
    {
      "cell_type": "code",
      "metadata": {
        "id": "iusZm18c_xvZ"
      },
      "source": [
        ""
      ],
      "execution_count": 42,
      "outputs": []
    },
    {
      "cell_type": "code",
      "metadata": {
        "id": "R77N0zA0_0cs"
      },
      "source": [
        ""
      ],
      "execution_count": 42,
      "outputs": []
    }
  ]
}