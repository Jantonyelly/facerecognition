{
  "nbformat": 4,
  "nbformat_minor": 0,
  "metadata": {
    "colab": {
      "name": "contin2",
      "provenance": [],
      "collapsed_sections": [],
      "include_colab_link": true
    },
    "kernelspec": {
      "display_name": "Python 3",
      "name": "python3"
    },
    "language_info": {
      "name": "python"
    }
  },
  "cells": [
    {
      "cell_type": "markdown",
      "metadata": {
        "id": "view-in-github",
        "colab_type": "text"
      },
      "source": [
        "<a href=\"https://colab.research.google.com/github/Jantonyelly/facerecognition/blob/main/contin3-92.ipynb\" target=\"_parent\"><img src=\"https://colab.research.google.com/assets/colab-badge.svg\" alt=\"Open In Colab\"/></a>"
      ]
    },
    {
      "cell_type": "code",
      "metadata": {
        "id": "iFa0gfm94dCX",
        "colab": {
          "base_uri": "https://localhost:8080/",
          "height": 255
        },
        "outputId": "e2a5dcc9-5693-4c65-e326-8a9efcef11f2"
      },
      "source": [
        "import numpy as np\n",
        "import pandas as pd\n",
        "data = pd.read_csv(r'/content/zeta_sol_IEEE68AC--conti3.csv')\n",
        "data.head()"
      ],
      "execution_count": 1,
      "outputs": [
        {
          "output_type": "execute_result",
          "data": {
            "text/html": [
              "<div>\n",
              "<style scoped>\n",
              "    .dataframe tbody tr th:only-of-type {\n",
              "        vertical-align: middle;\n",
              "    }\n",
              "\n",
              "    .dataframe tbody tr th {\n",
              "        vertical-align: top;\n",
              "    }\n",
              "\n",
              "    .dataframe thead th {\n",
              "        text-align: right;\n",
              "    }\n",
              "</style>\n",
              "<table border=\"1\" class=\"dataframe\">\n",
              "  <thead>\n",
              "    <tr style=\"text-align: right;\">\n",
              "      <th></th>\n",
              "      <th>1</th>\n",
              "      <th>2</th>\n",
              "      <th>3</th>\n",
              "      <th>4</th>\n",
              "      <th>5</th>\n",
              "      <th>6</th>\n",
              "      <th>7</th>\n",
              "      <th>8</th>\n",
              "      <th>9</th>\n",
              "      <th>10</th>\n",
              "      <th>11</th>\n",
              "      <th>12</th>\n",
              "      <th>13</th>\n",
              "      <th>14</th>\n",
              "      <th>15</th>\n",
              "      <th>16</th>\n",
              "      <th>17</th>\n",
              "      <th>18</th>\n",
              "      <th>19</th>\n",
              "      <th>20</th>\n",
              "      <th>21</th>\n",
              "      <th>22</th>\n",
              "      <th>23</th>\n",
              "      <th>24</th>\n",
              "      <th>25</th>\n",
              "      <th>26</th>\n",
              "      <th>27</th>\n",
              "      <th>28</th>\n",
              "      <th>29</th>\n",
              "      <th>30</th>\n",
              "      <th>31</th>\n",
              "      <th>32</th>\n",
              "      <th>33</th>\n",
              "      <th>34</th>\n",
              "      <th>35</th>\n",
              "      <th>36</th>\n",
              "      <th>37</th>\n",
              "      <th>38</th>\n",
              "      <th>39</th>\n",
              "      <th>40</th>\n",
              "      <th>...</th>\n",
              "      <th>400</th>\n",
              "      <th>401</th>\n",
              "      <th>402</th>\n",
              "      <th>403</th>\n",
              "      <th>404</th>\n",
              "      <th>405</th>\n",
              "      <th>406</th>\n",
              "      <th>407</th>\n",
              "      <th>408</th>\n",
              "      <th>409</th>\n",
              "      <th>410</th>\n",
              "      <th>411</th>\n",
              "      <th>412</th>\n",
              "      <th>413</th>\n",
              "      <th>414</th>\n",
              "      <th>415</th>\n",
              "      <th>416</th>\n",
              "      <th>417</th>\n",
              "      <th>418</th>\n",
              "      <th>419</th>\n",
              "      <th>420</th>\n",
              "      <th>421</th>\n",
              "      <th>422</th>\n",
              "      <th>423</th>\n",
              "      <th>424</th>\n",
              "      <th>425</th>\n",
              "      <th>426</th>\n",
              "      <th>427</th>\n",
              "      <th>428</th>\n",
              "      <th>429</th>\n",
              "      <th>430</th>\n",
              "      <th>431</th>\n",
              "      <th>432</th>\n",
              "      <th>433</th>\n",
              "      <th>434</th>\n",
              "      <th>435</th>\n",
              "      <th>436</th>\n",
              "      <th>437</th>\n",
              "      <th>438</th>\n",
              "      <th>439</th>\n",
              "    </tr>\n",
              "  </thead>\n",
              "  <tbody>\n",
              "    <tr>\n",
              "      <th>0</th>\n",
              "      <td>-0.654767</td>\n",
              "      <td>-0.700667</td>\n",
              "      <td>-0.648094</td>\n",
              "      <td>-0.785926</td>\n",
              "      <td>-0.765472</td>\n",
              "      <td>-0.744509</td>\n",
              "      <td>-0.743870</td>\n",
              "      <td>-0.660407</td>\n",
              "      <td>-0.326413</td>\n",
              "      <td>-0.440122</td>\n",
              "      <td>-0.363301</td>\n",
              "      <td>-0.823662</td>\n",
              "      <td>-0.858138</td>\n",
              "      <td>0.542747</td>\n",
              "      <td>0.294155</td>\n",
              "      <td>0</td>\n",
              "      <td>-0.975084</td>\n",
              "      <td>-0.104050</td>\n",
              "      <td>-0.831740</td>\n",
              "      <td>-0.851927</td>\n",
              "      <td>-0.858042</td>\n",
              "      <td>-0.810257</td>\n",
              "      <td>-0.822169</td>\n",
              "      <td>-0.877014</td>\n",
              "      <td>-0.720492</td>\n",
              "      <td>-0.714268</td>\n",
              "      <td>-0.789899</td>\n",
              "      <td>-0.567929</td>\n",
              "      <td>-0.493200</td>\n",
              "      <td>-0.685745</td>\n",
              "      <td>-0.617162</td>\n",
              "      <td>-0.543370</td>\n",
              "      <td>-0.635749</td>\n",
              "      <td>-0.772084</td>\n",
              "      <td>-0.771810</td>\n",
              "      <td>-0.872363</td>\n",
              "      <td>-0.837815</td>\n",
              "      <td>-0.617261</td>\n",
              "      <td>-0.974259</td>\n",
              "      <td>-0.343236</td>\n",
              "      <td>...</td>\n",
              "      <td>0.009397</td>\n",
              "      <td>0.418476</td>\n",
              "      <td>-8.065883</td>\n",
              "      <td>7.398504</td>\n",
              "      <td>4.254639</td>\n",
              "      <td>6.864996</td>\n",
              "      <td>0.139002</td>\n",
              "      <td>0.075539</td>\n",
              "      <td>0.139005</td>\n",
              "      <td>0.035050</td>\n",
              "      <td>2.592105</td>\n",
              "      <td>2.957386</td>\n",
              "      <td>0.429199</td>\n",
              "      <td>2.716974</td>\n",
              "      <td>4.796688</td>\n",
              "      <td>1.972747</td>\n",
              "      <td>7.689734</td>\n",
              "      <td>-11.117909</td>\n",
              "      <td>0.425741</td>\n",
              "      <td>-2.020049</td>\n",
              "      <td>-1.233729</td>\n",
              "      <td>-5.503058</td>\n",
              "      <td>-0.215765</td>\n",
              "      <td>1.400113</td>\n",
              "      <td>2.791107</td>\n",
              "      <td>-2.436116</td>\n",
              "      <td>-1.387701</td>\n",
              "      <td>-0.061192</td>\n",
              "      <td>0.686391</td>\n",
              "      <td>2.037245</td>\n",
              "      <td>-2.129039</td>\n",
              "      <td>0.091794</td>\n",
              "      <td>-3.205714</td>\n",
              "      <td>-0.001006</td>\n",
              "      <td>0.377888</td>\n",
              "      <td>-3.197011</td>\n",
              "      <td>-2.803898</td>\n",
              "      <td>0.474972</td>\n",
              "      <td>-0.362934</td>\n",
              "      <td>0</td>\n",
              "    </tr>\n",
              "    <tr>\n",
              "      <th>1</th>\n",
              "      <td>-1.056926</td>\n",
              "      <td>-1.036600</td>\n",
              "      <td>-1.042843</td>\n",
              "      <td>-1.140621</td>\n",
              "      <td>-1.084272</td>\n",
              "      <td>-1.147664</td>\n",
              "      <td>-1.130044</td>\n",
              "      <td>-1.058712</td>\n",
              "      <td>-0.721367</td>\n",
              "      <td>-1.016123</td>\n",
              "      <td>-1.005416</td>\n",
              "      <td>-1.115213</td>\n",
              "      <td>-1.151219</td>\n",
              "      <td>0.023641</td>\n",
              "      <td>-0.271096</td>\n",
              "      <td>0</td>\n",
              "      <td>-1.274404</td>\n",
              "      <td>-0.145641</td>\n",
              "      <td>-1.187639</td>\n",
              "      <td>-1.191768</td>\n",
              "      <td>-1.246038</td>\n",
              "      <td>-1.204081</td>\n",
              "      <td>-1.213255</td>\n",
              "      <td>-1.259231</td>\n",
              "      <td>-1.117432</td>\n",
              "      <td>-1.106434</td>\n",
              "      <td>-1.179655</td>\n",
              "      <td>-0.962362</td>\n",
              "      <td>-0.888034</td>\n",
              "      <td>-1.116036</td>\n",
              "      <td>-1.079656</td>\n",
              "      <td>-1.065301</td>\n",
              "      <td>-1.093645</td>\n",
              "      <td>-1.133002</td>\n",
              "      <td>-1.115978</td>\n",
              "      <td>-1.194041</td>\n",
              "      <td>-1.222196</td>\n",
              "      <td>-1.061605</td>\n",
              "      <td>-1.282667</td>\n",
              "      <td>-0.808892</td>\n",
              "      <td>...</td>\n",
              "      <td>1.180861</td>\n",
              "      <td>0.685916</td>\n",
              "      <td>-7.792667</td>\n",
              "      <td>7.130660</td>\n",
              "      <td>4.408717</td>\n",
              "      <td>-2.076072</td>\n",
              "      <td>-0.050293</td>\n",
              "      <td>0.177691</td>\n",
              "      <td>-0.050242</td>\n",
              "      <td>2.608912</td>\n",
              "      <td>2.507077</td>\n",
              "      <td>2.821057</td>\n",
              "      <td>1.884704</td>\n",
              "      <td>2.547792</td>\n",
              "      <td>4.623510</td>\n",
              "      <td>3.443271</td>\n",
              "      <td>10.023562</td>\n",
              "      <td>-13.428598</td>\n",
              "      <td>0.305728</td>\n",
              "      <td>-1.891419</td>\n",
              "      <td>-0.368189</td>\n",
              "      <td>-4.853915</td>\n",
              "      <td>0.213406</td>\n",
              "      <td>1.941012</td>\n",
              "      <td>3.333238</td>\n",
              "      <td>-2.525194</td>\n",
              "      <td>-1.388292</td>\n",
              "      <td>-0.190286</td>\n",
              "      <td>0.569476</td>\n",
              "      <td>1.277127</td>\n",
              "      <td>-1.397630</td>\n",
              "      <td>0.120503</td>\n",
              "      <td>-3.153384</td>\n",
              "      <td>-0.029371</td>\n",
              "      <td>0.315159</td>\n",
              "      <td>-3.173158</td>\n",
              "      <td>-2.841741</td>\n",
              "      <td>0.390646</td>\n",
              "      <td>-0.228706</td>\n",
              "      <td>0</td>\n",
              "    </tr>\n",
              "    <tr>\n",
              "      <th>2</th>\n",
              "      <td>-0.485537</td>\n",
              "      <td>-0.424480</td>\n",
              "      <td>-0.425817</td>\n",
              "      <td>-0.487376</td>\n",
              "      <td>-0.439520</td>\n",
              "      <td>-0.481349</td>\n",
              "      <td>-0.429234</td>\n",
              "      <td>-0.435048</td>\n",
              "      <td>-0.071290</td>\n",
              "      <td>-0.279703</td>\n",
              "      <td>-0.381687</td>\n",
              "      <td>-0.422708</td>\n",
              "      <td>-0.519149</td>\n",
              "      <td>0.740181</td>\n",
              "      <td>0.445686</td>\n",
              "      <td>0</td>\n",
              "      <td>-0.643710</td>\n",
              "      <td>-0.084083</td>\n",
              "      <td>-0.534018</td>\n",
              "      <td>-0.538838</td>\n",
              "      <td>-0.581771</td>\n",
              "      <td>-0.533683</td>\n",
              "      <td>-0.536066</td>\n",
              "      <td>-0.599391</td>\n",
              "      <td>-0.495322</td>\n",
              "      <td>-0.465277</td>\n",
              "      <td>-0.534419</td>\n",
              "      <td>-0.313015</td>\n",
              "      <td>-0.237961</td>\n",
              "      <td>-0.472173</td>\n",
              "      <td>-0.426442</td>\n",
              "      <td>-0.440561</td>\n",
              "      <td>-0.474593</td>\n",
              "      <td>-0.524777</td>\n",
              "      <td>-0.530859</td>\n",
              "      <td>-0.546847</td>\n",
              "      <td>-0.574900</td>\n",
              "      <td>-0.440991</td>\n",
              "      <td>-0.697223</td>\n",
              "      <td>-0.148464</td>\n",
              "      <td>...</td>\n",
              "      <td>-0.982337</td>\n",
              "      <td>0.784885</td>\n",
              "      <td>-7.716205</td>\n",
              "      <td>7.091125</td>\n",
              "      <td>4.686792</td>\n",
              "      <td>8.598895</td>\n",
              "      <td>-1.096271</td>\n",
              "      <td>0.537843</td>\n",
              "      <td>-1.096039</td>\n",
              "      <td>-0.973860</td>\n",
              "      <td>2.009661</td>\n",
              "      <td>1.997118</td>\n",
              "      <td>-0.197204</td>\n",
              "      <td>2.662941</td>\n",
              "      <td>4.639289</td>\n",
              "      <td>1.243003</td>\n",
              "      <td>5.027094</td>\n",
              "      <td>-8.239500</td>\n",
              "      <td>-0.460580</td>\n",
              "      <td>-1.044383</td>\n",
              "      <td>-1.113178</td>\n",
              "      <td>-3.782257</td>\n",
              "      <td>0.336880</td>\n",
              "      <td>1.736286</td>\n",
              "      <td>2.892578</td>\n",
              "      <td>-2.224347</td>\n",
              "      <td>-1.153413</td>\n",
              "      <td>0.026642</td>\n",
              "      <td>0.875343</td>\n",
              "      <td>1.221359</td>\n",
              "      <td>-1.323085</td>\n",
              "      <td>0.101727</td>\n",
              "      <td>-2.680313</td>\n",
              "      <td>-0.014943</td>\n",
              "      <td>0.510444</td>\n",
              "      <td>-2.688377</td>\n",
              "      <td>-2.168758</td>\n",
              "      <td>0.889214</td>\n",
              "      <td>-0.225851</td>\n",
              "      <td>0</td>\n",
              "    </tr>\n",
              "    <tr>\n",
              "      <th>3</th>\n",
              "      <td>-0.399518</td>\n",
              "      <td>-0.338218</td>\n",
              "      <td>-0.402695</td>\n",
              "      <td>-0.397027</td>\n",
              "      <td>-0.418572</td>\n",
              "      <td>-0.385424</td>\n",
              "      <td>-0.333250</td>\n",
              "      <td>-0.382728</td>\n",
              "      <td>-0.028025</td>\n",
              "      <td>-0.250656</td>\n",
              "      <td>-0.153927</td>\n",
              "      <td>-0.505058</td>\n",
              "      <td>-0.766558</td>\n",
              "      <td>0.424546</td>\n",
              "      <td>-0.031722</td>\n",
              "      <td>0</td>\n",
              "      <td>-0.858034</td>\n",
              "      <td>-0.108983</td>\n",
              "      <td>-0.465640</td>\n",
              "      <td>-0.492057</td>\n",
              "      <td>-0.504717</td>\n",
              "      <td>-0.446986</td>\n",
              "      <td>-0.449269</td>\n",
              "      <td>-0.529199</td>\n",
              "      <td>-0.440422</td>\n",
              "      <td>-0.413758</td>\n",
              "      <td>-0.479668</td>\n",
              "      <td>-0.268133</td>\n",
              "      <td>-0.194119</td>\n",
              "      <td>-0.468489</td>\n",
              "      <td>-0.411294</td>\n",
              "      <td>-0.336216</td>\n",
              "      <td>-0.435582</td>\n",
              "      <td>-0.586300</td>\n",
              "      <td>-0.600456</td>\n",
              "      <td>-0.670895</td>\n",
              "      <td>-0.513701</td>\n",
              "      <td>-0.423320</td>\n",
              "      <td>-0.857174</td>\n",
              "      <td>-0.211930</td>\n",
              "      <td>...</td>\n",
              "      <td>-0.843710</td>\n",
              "      <td>0.317660</td>\n",
              "      <td>-7.472901</td>\n",
              "      <td>6.817137</td>\n",
              "      <td>7.791368</td>\n",
              "      <td>1.148140</td>\n",
              "      <td>0.180354</td>\n",
              "      <td>0.099909</td>\n",
              "      <td>0.180431</td>\n",
              "      <td>-2.031322</td>\n",
              "      <td>2.580386</td>\n",
              "      <td>2.911129</td>\n",
              "      <td>-0.525396</td>\n",
              "      <td>2.364930</td>\n",
              "      <td>4.373453</td>\n",
              "      <td>0.943853</td>\n",
              "      <td>5.483634</td>\n",
              "      <td>-8.860805</td>\n",
              "      <td>-0.788189</td>\n",
              "      <td>-0.803958</td>\n",
              "      <td>0.072928</td>\n",
              "      <td>-4.090737</td>\n",
              "      <td>-0.135732</td>\n",
              "      <td>1.256883</td>\n",
              "      <td>3.512858</td>\n",
              "      <td>-3.243966</td>\n",
              "      <td>-2.248838</td>\n",
              "      <td>-0.942617</td>\n",
              "      <td>-1.099686</td>\n",
              "      <td>1.022373</td>\n",
              "      <td>-1.113295</td>\n",
              "      <td>0.090922</td>\n",
              "      <td>-2.134252</td>\n",
              "      <td>0.001636</td>\n",
              "      <td>0.592155</td>\n",
              "      <td>-2.128106</td>\n",
              "      <td>-1.531456</td>\n",
              "      <td>1.588661</td>\n",
              "      <td>-0.088552</td>\n",
              "      <td>0</td>\n",
              "    </tr>\n",
              "    <tr>\n",
              "      <th>4</th>\n",
              "      <td>-1.061267</td>\n",
              "      <td>-1.046116</td>\n",
              "      <td>-1.047895</td>\n",
              "      <td>-1.141464</td>\n",
              "      <td>-1.192787</td>\n",
              "      <td>-1.084721</td>\n",
              "      <td>-1.051286</td>\n",
              "      <td>-1.025664</td>\n",
              "      <td>-0.756708</td>\n",
              "      <td>-0.943720</td>\n",
              "      <td>-0.945527</td>\n",
              "      <td>-1.068194</td>\n",
              "      <td>-1.096007</td>\n",
              "      <td>0.119455</td>\n",
              "      <td>-0.213303</td>\n",
              "      <td>0</td>\n",
              "      <td>-1.231503</td>\n",
              "      <td>-0.139121</td>\n",
              "      <td>-1.202508</td>\n",
              "      <td>-1.248480</td>\n",
              "      <td>-1.203851</td>\n",
              "      <td>-1.148534</td>\n",
              "      <td>-1.154135</td>\n",
              "      <td>-1.228340</td>\n",
              "      <td>-1.099459</td>\n",
              "      <td>-1.101248</td>\n",
              "      <td>-1.166312</td>\n",
              "      <td>-0.978207</td>\n",
              "      <td>-0.910424</td>\n",
              "      <td>-1.071231</td>\n",
              "      <td>-1.028918</td>\n",
              "      <td>-1.012837</td>\n",
              "      <td>-1.044214</td>\n",
              "      <td>-1.087774</td>\n",
              "      <td>-1.071669</td>\n",
              "      <td>-1.149699</td>\n",
              "      <td>-1.202623</td>\n",
              "      <td>-1.012038</td>\n",
              "      <td>-1.244124</td>\n",
              "      <td>-0.746113</td>\n",
              "      <td>...</td>\n",
              "      <td>1.074993</td>\n",
              "      <td>0.681350</td>\n",
              "      <td>-7.845428</td>\n",
              "      <td>7.195527</td>\n",
              "      <td>5.108164</td>\n",
              "      <td>-1.294968</td>\n",
              "      <td>-0.149826</td>\n",
              "      <td>0.195747</td>\n",
              "      <td>-0.149806</td>\n",
              "      <td>2.372483</td>\n",
              "      <td>2.449237</td>\n",
              "      <td>2.737049</td>\n",
              "      <td>1.771080</td>\n",
              "      <td>2.641403</td>\n",
              "      <td>4.698569</td>\n",
              "      <td>3.269422</td>\n",
              "      <td>9.644247</td>\n",
              "      <td>-12.960254</td>\n",
              "      <td>0.166588</td>\n",
              "      <td>-1.734091</td>\n",
              "      <td>-1.029622</td>\n",
              "      <td>-4.754052</td>\n",
              "      <td>0.153771</td>\n",
              "      <td>1.797731</td>\n",
              "      <td>2.852095</td>\n",
              "      <td>-2.146795</td>\n",
              "      <td>-1.051663</td>\n",
              "      <td>0.139364</td>\n",
              "      <td>1.175844</td>\n",
              "      <td>1.139949</td>\n",
              "      <td>-1.253957</td>\n",
              "      <td>0.114008</td>\n",
              "      <td>-2.857171</td>\n",
              "      <td>-0.025092</td>\n",
              "      <td>0.299909</td>\n",
              "      <td>-2.874720</td>\n",
              "      <td>-2.562654</td>\n",
              "      <td>0.566947</td>\n",
              "      <td>-0.310929</td>\n",
              "      <td>0</td>\n",
              "    </tr>\n",
              "  </tbody>\n",
              "</table>\n",
              "<p>5 rows × 439 columns</p>\n",
              "</div>"
            ],
            "text/plain": [
              "          1         2         3         4  ...       436       437       438  439\n",
              "0 -0.654767 -0.700667 -0.648094 -0.785926  ... -2.803898  0.474972 -0.362934    0\n",
              "1 -1.056926 -1.036600 -1.042843 -1.140621  ... -2.841741  0.390646 -0.228706    0\n",
              "2 -0.485537 -0.424480 -0.425817 -0.487376  ... -2.168758  0.889214 -0.225851    0\n",
              "3 -0.399518 -0.338218 -0.402695 -0.397027  ... -1.531456  1.588661 -0.088552    0\n",
              "4 -1.061267 -1.046116 -1.047895 -1.141464  ... -2.562654  0.566947 -0.310929    0\n",
              "\n",
              "[5 rows x 439 columns]"
            ]
          },
          "metadata": {
            "tags": []
          },
          "execution_count": 1
        }
      ]
    },
    {
      "cell_type": "code",
      "metadata": {
        "id": "o7OKDin4-bFc",
        "colab": {
          "base_uri": "https://localhost:8080/"
        },
        "outputId": "8440b352-1ff3-4d3c-d9ca-463001d4f8bb"
      },
      "source": [
        "from google.colab import drive\n",
        "drive.mount('/content/drive')"
      ],
      "execution_count": 2,
      "outputs": [
        {
          "output_type": "stream",
          "text": [
            "Drive already mounted at /content/drive; to attempt to forcibly remount, call drive.mount(\"/content/drive\", force_remount=True).\n"
          ],
          "name": "stdout"
        }
      ]
    },
    {
      "cell_type": "code",
      "metadata": {
        "id": "PfhQD8ws6tZF"
      },
      "source": [
        "import timeit\n",
        "import datetime as dt\n",
        "import numpy as np\n",
        "import pandas as pd\n",
        "import seaborn as sns\n",
        "import matplotlib.pyplot as plt\n",
        "from scipy import stats\n",
        "from scipy import optimize\n",
        "from sklearn import metrics\n",
        "from sklearn import preprocessing\n",
        "from sklearn import svm\n",
        "from sklearn.ensemble import RandomForestClassifier\n",
        "from sklearn.ensemble import VotingClassifier\n",
        "from sklearn.model_selection import RandomizedSearchCV\n",
        "from sklearn.model_selection import StratifiedShuffleSplit\n",
        "from sklearn.model_selection import cross_val_score\n",
        "from sklearn.calibration import CalibratedClassifierCV, calibration_curve\n",
        "from sklearn.utils import class_weight"
      ],
      "execution_count": 3,
      "outputs": []
    },
    {
      "cell_type": "code",
      "metadata": {
        "id": "lGjec-TI6uo2"
      },
      "source": [
        " #TensorFlow 2 -> Keras\n",
        "from tensorflow import keras"
      ],
      "execution_count": 4,
      "outputs": []
    },
    {
      "cell_type": "code",
      "metadata": {
        "id": "GJbtkFm26zm3"
      },
      "source": [
        "try:\n",
        "    # Using experimental HalvingRandomSearchCV for hyperparameters optimization\n",
        "    from sklearn.experimental import enable_halving_search_cv # noqa\n",
        "    from sklearn.model_selection import HalvingRandomSearchCV\n",
        "except ImportError:\n",
        "    print('HalvingRandomSearchCV not found. Update scikit-learn to 0.24.')"
      ],
      "execution_count": 5,
      "outputs": []
    },
    {
      "cell_type": "code",
      "metadata": {
        "id": "5B-TFD6D6726",
        "colab": {
          "base_uri": "https://localhost:8080/"
        },
        "outputId": "8c2a8861-8456-46c4-e955-57fa1cc3aa2e"
      },
      "source": [
        "pip install scikit-learn==0.24.2"
      ],
      "execution_count": 6,
      "outputs": [
        {
          "output_type": "stream",
          "text": [
            "Requirement already satisfied: scikit-learn==0.24.2 in /usr/local/lib/python3.7/dist-packages (0.24.2)\n",
            "Requirement already satisfied: scipy>=0.19.1 in /usr/local/lib/python3.7/dist-packages (from scikit-learn==0.24.2) (1.4.1)\n",
            "Requirement already satisfied: threadpoolctl>=2.0.0 in /usr/local/lib/python3.7/dist-packages (from scikit-learn==0.24.2) (2.2.0)\n",
            "Requirement already satisfied: joblib>=0.11 in /usr/local/lib/python3.7/dist-packages (from scikit-learn==0.24.2) (1.0.1)\n",
            "Requirement already satisfied: numpy>=1.13.3 in /usr/local/lib/python3.7/dist-packages (from scikit-learn==0.24.2) (1.19.5)\n"
          ],
          "name": "stdout"
        }
      ]
    },
    {
      "cell_type": "code",
      "metadata": {
        "id": "fc6htFgI61wn"
      },
      "source": [
        "#rom bayes_optim.bayesian_optimization import BayesianOptimization\n",
        "import warnings\n",
        "warnings.filterwarnings(action='ignore', category=FutureWarning)\n",
        "# Inline figures\n",
        "%matplotlib inline"
      ],
      "execution_count": 7,
      "outputs": []
    },
    {
      "cell_type": "code",
      "metadata": {
        "id": "KbQI52SY8Zc9"
      },
      "source": [
        "# Figure aesthetics from Seaborn\n",
        "sns.set(context='paper', style='white', font_scale=1.2)\n",
        "sns.set_style('ticks', {'xtick.direction':'in', 'ytick.direction':'in'})"
      ],
      "execution_count": 8,
      "outputs": []
    },
    {
      "cell_type": "code",
      "metadata": {
        "id": "yR1f7smS8aM6"
      },
      "source": [
        "# An ancilary function for showing the confusion matrix, taken from:\n",
        "# https://github.com/amueller/introduction_to_ml_with_python/blob/master/mglearn/tools.py\n",
        "def heatmap(values, xlabel, ylabel, xticklabels, yticklabels, cmap=None,\n",
        "            vmin=None, vmax=None, ax=None, fmt=\"%0.2f\", fontsize=14):\n",
        "    if ax is None:\n",
        "        ax = plt.gca()\n",
        "    # plot the mean cross-validation scores\n",
        "    img = ax.pcolor(values, cmap=cmap, vmin=vmin, vmax=vmax)\n",
        "    img.update_scalarmappable()\n",
        "    ax.set_xlabel(xlabel)\n",
        "    ax.set_ylabel(ylabel)\n",
        "    ax.set_xticks(np.arange(len(xticklabels)) + .5)\n",
        "    ax.set_yticks(np.arange(len(yticklabels)) + .5)\n",
        "    ax.set_xticklabels(xticklabels)\n",
        "    ax.set_yticklabels(yticklabels)\n",
        "    ax.set_aspect(1)\n",
        "\n",
        "    for p, color, value in zip(img.get_paths(), img.get_facecolors(),\n",
        "                               img.get_array()):\n",
        "        x, y = p.vertices[:-2, :].mean(0)\n",
        "        if np.mean(color[:3]) > 0.5:\n",
        "            c = 'k'\n",
        "        else:\n",
        "            c = 'w'\n",
        "        ax.text(x, y, fmt % value, color=c, ha=\"center\", va=\"center\", fontsize=fontsize)\n",
        "    return img"
      ],
      "execution_count": 9,
      "outputs": []
    },
    {
      "cell_type": "code",
      "metadata": {
        "id": "vzF6j_2y8cnv"
      },
      "source": [
        "def matthews_score(y_true, y_pred):\n",
        "    \"\"\"\" Matthews correlation coeficient \n",
        "\n",
        "    Matthews coefficient ranges between -1 and +1. A coefficient of +1 \n",
        "    represents a perfect prediction, 0 no better than random guessing \n",
        "    and -1 indicates a total disagreement between prediction and observation.\n",
        "\n",
        "    Arguments\n",
        "    ---------\n",
        "    y_true: array-like of shape (n_samples,)\n",
        "        Ground truth (correct) target values.\n",
        "    y_pred: array-like of shape (n_samples,)\n",
        "        Estimated targets as returned by a classifier.\n",
        "\n",
        "    Returns\n",
        "    -------\n",
        "    matthews: float\n",
        "        Matthews correlation coefficient between -1 and +1.\n",
        "    \"\"\"\n",
        "    # Confusion matrix\n",
        "    C_mat = metrics.confusion_matrix(y_true, y_pred)\n",
        "    tn = C_mat[0,0]  # true negatives\n",
        "    fn = C_mat[1,0]  # false negatives\n",
        "    tp = C_mat[1,1]  # true positives\n",
        "    fp = C_mat[0,1]  # false positives\n",
        "    # Matthews coefficient\n",
        "    matthews = (tp*tn - fp*fn) / np.sqrt((tp + fp)*(tp + fn)*(tn + fp)*(tn + fn))\n",
        "    return matthews"
      ],
      "execution_count": 10,
      "outputs": []
    },
    {
      "cell_type": "code",
      "metadata": {
        "id": "t-YF0Ref8e6H"
      },
      "source": [
        "def brier_score(y_labels, y_probas):\n",
        "    \"\"\" Briers score for binary classification.\n",
        "\n",
        "    Arguments\n",
        "    ---------\n",
        "    y_labels: array-like\n",
        "        Array with actual class labels (zeros and ones).\n",
        "    y_probas: array-like\n",
        "        Array with probabilities of positive class (of class one).\n",
        "    Returns\n",
        "    -------\n",
        "    BS: float\n",
        "        Briers score value.\n",
        "    \"\"\"\n",
        "    n_samples = len(y_labels)\n",
        "    BS = np.sum((y_labels - y_probas)**2)/float(n_samples)\n",
        "    return BS"
      ],
      "execution_count": 11,
      "outputs": []
    },
    {
      "cell_type": "code",
      "metadata": {
        "id": "ZfZIbShB5on-",
        "colab": {
          "base_uri": "https://localhost:8080/"
        },
        "outputId": "b886a889-5783-4c95-c89e-a4306d6b9b56"
      },
      "source": [
        "data.shape\n",
        "# Percentage of \"ones\" in the \"Stability\" column\n",
        "print('There is {:.1f}% of unstable cases in the dataset!'\n",
        "      .format(data['439'].sum()/float(len(data['439']))*100.))"
      ],
      "execution_count": 12,
      "outputs": [
        {
          "output_type": "stream",
          "text": [
            "There is 14.8% of unstable cases in the dataset!\n"
          ],
          "name": "stdout"
        }
      ]
    },
    {
      "cell_type": "code",
      "metadata": {
        "id": "0lA5juzG6Ytn",
        "colab": {
          "base_uri": "https://localhost:8080/"
        },
        "outputId": "1533b382-0da6-4863-cb25-9371a6d377d8"
      },
      "source": [
        "# Features and target\n",
        "no_features = len(data.columns) - 1\n",
        "X_data = data.iloc[:,0:no_features]  # features\n",
        "print('X_data', X_data.shape)\n",
        "y_data = data['439']"
      ],
      "execution_count": 13,
      "outputs": [
        {
          "output_type": "stream",
          "text": [
            "X_data (12000, 438)\n"
          ],
          "name": "stdout"
        }
      ]
    },
    {
      "cell_type": "code",
      "metadata": {
        "id": "ffhnjNqk6eGs"
      },
      "source": [
        "# Stratified Shuffle Split dataset into train and test sets 分层Shuffle将数据集划分为训练集和测试集\n",
        "# (stratified shuffle split preserves unbalance between categories,分层洗牌分裂保持了类别之间的不平衡\n",
        "# while shuffling and splitting data into train and test sets). 同时将数据变换和拆分为训练集和测试集\n",
        "splitter = StratifiedShuffleSplit(n_splits=1, train_size=0.8, random_state=365)\n",
        "for train_idx, test_idx in splitter.split(X_data, y_data):\n",
        "    X_train = X_data.loc[train_idx]\n",
        "    y_train = y_data.loc[train_idx]\n",
        "    X_test = X_data.loc[test_idx]\n",
        "    y_test = y_data.loc[test_idx]"
      ],
      "execution_count": 14,
      "outputs": []
    },
    {
      "cell_type": "code",
      "metadata": {
        "id": "oK5-2Q9K6sKk"
      },
      "source": [
        "# Standardize the input data\n",
        "scaler = preprocessing.StandardScaler()\n",
        "X_train = scaler.fit_transform(X_train)\n",
        "X_test = scaler.transform(X_test)"
      ],
      "execution_count": 15,
      "outputs": []
    },
    {
      "cell_type": "code",
      "metadata": {
        "id": "Gndp87lp8xWV"
      },
      "source": [
        "# Reserving a portion of the training set for validation\n",
        "# (using the Stratified Shuffle Split). This is only needed\n",
        "# for training autoencoder and a neural network classifier.\n",
        "splitter = StratifiedShuffleSplit(n_splits=1, train_size=0.9, random_state=365)\n",
        "for train_idx, test_idx in splitter.split(X_train, y_train.values):\n",
        "    X_train_part = X_train[train_idx]\n",
        "    y_train_part = y_train.values[train_idx]\n",
        "    X_validation = X_train[test_idx]\n",
        "    y_validation = y_train.values[test_idx]"
      ],
      "execution_count": 16,
      "outputs": []
    },
    {
      "cell_type": "code",
      "metadata": {
        "id": "6wr9R6qs80xZ",
        "colab": {
          "base_uri": "https://localhost:8080/"
        },
        "outputId": "7932c215-f9c7-4d67-9a7b-f410a00e2390"
      },
      "source": [
        "print('X_train_part', X_train_part.shape)\n",
        "print('X_validation', X_validation.shape)"
      ],
      "execution_count": 17,
      "outputs": [
        {
          "output_type": "stream",
          "text": [
            "X_train_part (8640, 438)\n",
            "X_validation (960, 438)\n"
          ],
          "name": "stdout"
        }
      ]
    },
    {
      "cell_type": "code",
      "metadata": {
        "id": "u14HvlO182k0"
      },
      "source": [
        "# Codings dimension\n",
        "DIMENSION = 32"
      ],
      "execution_count": 18,
      "outputs": []
    },
    {
      "cell_type": "code",
      "metadata": {
        "id": "8eK-0hAo85Ff",
        "colab": {
          "base_uri": "https://localhost:8080/"
        },
        "outputId": "eadef9ab-aa3c-4553-8e32-eb4f58ddc15a"
      },
      "source": [
        "L2 = 0.001  # regularization strength (L2 penalty)\n",
        "# Reducing \"no_features\" to low dimensional space with autoencoder\n",
        "input_layer = keras.layers.Input(shape=(no_features,))\n",
        "# Denoising layer (GaussianNoise or Dropout)\n",
        "denoise = keras.layers.Dropout(rate=0.25)(input_layer)\n",
        "#denoise = keras.layers.GaussianNoise(stdev=0.25)(input_layer)  # alter.\n",
        "# \"encoded\" is the encoded representation of the input\n",
        "x = keras.layers.Dense(256, activation='relu', \n",
        "                       kernel_initializer='glorot_normal',\n",
        "                       kernel_regularizer=keras.regularizers.l2(L2))(denoise)\n",
        "x = keras.layers.Dense(128, activation='relu', \n",
        "                       kernel_initializer='glorot_normal',\n",
        "                       kernel_regularizer=keras.regularizers.l2(L2))(x)\n",
        "x = keras.layers.Dense(64, activation='relu', \n",
        "                       kernel_initializer='glorot_normal',\n",
        "                       kernel_regularizer=keras.regularizers.l2(L2))(x)\n",
        "encoded = keras.layers.Dense(DIMENSION, activation='relu',  # encoder dimension\n",
        "                             kernel_initializer='glorot_normal',\n",
        "                             kernel_regularizer=keras.regularizers.l2(L2))(x)\n",
        "# \"decoded\" is the lossy reconstruction of the input\n",
        "x = keras.layers.Dense(64, activation='relu', \n",
        "                       kernel_initializer='glorot_normal',\n",
        "                       kernel_regularizer=keras.regularizers.l2(L2))(encoded)\n",
        "x = keras.layers.Dense(128, activation='relu', \n",
        "                       kernel_initializer='glorot_normal',\n",
        "                       kernel_regularizer=keras.regularizers.l2(L2))(x)\n",
        "x = keras.layers.Dense(256, activation='relu', \n",
        "                       kernel_initializer='glorot_normal',\n",
        "                       kernel_regularizer=keras.regularizers.l2(L2))(x)\n",
        "decoded = keras.layers.Dense(no_features, activation='linear', \n",
        "                             kernel_initializer='glorot_normal',\n",
        "                             kernel_regularizer=keras.regularizers.l2(L2))(x)\n",
        "# Autoencoder\n",
        "autoencoder = keras.models.Model(input_layer, decoded)\n",
        "# Encoder\n",
        "encoder = keras.models.Model(input_layer, encoded)\n",
        "# Compile the model\n",
        "lr_schedule = keras.optimizers.schedules.ExponentialDecay(\n",
        "        initial_learning_rate=1e-3,\n",
        "        decay_steps=500, decay_rate=0.96, staircase=False)\n",
        "adam_schedule = keras.optimizers.Adam(learning_rate=lr_schedule)\n",
        "autoencoder.compile(optimizer=adam_schedule, loss='kullback_leibler_divergence')\n",
        "# Early stopping criteria\n",
        "early_stopping = keras.callbacks.EarlyStopping(monitor='val_loss', min_delta=0.1, \n",
        "                                               patience=10, verbose=1)\n",
        "# Train the autoencoder on the training data\n",
        "history = autoencoder.fit(X_train_part, X_train_part, epochs=100, batch_size=32, \n",
        "                          shuffle=True, validation_data=(X_validation, X_validation), \n",
        "                          callbacks=[early_stopping], verbose=1)"
      ],
      "execution_count": 19,
      "outputs": [
        {
          "output_type": "stream",
          "text": [
            "Epoch 1/100\n",
            "270/270 [==============================] - 4s 11ms/step - loss: 218.6314 - val_loss: 121.9662\n",
            "Epoch 2/100\n",
            "270/270 [==============================] - 2s 8ms/step - loss: 82.7694 - val_loss: 49.4155\n",
            "Epoch 3/100\n",
            "270/270 [==============================] - 2s 8ms/step - loss: 48.4121 - val_loss: 49.3911\n",
            "Epoch 4/100\n",
            "270/270 [==============================] - 2s 8ms/step - loss: 48.3886 - val_loss: 49.3683\n",
            "Epoch 5/100\n",
            "270/270 [==============================] - 2s 8ms/step - loss: 48.3662 - val_loss: 49.3463\n",
            "Epoch 6/100\n",
            "270/270 [==============================] - 2s 8ms/step - loss: 48.3444 - val_loss: 49.3246\n",
            "Epoch 7/100\n",
            "270/270 [==============================] - 2s 8ms/step - loss: 48.3229 - val_loss: 49.3032\n",
            "Epoch 8/100\n",
            "270/270 [==============================] - 2s 9ms/step - loss: 48.3014 - val_loss: 49.2818\n",
            "Epoch 9/100\n",
            "270/270 [==============================] - 2s 8ms/step - loss: 48.2800 - val_loss: 49.2603\n",
            "Epoch 10/100\n",
            "270/270 [==============================] - 2s 8ms/step - loss: 48.2585 - val_loss: 49.2386\n",
            "Epoch 11/100\n",
            "270/270 [==============================] - 2s 8ms/step - loss: 48.2367 - val_loss: 49.2167\n",
            "Epoch 12/100\n",
            "270/270 [==============================] - 2s 8ms/step - loss: 46.3881 - val_loss: 44.4283\n",
            "Epoch 13/100\n",
            "270/270 [==============================] - 2s 8ms/step - loss: 43.4405 - val_loss: 44.4059\n",
            "Epoch 14/100\n",
            "270/270 [==============================] - 2s 8ms/step - loss: 43.4177 - val_loss: 44.3830\n",
            "Epoch 15/100\n",
            "270/270 [==============================] - 2s 8ms/step - loss: 43.3946 - val_loss: 44.3597\n",
            "Epoch 16/100\n",
            "270/270 [==============================] - 2s 8ms/step - loss: 43.3711 - val_loss: 44.3363\n",
            "Epoch 17/100\n",
            "270/270 [==============================] - 2s 8ms/step - loss: 43.3474 - val_loss: 44.3125\n",
            "Epoch 18/100\n",
            "270/270 [==============================] - 2s 8ms/step - loss: 43.3234 - val_loss: 44.2882\n",
            "Epoch 19/100\n",
            "270/270 [==============================] - 2s 8ms/step - loss: 43.2986 - val_loss: 44.2642\n",
            "Epoch 20/100\n",
            "270/270 [==============================] - 2s 8ms/step - loss: 43.2738 - val_loss: 44.2396\n",
            "Epoch 21/100\n",
            "270/270 [==============================] - 2s 8ms/step - loss: 43.2486 - val_loss: 44.2154\n",
            "Epoch 22/100\n",
            "270/270 [==============================] - 2s 8ms/step - loss: 43.2232 - val_loss: 44.1903\n",
            "Epoch 23/100\n",
            "270/270 [==============================] - 2s 8ms/step - loss: 43.1975 - val_loss: 44.1643\n",
            "Epoch 24/100\n",
            "270/270 [==============================] - 2s 8ms/step - loss: 43.1720 - val_loss: 44.1367\n",
            "Epoch 25/100\n",
            "270/270 [==============================] - 2s 8ms/step - loss: 43.1462 - val_loss: 44.1119\n",
            "Epoch 26/100\n",
            "270/270 [==============================] - 2s 8ms/step - loss: 43.1210 - val_loss: 44.0850\n",
            "Epoch 27/100\n",
            "270/270 [==============================] - 2s 8ms/step - loss: 43.0955 - val_loss: 44.0611\n",
            "Epoch 28/100\n",
            "270/270 [==============================] - 2s 8ms/step - loss: 43.0698 - val_loss: 44.0363\n",
            "Epoch 29/100\n",
            "270/270 [==============================] - 2s 8ms/step - loss: 43.0456 - val_loss: 44.0104\n",
            "Epoch 30/100\n",
            "270/270 [==============================] - 2s 8ms/step - loss: 43.0211 - val_loss: 43.9891\n",
            "Epoch 31/100\n",
            "270/270 [==============================] - 2s 8ms/step - loss: 42.9972 - val_loss: 43.9626\n",
            "Epoch 32/100\n",
            "270/270 [==============================] - 2s 8ms/step - loss: 42.9741 - val_loss: 43.9399\n",
            "Epoch 33/100\n",
            "270/270 [==============================] - 2s 8ms/step - loss: 42.9518 - val_loss: 43.9183\n",
            "Epoch 34/100\n",
            "270/270 [==============================] - 2s 8ms/step - loss: 42.9306 - val_loss: 43.8972\n",
            "Epoch 35/100\n",
            "270/270 [==============================] - 2s 8ms/step - loss: 42.9101 - val_loss: 43.8778\n",
            "Epoch 36/100\n",
            "270/270 [==============================] - 2s 8ms/step - loss: 42.8914 - val_loss: 43.8585\n",
            "Epoch 37/100\n",
            "270/270 [==============================] - 2s 8ms/step - loss: 42.8726 - val_loss: 43.8406\n",
            "Epoch 38/100\n",
            "270/270 [==============================] - 2s 8ms/step - loss: 42.8549 - val_loss: 43.8251\n",
            "Epoch 39/100\n",
            "270/270 [==============================] - 2s 8ms/step - loss: 42.8387 - val_loss: 43.8076\n",
            "Epoch 40/100\n",
            "270/270 [==============================] - 2s 8ms/step - loss: 42.8232 - val_loss: 43.7934\n",
            "Epoch 41/100\n",
            "270/270 [==============================] - 2s 8ms/step - loss: 42.8093 - val_loss: 43.7791\n",
            "Epoch 42/100\n",
            "270/270 [==============================] - 2s 9ms/step - loss: 42.7964 - val_loss: 43.7669\n",
            "Epoch 43/100\n",
            "270/270 [==============================] - 2s 8ms/step - loss: 42.7847 - val_loss: 43.7558\n",
            "Epoch 44/100\n",
            "270/270 [==============================] - 2s 8ms/step - loss: 42.7731 - val_loss: 43.7448\n",
            "Epoch 45/100\n",
            "270/270 [==============================] - 2s 8ms/step - loss: 42.7631 - val_loss: 43.7362\n",
            "Epoch 46/100\n",
            "270/270 [==============================] - 2s 8ms/step - loss: 42.7544 - val_loss: 43.7262\n",
            "Epoch 47/100\n",
            "270/270 [==============================] - 2s 8ms/step - loss: 42.7453 - val_loss: 43.7186\n",
            "Epoch 48/100\n",
            "270/270 [==============================] - 2s 8ms/step - loss: 42.7380 - val_loss: 43.7111\n",
            "Epoch 49/100\n",
            "270/270 [==============================] - 2s 8ms/step - loss: 42.7316 - val_loss: 43.7051\n",
            "Epoch 50/100\n",
            "270/270 [==============================] - 2s 8ms/step - loss: 42.7254 - val_loss: 43.6986\n",
            "Epoch 51/100\n",
            "270/270 [==============================] - 2s 8ms/step - loss: 42.7204 - val_loss: 43.6944\n",
            "Epoch 52/100\n",
            "270/270 [==============================] - 2s 8ms/step - loss: 42.7147 - val_loss: 43.6892\n",
            "Epoch 53/100\n",
            "270/270 [==============================] - 2s 8ms/step - loss: 42.7102 - val_loss: 43.6849\n",
            "Epoch 00053: early stopping\n"
          ],
          "name": "stdout"
        }
      ]
    },
    {
      "cell_type": "code",
      "metadata": {
        "id": "g8UxlUvn9JRB",
        "colab": {
          "base_uri": "https://localhost:8080/",
          "height": 280
        },
        "outputId": "2d2b944b-5a0a-4718-909b-3293d8abcf1c"
      },
      "source": [
        "plt.plot(history.history['loss'], label='loss')\n",
        "plt.plot(history.history['val_loss'], label='val_loss')\n",
        "plt.legend()\n",
        "plt.grid(axis='y')\n",
        "plt.xlabel('Epochs')\n",
        "plt.ylabel('Loss value')\n",
        "plt.show()"
      ],
      "execution_count": 20,
      "outputs": [
        {
          "output_type": "display_data",
          "data": {
            "image/png": "[encoded data removed]",
            "text/plain": [
              "<Figure size 432x288 with 1 Axes>"
            ]
          },
          "metadata": {
            "tags": []
          }
        }
      ]
    },
    {
      "cell_type": "code",
      "metadata": {
        "id": "JrsaiSXO9Ugg",
        "colab": {
          "base_uri": "https://localhost:8080/"
        },
        "outputId": "71bdac5e-761e-4709-c27a-f8f2305cf9c4"
      },
      "source": [
        "# Encoding training data (with Monte Carlo sampling and averaging)\n",
        "X_train_encoded = np.stack([encoder(X_train, training=True) for sample in range(100)]).mean(axis=0)\n",
        "print(X_train_encoded.shape)\n",
        "# Encoding testing data\n",
        "X_test_encoded = np.stack([encoder(X_test, training=True) for sample in range(100)]).mean(axis=0)\n",
        "print(X_test_encoded.shape)"
      ],
      "execution_count": 21,
      "outputs": [
        {
          "output_type": "stream",
          "text": [
            "(9600, 32)\n",
            "(2400, 32)\n"
          ],
          "name": "stdout"
        }
      ]
    },
    {
      "cell_type": "code",
      "metadata": {
        "id": "Ltf089a49Xjx",
        "colab": {
          "base_uri": "https://localhost:8080/"
        },
        "outputId": "7dedda1a-1a05-475d-d555-560b8c86f431"
      },
      "source": [
        "# Computing weights for the class balancing of the DNN classifier\n",
        "class_weights = class_weight.compute_class_weight('balanced', np.unique(y_train), y_train)\n",
        "class_weights_dict = dict(zip(np.unique(y_train), class_weights))\n",
        "print(class_weights_dict)"
      ],
      "execution_count": 22,
      "outputs": [
        {
          "output_type": "stream",
          "text": [
            "{0: 0.586940572267058, 1: 3.3755274261603376}\n"
          ],
          "name": "stdout"
        }
      ]
    },
    {
      "cell_type": "code",
      "metadata": {
        "id": "3UoQblOb9b6q",
        "colab": {
          "base_uri": "https://localhost:8080/"
        },
        "outputId": "b212b7b2-ceed-471d-f776-a89636bdce2f"
      },
      "source": [
        "# Clone the encoder model\n",
        "model_clone = keras.models.clone_model(encoder)\n",
        "model_clone.set_weights(encoder.get_weights())\n",
        "# Transfer learning from encoder to classifier\n",
        "classifier_model = keras.models.Sequential(model_clone.layers[:-1])  # exclude last encoder layer\n",
        "# Stack additional layers\n",
        "classifier_model.add(keras.layers.Dense(128, activation='relu',\n",
        "                                        kernel_initializer='glorot_normal',\n",
        "                                        kernel_regularizer=keras.regularizers.l2(L2)))\n",
        "classifier_model.add(keras.layers.Dropout(0.2))\n",
        "classifier_model.add(keras.layers.Dense(64, activation='relu',\n",
        "                                        kernel_initializer='glorot_normal',\n",
        "                                        kernel_regularizer=keras.regularizers.l2(L2)))\n",
        "classifier_model.add(keras.layers.Dropout(0.1))\n",
        "classifier_model.add(keras.layers.Dense(1, activation='sigmoid'))\n",
        "# Freezing layers (except newly added ones)\n",
        "for layer in classifier_model.layers[:-5]:\n",
        "    layer.trainable = False\n",
        "EPOCHS = 200\n",
        "BATCH_SIZE = 32\n",
        "lr_schedule = keras.optimizers.schedules.ExponentialDecay(\n",
        "        initial_learning_rate=1e-3,\n",
        "        decay_steps=200, decay_rate=0.96, staircase=False)\n",
        "adam_schedule = keras.optimizers.Adam(learning_rate=lr_schedule)\n",
        "classifier_model.compile(optimizer=adam_schedule, loss='binary_crossentropy', metrics=['AUC'])\n",
        "early_stopping = keras.callbacks.EarlyStopping(monitor='val_loss', min_delta=0.01, \n",
        "        patience=25, verbose=1, restore_best_weights=True)\n",
        "# Train the classifier (first pass)\n",
        "classification_history = classifier_model.fit(X_train_part, y_train_part, \n",
        "        epochs=EPOCHS, batch_size=BATCH_SIZE, \n",
        "        shuffle=True, validation_data=(X_validation, y_validation),\n",
        "        class_weight=class_weights_dict, callbacks=[early_stopping], verbose=1)"
      ],
      "execution_count": 23,
      "outputs": [
        {
          "output_type": "stream",
          "text": [
            "WARNING:tensorflow:From /usr/local/lib/python3.7/dist-packages/tensorflow/python/ops/array_ops.py:5049: calling gather (from tensorflow.python.ops.array_ops) with validate_indices is deprecated and will be removed in a future version.\n",
            "Instructions for updating:\n",
            "The `validate_indices` argument has no effect. Indices are always validated on CPU and never validated on GPU.\n",
            "Epoch 1/200\n",
            "270/270 [==============================] - 2s 5ms/step - loss: 0.7889 - auc: 0.5037 - val_loss: 0.7783 - val_auc: 0.5946\n",
            "Epoch 2/200\n",
            "270/270 [==============================] - 1s 3ms/step - loss: 0.7429 - auc: 0.5142 - val_loss: 0.7721 - val_auc: 0.6201\n",
            "Epoch 3/200\n",
            "270/270 [==============================] - 1s 3ms/step - loss: 0.7335 - auc: 0.5034 - val_loss: 0.7328 - val_auc: 0.5827\n",
            "Epoch 4/200\n",
            "270/270 [==============================] - 1s 3ms/step - loss: 0.7258 - auc: 0.5156 - val_loss: 0.7150 - val_auc: 0.5359\n",
            "Epoch 5/200\n",
            "270/270 [==============================] - 1s 3ms/step - loss: 0.7210 - auc: 0.5145 - val_loss: 0.6950 - val_auc: 0.5353\n",
            "Epoch 6/200\n",
            "270/270 [==============================] - 1s 3ms/step - loss: 0.7171 - auc: 0.5204 - val_loss: 0.7499 - val_auc: 0.6003\n",
            "Epoch 7/200\n",
            "270/270 [==============================] - 1s 3ms/step - loss: 0.7144 - auc: 0.5252 - val_loss: 0.7133 - val_auc: 0.5472\n",
            "Epoch 8/200\n",
            "270/270 [==============================] - 1s 3ms/step - loss: 0.7111 - auc: 0.5410 - val_loss: 0.7256 - val_auc: 0.5815\n",
            "Epoch 9/200\n",
            "270/270 [==============================] - 1s 3ms/step - loss: 0.7088 - auc: 0.5471 - val_loss: 0.6728 - val_auc: 0.5635\n",
            "Epoch 10/200\n",
            "270/270 [==============================] - 1s 3ms/step - loss: 0.7068 - auc: 0.5486 - val_loss: 0.7236 - val_auc: 0.6083\n",
            "Epoch 11/200\n",
            "270/270 [==============================] - 1s 3ms/step - loss: 0.7056 - auc: 0.5577 - val_loss: 0.6849 - val_auc: 0.6108\n",
            "Epoch 12/200\n",
            "270/270 [==============================] - 1s 3ms/step - loss: 0.7009 - auc: 0.5829 - val_loss: 0.6981 - val_auc: 0.6603\n",
            "Epoch 13/200\n",
            "270/270 [==============================] - 1s 3ms/step - loss: 0.7004 - auc: 0.5846 - val_loss: 0.7109 - val_auc: 0.6259\n",
            "Epoch 14/200\n",
            "270/270 [==============================] - 1s 3ms/step - loss: 0.7017 - auc: 0.5689 - val_loss: 0.7456 - val_auc: 0.6824\n",
            "Epoch 15/200\n",
            "270/270 [==============================] - 1s 3ms/step - loss: 0.6971 - auc: 0.6054 - val_loss: 0.7195 - val_auc: 0.7251\n",
            "Epoch 16/200\n",
            "270/270 [==============================] - 1s 3ms/step - loss: 0.6858 - auc: 0.6565 - val_loss: 0.7127 - val_auc: 0.7705\n",
            "Epoch 17/200\n",
            "270/270 [==============================] - 1s 4ms/step - loss: 0.6757 - auc: 0.6932 - val_loss: 0.6359 - val_auc: 0.7692\n",
            "Epoch 18/200\n",
            "270/270 [==============================] - 1s 3ms/step - loss: 0.6623 - auc: 0.7245 - val_loss: 0.7011 - val_auc: 0.8211\n",
            "Epoch 19/200\n",
            "270/270 [==============================] - 1s 3ms/step - loss: 0.6427 - auc: 0.7680 - val_loss: 0.5251 - val_auc: 0.8054\n",
            "Epoch 20/200\n",
            "270/270 [==============================] - 1s 4ms/step - loss: 0.6238 - auc: 0.7764 - val_loss: 0.5159 - val_auc: 0.8298\n",
            "Epoch 21/200\n",
            "270/270 [==============================] - 1s 3ms/step - loss: 0.6086 - auc: 0.8006 - val_loss: 0.5481 - val_auc: 0.8543\n",
            "Epoch 22/200\n",
            "270/270 [==============================] - 1s 3ms/step - loss: 0.5917 - auc: 0.8128 - val_loss: 0.5784 - val_auc: 0.8695\n",
            "Epoch 23/200\n",
            "270/270 [==============================] - 1s 4ms/step - loss: 0.5835 - auc: 0.8185 - val_loss: 0.5153 - val_auc: 0.8727\n",
            "Epoch 24/200\n",
            "270/270 [==============================] - 1s 3ms/step - loss: 0.5713 - auc: 0.8237 - val_loss: 0.5727 - val_auc: 0.8825\n",
            "Epoch 25/200\n",
            "270/270 [==============================] - 1s 4ms/step - loss: 0.5616 - auc: 0.8358 - val_loss: 0.5766 - val_auc: 0.8863\n",
            "Epoch 26/200\n",
            "270/270 [==============================] - 1s 3ms/step - loss: 0.5522 - auc: 0.8407 - val_loss: 0.4917 - val_auc: 0.8856\n",
            "Epoch 27/200\n",
            "270/270 [==============================] - 1s 3ms/step - loss: 0.5495 - auc: 0.8396 - val_loss: 0.4873 - val_auc: 0.8880\n",
            "Epoch 28/200\n",
            "270/270 [==============================] - 1s 4ms/step - loss: 0.5498 - auc: 0.8399 - val_loss: 0.5686 - val_auc: 0.8915\n",
            "Epoch 29/200\n",
            "270/270 [==============================] - 1s 3ms/step - loss: 0.5400 - auc: 0.8454 - val_loss: 0.6026 - val_auc: 0.8947\n",
            "Epoch 30/200\n",
            "270/270 [==============================] - 1s 4ms/step - loss: 0.5384 - auc: 0.8469 - val_loss: 0.5002 - val_auc: 0.8928\n",
            "Epoch 31/200\n",
            "270/270 [==============================] - 1s 3ms/step - loss: 0.5352 - auc: 0.8502 - val_loss: 0.5283 - val_auc: 0.8944\n",
            "Epoch 32/200\n",
            "270/270 [==============================] - 1s 3ms/step - loss: 0.5410 - auc: 0.8440 - val_loss: 0.4764 - val_auc: 0.8936\n",
            "Epoch 33/200\n",
            "270/270 [==============================] - 1s 3ms/step - loss: 0.5304 - auc: 0.8526 - val_loss: 0.4908 - val_auc: 0.8943\n",
            "Epoch 34/200\n",
            "270/270 [==============================] - 1s 3ms/step - loss: 0.5344 - auc: 0.8503 - val_loss: 0.5164 - val_auc: 0.8961\n",
            "Epoch 35/200\n",
            "270/270 [==============================] - 1s 3ms/step - loss: 0.5308 - auc: 0.8512 - val_loss: 0.5112 - val_auc: 0.8959\n",
            "Epoch 36/200\n",
            "270/270 [==============================] - 1s 4ms/step - loss: 0.5327 - auc: 0.8501 - val_loss: 0.4681 - val_auc: 0.8963\n",
            "Epoch 37/200\n",
            "270/270 [==============================] - 1s 3ms/step - loss: 0.5281 - auc: 0.8532 - val_loss: 0.5242 - val_auc: 0.8971\n",
            "Epoch 38/200\n",
            "270/270 [==============================] - 1s 3ms/step - loss: 0.5233 - auc: 0.8573 - val_loss: 0.4889 - val_auc: 0.8976\n",
            "Epoch 39/200\n",
            "270/270 [==============================] - 1s 3ms/step - loss: 0.5259 - auc: 0.8555 - val_loss: 0.4859 - val_auc: 0.8976\n",
            "Epoch 40/200\n",
            "270/270 [==============================] - 1s 3ms/step - loss: 0.5264 - auc: 0.8550 - val_loss: 0.4987 - val_auc: 0.8980\n",
            "Epoch 41/200\n",
            "270/270 [==============================] - 1s 3ms/step - loss: 0.5193 - auc: 0.8587 - val_loss: 0.5968 - val_auc: 0.8989\n",
            "Epoch 42/200\n",
            "270/270 [==============================] - 1s 3ms/step - loss: 0.5233 - auc: 0.8560 - val_loss: 0.5097 - val_auc: 0.8985\n",
            "Epoch 43/200\n",
            "270/270 [==============================] - 1s 3ms/step - loss: 0.5241 - auc: 0.8566 - val_loss: 0.4750 - val_auc: 0.8991\n",
            "Epoch 44/200\n",
            "270/270 [==============================] - 1s 3ms/step - loss: 0.5234 - auc: 0.8572 - val_loss: 0.4516 - val_auc: 0.8983\n",
            "Epoch 45/200\n",
            "270/270 [==============================] - 1s 3ms/step - loss: 0.5184 - auc: 0.8595 - val_loss: 0.5171 - val_auc: 0.8993\n",
            "Epoch 46/200\n",
            "270/270 [==============================] - 1s 3ms/step - loss: 0.5147 - auc: 0.8609 - val_loss: 0.4654 - val_auc: 0.8990\n",
            "Epoch 47/200\n",
            "270/270 [==============================] - 1s 3ms/step - loss: 0.5148 - auc: 0.8615 - val_loss: 0.4950 - val_auc: 0.8993\n",
            "Epoch 48/200\n",
            "270/270 [==============================] - 1s 3ms/step - loss: 0.5169 - auc: 0.8595 - val_loss: 0.4778 - val_auc: 0.8999\n",
            "Epoch 49/200\n",
            "270/270 [==============================] - 1s 3ms/step - loss: 0.5141 - auc: 0.8623 - val_loss: 0.4461 - val_auc: 0.8991\n",
            "Epoch 50/200\n",
            "270/270 [==============================] - 1s 3ms/step - loss: 0.5167 - auc: 0.8610 - val_loss: 0.4524 - val_auc: 0.8996\n",
            "Epoch 51/200\n",
            "270/270 [==============================] - 1s 3ms/step - loss: 0.5183 - auc: 0.8596 - val_loss: 0.4758 - val_auc: 0.9003\n",
            "Epoch 52/200\n",
            "270/270 [==============================] - 1s 3ms/step - loss: 0.5138 - auc: 0.8621 - val_loss: 0.4601 - val_auc: 0.9003\n",
            "Epoch 53/200\n",
            "270/270 [==============================] - 1s 3ms/step - loss: 0.5134 - auc: 0.8630 - val_loss: 0.5053 - val_auc: 0.9006\n",
            "Epoch 54/200\n",
            "270/270 [==============================] - 1s 3ms/step - loss: 0.5131 - auc: 0.8627 - val_loss: 0.4675 - val_auc: 0.9011\n",
            "Epoch 55/200\n",
            "270/270 [==============================] - 1s 3ms/step - loss: 0.5157 - auc: 0.8611 - val_loss: 0.5050 - val_auc: 0.9012\n",
            "Epoch 56/200\n",
            "270/270 [==============================] - 1s 3ms/step - loss: 0.5109 - auc: 0.8634 - val_loss: 0.4804 - val_auc: 0.9009\n",
            "Epoch 57/200\n",
            "270/270 [==============================] - 1s 3ms/step - loss: 0.5159 - auc: 0.8613 - val_loss: 0.5048 - val_auc: 0.9009\n",
            "Epoch 58/200\n",
            "270/270 [==============================] - 1s 3ms/step - loss: 0.5139 - auc: 0.8617 - val_loss: 0.4792 - val_auc: 0.9011\n",
            "Epoch 59/200\n",
            "270/270 [==============================] - 1s 3ms/step - loss: 0.5147 - auc: 0.8611 - val_loss: 0.4826 - val_auc: 0.9019\n",
            "Epoch 60/200\n",
            "270/270 [==============================] - 1s 3ms/step - loss: 0.5088 - auc: 0.8646 - val_loss: 0.4927 - val_auc: 0.9012\n",
            "Epoch 61/200\n",
            "270/270 [==============================] - 1s 3ms/step - loss: 0.5076 - auc: 0.8656 - val_loss: 0.4834 - val_auc: 0.9012\n",
            "Epoch 62/200\n",
            "270/270 [==============================] - 1s 3ms/step - loss: 0.5115 - auc: 0.8633 - val_loss: 0.4885 - val_auc: 0.9011\n",
            "Epoch 63/200\n",
            "270/270 [==============================] - 1s 3ms/step - loss: 0.5089 - auc: 0.8656 - val_loss: 0.4583 - val_auc: 0.9010\n",
            "Epoch 64/200\n",
            "270/270 [==============================] - 1s 3ms/step - loss: 0.5123 - auc: 0.8624 - val_loss: 0.4713 - val_auc: 0.9015\n",
            "Epoch 65/200\n",
            "270/270 [==============================] - 1s 3ms/step - loss: 0.5123 - auc: 0.8629 - val_loss: 0.4932 - val_auc: 0.9008\n",
            "Epoch 66/200\n",
            "270/270 [==============================] - 1s 3ms/step - loss: 0.5109 - auc: 0.8633 - val_loss: 0.5121 - val_auc: 0.9016\n",
            "Epoch 67/200\n",
            "270/270 [==============================] - 1s 3ms/step - loss: 0.5067 - auc: 0.8654 - val_loss: 0.5033 - val_auc: 0.9012\n",
            "Epoch 68/200\n",
            "270/270 [==============================] - 1s 3ms/step - loss: 0.5122 - auc: 0.8644 - val_loss: 0.4685 - val_auc: 0.9021\n",
            "Epoch 69/200\n",
            "270/270 [==============================] - 1s 3ms/step - loss: 0.5086 - auc: 0.8654 - val_loss: 0.4677 - val_auc: 0.9014\n",
            "Restoring model weights from the end of the best epoch.\n",
            "Epoch 00069: early stopping\n"
          ],
          "name": "stdout"
        }
      ]
    },
    {
      "cell_type": "code",
      "metadata": {
        "id": "1hmaXa-99nD_",
        "colab": {
          "base_uri": "https://localhost:8080/",
          "height": 295
        },
        "outputId": "18308520-cc2c-41db-d7ae-aa8d4a6705f3"
      },
      "source": [
        "plt.figure(figsize=(5.5,4))\n",
        "plt.title('Network training phase')\n",
        "plt.plot(classification_history.history['loss'], label='training')\n",
        "plt.plot(classification_history.history['val_loss'], label='validation')\n",
        "plt.legend()\n",
        "plt.grid(axis='y')\n",
        "plt.xlabel('Epochs')\n",
        "plt.ylabel('Loss value')\n",
        "plt.show()"
      ],
      "execution_count": 24,
      "outputs": [
        {
          "output_type": "display_data",
          "data": {
            "image/png": "[encoded data removed]",
            "text/plain": [
              "<Figure size 396x288 with 1 Axes>"
            ]
          },
          "metadata": {
            "tags": []
          }
        }
      ]
    },
    {
      "cell_type": "code",
      "metadata": {
        "id": "JKqCspjv9_Bo",
        "colab": {
          "base_uri": "https://localhost:8080/"
        },
        "outputId": "5631e040-0a9e-4d5c-f30c-7272cb366a59"
      },
      "source": [
        "classifier_model.layers"
      ],
      "execution_count": 25,
      "outputs": [
        {
          "output_type": "execute_result",
          "data": {
            "text/plain": [
              "[<tensorflow.python.keras.layers.core.Dropout at 0x7f42d7c00a50>,\n",
              " <tensorflow.python.keras.layers.core.Dense at 0x7f42d519c110>,\n",
              " <tensorflow.python.keras.layers.core.Dense at 0x7f42da7b2190>,\n",
              " <tensorflow.python.keras.layers.core.Dense at 0x7f431a6a5a90>,\n",
              " <tensorflow.python.keras.layers.core.Dense at 0x7f42d5162290>,\n",
              " <tensorflow.python.keras.layers.core.Dropout at 0x7f42d5109a10>,\n",
              " <tensorflow.python.keras.layers.core.Dense at 0x7f42d50fc450>,\n",
              " <tensorflow.python.keras.layers.core.Dropout at 0x7f42d7e04e50>,\n",
              " <tensorflow.python.keras.layers.core.Dense at 0x7f42d7e3cd10>]"
            ]
          },
          "metadata": {
            "tags": []
          },
          "execution_count": 25
        }
      ]
    },
    {
      "cell_type": "code",
      "metadata": {
        "id": "8ItVDaK-9_wl",
        "colab": {
          "base_uri": "https://localhost:8080/"
        },
        "outputId": "3086b735-aae4-40e4-dc69-4f7808ce8eaf"
      },
      "source": [
        "# Un-freezing selected layers for fine-tuning\n",
        "for layer in classifier_model.layers[3:-5]:\n",
        "    print(layer)\n",
        "    layer.trainable = True"
      ],
      "execution_count": 26,
      "outputs": [
        {
          "output_type": "stream",
          "text": [
            "<tensorflow.python.keras.layers.core.Dense object at 0x7f431a6a5a90>\n"
          ],
          "name": "stdout"
        }
      ]
    },
    {
      "cell_type": "code",
      "metadata": {
        "id": "iF0UzcbM-Bf-",
        "colab": {
          "base_uri": "https://localhost:8080/"
        },
        "outputId": "ac2c7abc-3b68-4a3a-8308-46b5e081c4a7"
      },
      "source": [
        "# Fine-tuning network weights with a reduced learning rate (second pass)\n",
        "lr_schedule = keras.optimizers.schedules.ExponentialDecay(\n",
        "        initial_learning_rate=1e-4,  # lower initial rate\n",
        "        decay_steps=100, decay_rate=0.96, staircase=False)\n",
        "adam = keras.optimizers.Adam(learning_rate=lr_schedule)\n",
        "early_stopping = keras.callbacks.EarlyStopping(monitor='val_loss', min_delta=0.01, \n",
        "        patience=50, verbose=1, restore_best_weights=True)\n",
        "classifier_model.compile(optimizer=adam, loss='binary_crossentropy', metrics=['AUC'])\n",
        "fine_tuning_history = classifier_model.fit(X_train_part, y_train_part, \n",
        "        epochs=EPOCHS, batch_size=BATCH_SIZE, \n",
        "        shuffle=False, validation_data=(X_validation, y_validation),\n",
        "        class_weight=class_weights_dict, callbacks=[early_stopping], verbose=1)"
      ],
      "execution_count": 27,
      "outputs": [
        {
          "output_type": "stream",
          "text": [
            "Epoch 1/200\n",
            "270/270 [==============================] - 2s 4ms/step - loss: 0.4959 - auc: 0.8742 - val_loss: 0.3675 - val_auc: 0.9316\n",
            "Epoch 2/200\n",
            "270/270 [==============================] - 1s 3ms/step - loss: 0.4760 - auc: 0.8904 - val_loss: 0.3767 - val_auc: 0.9396\n",
            "Epoch 3/200\n",
            "270/270 [==============================] - 1s 3ms/step - loss: 0.4437 - auc: 0.9051 - val_loss: 0.3680 - val_auc: 0.9437\n",
            "Epoch 4/200\n",
            "270/270 [==============================] - 1s 3ms/step - loss: 0.4362 - auc: 0.9113 - val_loss: 0.3577 - val_auc: 0.9460\n",
            "Epoch 5/200\n",
            "270/270 [==============================] - 1s 3ms/step - loss: 0.4266 - auc: 0.9152 - val_loss: 0.3480 - val_auc: 0.9475\n",
            "Epoch 6/200\n",
            "270/270 [==============================] - 1s 3ms/step - loss: 0.4273 - auc: 0.9149 - val_loss: 0.3528 - val_auc: 0.9490\n",
            "Epoch 7/200\n",
            "270/270 [==============================] - 1s 3ms/step - loss: 0.4190 - auc: 0.9188 - val_loss: 0.3327 - val_auc: 0.9503\n",
            "Epoch 8/200\n",
            "270/270 [==============================] - 1s 3ms/step - loss: 0.4184 - auc: 0.9195 - val_loss: 0.3562 - val_auc: 0.9514\n",
            "Epoch 9/200\n",
            "270/270 [==============================] - 1s 3ms/step - loss: 0.4024 - auc: 0.9272 - val_loss: 0.3438 - val_auc: 0.9525\n",
            "Epoch 10/200\n",
            "270/270 [==============================] - 1s 3ms/step - loss: 0.4025 - auc: 0.9274 - val_loss: 0.3027 - val_auc: 0.9524\n",
            "Epoch 11/200\n",
            "270/270 [==============================] - 1s 3ms/step - loss: 0.4036 - auc: 0.9253 - val_loss: 0.3739 - val_auc: 0.9539\n",
            "Epoch 12/200\n",
            "270/270 [==============================] - 1s 3ms/step - loss: 0.4015 - auc: 0.9262 - val_loss: 0.3213 - val_auc: 0.9544\n",
            "Epoch 13/200\n",
            "270/270 [==============================] - 1s 3ms/step - loss: 0.4044 - auc: 0.9258 - val_loss: 0.3288 - val_auc: 0.9546\n",
            "Epoch 14/200\n",
            "270/270 [==============================] - 1s 3ms/step - loss: 0.4006 - auc: 0.9269 - val_loss: 0.3460 - val_auc: 0.9554\n",
            "Epoch 15/200\n",
            "270/270 [==============================] - 1s 3ms/step - loss: 0.3986 - auc: 0.9289 - val_loss: 0.3297 - val_auc: 0.9557\n",
            "Epoch 16/200\n",
            "270/270 [==============================] - 1s 3ms/step - loss: 0.3959 - auc: 0.9285 - val_loss: 0.3207 - val_auc: 0.9558\n",
            "Epoch 17/200\n",
            "270/270 [==============================] - 1s 3ms/step - loss: 0.3889 - auc: 0.9327 - val_loss: 0.3110 - val_auc: 0.9562\n",
            "Epoch 18/200\n",
            "270/270 [==============================] - 1s 3ms/step - loss: 0.3930 - auc: 0.9300 - val_loss: 0.3316 - val_auc: 0.9564\n",
            "Epoch 19/200\n",
            "270/270 [==============================] - 1s 3ms/step - loss: 0.3932 - auc: 0.9312 - val_loss: 0.3200 - val_auc: 0.9571\n",
            "Epoch 20/200\n",
            "270/270 [==============================] - 1s 3ms/step - loss: 0.3795 - auc: 0.9352 - val_loss: 0.3092 - val_auc: 0.9570\n",
            "Epoch 21/200\n",
            "270/270 [==============================] - 1s 3ms/step - loss: 0.3876 - auc: 0.9332 - val_loss: 0.3144 - val_auc: 0.9572\n",
            "Epoch 22/200\n",
            "270/270 [==============================] - 1s 3ms/step - loss: 0.3872 - auc: 0.9324 - val_loss: 0.3240 - val_auc: 0.9575\n",
            "Epoch 23/200\n",
            "270/270 [==============================] - 1s 3ms/step - loss: 0.3834 - auc: 0.9346 - val_loss: 0.3131 - val_auc: 0.9575\n",
            "Epoch 24/200\n",
            "270/270 [==============================] - 1s 3ms/step - loss: 0.3864 - auc: 0.9339 - val_loss: 0.3234 - val_auc: 0.9581\n",
            "Epoch 25/200\n",
            "270/270 [==============================] - 1s 3ms/step - loss: 0.3951 - auc: 0.9295 - val_loss: 0.3315 - val_auc: 0.9583\n",
            "Epoch 26/200\n",
            "270/270 [==============================] - 1s 3ms/step - loss: 0.3885 - auc: 0.9321 - val_loss: 0.3357 - val_auc: 0.9582\n",
            "Epoch 27/200\n",
            "270/270 [==============================] - 1s 3ms/step - loss: 0.3880 - auc: 0.9333 - val_loss: 0.3286 - val_auc: 0.9584\n",
            "Epoch 28/200\n",
            "270/270 [==============================] - 1s 3ms/step - loss: 0.3858 - auc: 0.9333 - val_loss: 0.3404 - val_auc: 0.9582\n",
            "Epoch 29/200\n",
            "270/270 [==============================] - 1s 3ms/step - loss: 0.3904 - auc: 0.9324 - val_loss: 0.3362 - val_auc: 0.9584\n",
            "Epoch 30/200\n",
            "270/270 [==============================] - 1s 3ms/step - loss: 0.3883 - auc: 0.9319 - val_loss: 0.3400 - val_auc: 0.9581\n",
            "Epoch 31/200\n",
            "270/270 [==============================] - 1s 3ms/step - loss: 0.3911 - auc: 0.9308 - val_loss: 0.3443 - val_auc: 0.9582\n",
            "Epoch 32/200\n",
            "270/270 [==============================] - 1s 3ms/step - loss: 0.3816 - auc: 0.9349 - val_loss: 0.3414 - val_auc: 0.9582\n",
            "Epoch 33/200\n",
            "270/270 [==============================] - 1s 3ms/step - loss: 0.3865 - auc: 0.9334 - val_loss: 0.3394 - val_auc: 0.9583\n",
            "Epoch 34/200\n",
            "270/270 [==============================] - 1s 3ms/step - loss: 0.3872 - auc: 0.9337 - val_loss: 0.3448 - val_auc: 0.9585\n",
            "Epoch 35/200\n",
            "270/270 [==============================] - 1s 3ms/step - loss: 0.3850 - auc: 0.9347 - val_loss: 0.3392 - val_auc: 0.9585\n",
            "Epoch 36/200\n",
            "270/270 [==============================] - 1s 3ms/step - loss: 0.3829 - auc: 0.9344 - val_loss: 0.3342 - val_auc: 0.9587\n",
            "Epoch 37/200\n",
            "270/270 [==============================] - 1s 3ms/step - loss: 0.3783 - auc: 0.9362 - val_loss: 0.3337 - val_auc: 0.9587\n",
            "Epoch 38/200\n",
            "270/270 [==============================] - 1s 3ms/step - loss: 0.3822 - auc: 0.9353 - val_loss: 0.3353 - val_auc: 0.9588\n",
            "Epoch 39/200\n",
            "270/270 [==============================] - 1s 3ms/step - loss: 0.3796 - auc: 0.9351 - val_loss: 0.3315 - val_auc: 0.9587\n",
            "Epoch 40/200\n",
            "270/270 [==============================] - 1s 3ms/step - loss: 0.3847 - auc: 0.9337 - val_loss: 0.3376 - val_auc: 0.9587\n",
            "Epoch 41/200\n",
            "270/270 [==============================] - 1s 3ms/step - loss: 0.3871 - auc: 0.9324 - val_loss: 0.3346 - val_auc: 0.9589\n",
            "Epoch 42/200\n",
            "270/270 [==============================] - 1s 3ms/step - loss: 0.3862 - auc: 0.9333 - val_loss: 0.3319 - val_auc: 0.9588\n",
            "Epoch 43/200\n",
            "270/270 [==============================] - 1s 3ms/step - loss: 0.3881 - auc: 0.9323 - val_loss: 0.3350 - val_auc: 0.9589\n",
            "Epoch 44/200\n",
            "270/270 [==============================] - 1s 3ms/step - loss: 0.3818 - auc: 0.9344 - val_loss: 0.3317 - val_auc: 0.9588\n",
            "Epoch 45/200\n",
            "270/270 [==============================] - 1s 3ms/step - loss: 0.3810 - auc: 0.9353 - val_loss: 0.3290 - val_auc: 0.9588\n",
            "Epoch 46/200\n",
            "270/270 [==============================] - 1s 3ms/step - loss: 0.3809 - auc: 0.9349 - val_loss: 0.3281 - val_auc: 0.9589\n",
            "Epoch 47/200\n",
            "270/270 [==============================] - 1s 4ms/step - loss: 0.3921 - auc: 0.9316 - val_loss: 0.3293 - val_auc: 0.9590\n",
            "Epoch 48/200\n",
            "270/270 [==============================] - 1s 3ms/step - loss: 0.3840 - auc: 0.9341 - val_loss: 0.3297 - val_auc: 0.9589\n",
            "Epoch 49/200\n",
            "270/270 [==============================] - 1s 3ms/step - loss: 0.3804 - auc: 0.9352 - val_loss: 0.3283 - val_auc: 0.9589\n",
            "Epoch 50/200\n",
            "270/270 [==============================] - 1s 3ms/step - loss: 0.3830 - auc: 0.9336 - val_loss: 0.3289 - val_auc: 0.9591\n",
            "Epoch 51/200\n",
            "270/270 [==============================] - 1s 3ms/step - loss: 0.3833 - auc: 0.9340 - val_loss: 0.3278 - val_auc: 0.9589\n",
            "Epoch 52/200\n",
            "270/270 [==============================] - 1s 3ms/step - loss: 0.3819 - auc: 0.9341 - val_loss: 0.3297 - val_auc: 0.9590\n",
            "Epoch 53/200\n",
            "270/270 [==============================] - 1s 3ms/step - loss: 0.3870 - auc: 0.9348 - val_loss: 0.3269 - val_auc: 0.9590\n",
            "Epoch 54/200\n",
            "270/270 [==============================] - 1s 3ms/step - loss: 0.3796 - auc: 0.9355 - val_loss: 0.3273 - val_auc: 0.9589\n",
            "Epoch 55/200\n",
            "270/270 [==============================] - 1s 3ms/step - loss: 0.3828 - auc: 0.9348 - val_loss: 0.3281 - val_auc: 0.9590\n",
            "Epoch 56/200\n",
            "270/270 [==============================] - 1s 3ms/step - loss: 0.3794 - auc: 0.9359 - val_loss: 0.3267 - val_auc: 0.9591\n",
            "Epoch 57/200\n",
            "270/270 [==============================] - 1s 3ms/step - loss: 0.3834 - auc: 0.9347 - val_loss: 0.3269 - val_auc: 0.9590\n",
            "Epoch 58/200\n",
            "270/270 [==============================] - 1s 3ms/step - loss: 0.3870 - auc: 0.9333 - val_loss: 0.3276 - val_auc: 0.9589\n",
            "Epoch 59/200\n",
            "270/270 [==============================] - 1s 3ms/step - loss: 0.3734 - auc: 0.9375 - val_loss: 0.3271 - val_auc: 0.9590\n",
            "Epoch 60/200\n",
            "270/270 [==============================] - 1s 3ms/step - loss: 0.3889 - auc: 0.9320 - val_loss: 0.3271 - val_auc: 0.9590\n",
            "Restoring model weights from the end of the best epoch.\n",
            "Epoch 00060: early stopping\n"
          ],
          "name": "stdout"
        }
      ]
    },
    {
      "cell_type": "code",
      "metadata": {
        "id": "-B8I5eKj-Vy_",
        "colab": {
          "base_uri": "https://localhost:8080/",
          "height": 295
        },
        "outputId": "28891c82-5716-402e-a0e7-a4852fac973d"
      },
      "source": [
        "plt.figure(figsize=(5.5,4))\n",
        "plt.title('Network fine-tunning phase')\n",
        "plt.plot(fine_tuning_history.history['loss'], label='training')\n",
        "plt.plot(fine_tuning_history.history['val_loss'], label='validation')\n",
        "plt.legend()\n",
        "plt.grid(axis='y')\n",
        "plt.xlabel('Epochs')\n",
        "plt.ylabel('Loss value')\n",
        "plt.show()"
      ],
      "execution_count": 28,
      "outputs": [
        {
          "output_type": "display_data",
          "data": {
            "image/png": "[encoded data removed]",
            "text/plain": [
              "<Figure size 396x288 with 1 Axes>"
            ]
          },
          "metadata": {
            "tags": []
          }
        }
      ]
    },
    {
      "cell_type": "code",
      "metadata": {
        "id": "1OR8h0om-eD_",
        "colab": {
          "base_uri": "https://localhost:8080/",
          "height": 222
        },
        "outputId": "4a8e087b-3764-455d-df8b-fb4f0fd64007"
      },
      "source": [
        "fig, ax = plt.subplots(1, 2, figsize=(7,3))\n",
        "#ax[0].set_title('Network training phase')\n",
        "ax[0].plot(classification_history.history['loss'], label='training')\n",
        "ax[0].plot(classification_history.history['val_loss'], label='validation')\n",
        "ax[0].set_xlabel('Epochs')\n",
        "ax[0].set_ylabel('Loss value')\n",
        "ax[0].legend(loc='upper right')\n",
        "ax[0].grid(axis='y')\n",
        "#ax[1].set_title('Network fine-tuning phase')\n",
        "ax[1].plot(fine_tuning_history.history['loss'], label='training')\n",
        "ax[1].plot(fine_tuning_history.history['val_loss'], label='validation')\n",
        "ax[1].set_xlabel('Epochs')\n",
        "ax[1].set_ylabel('Loss value')\n",
        "ax[1].legend(loc='upper right')\n",
        "ax[1].grid(axis='y')\n",
        "fig.tight_layout()\n",
        "plt.show()\n"
      ],
      "execution_count": 29,
      "outputs": [
        {
          "output_type": "display_data",
          "data": {
            "image/png": "[encoded data removed]",
            "text/plain": [
              "<Figure size 504x216 with 2 Axes>"
            ]
          },
          "metadata": {
            "tags": []
          }
        }
      ]
    },
    {
      "cell_type": "code",
      "metadata": {
        "id": "aur8rzGQ-mmy"
      },
      "source": [
        "y_scores = classifier_model.predict(X_test).flatten()"
      ],
      "execution_count": 30,
      "outputs": []
    },
    {
      "cell_type": "code",
      "metadata": {
        "id": "wpk0xqv7-oR-",
        "colab": {
          "base_uri": "https://localhost:8080/"
        },
        "outputId": "d63fb2bd-5d2f-416f-9a72-2dabfa98d0b6"
      },
      "source": [
        "y_scores.shape"
      ],
      "execution_count": 31,
      "outputs": [
        {
          "output_type": "execute_result",
          "data": {
            "text/plain": [
              "(2400,)"
            ]
          },
          "metadata": {
            "tags": []
          },
          "execution_count": 31
        }
      ]
    },
    {
      "cell_type": "code",
      "metadata": {
        "id": "GqnCk5Fo-qOh",
        "colab": {
          "base_uri": "https://localhost:8080/"
        },
        "outputId": "8c7c9b9e-bfa3-46d1-d4ca-b24a90dca954"
      },
      "source": [
        "# Precision/recall trade-off \n",
        "precisions, recalls, thresholds = metrics.precision_recall_curve(y_test, y_scores)\n",
        "# Find a best threshold value (where precision and recall curves intersect)\n",
        "EPSILON = 1e-3  # Tolerance\n",
        "THRESHOLD = thresholds[np.argwhere(abs(precisions - recalls) < EPSILON)][0][0]\n",
        "print(THRESHOLD)"
      ],
      "execution_count": 32,
      "outputs": [
        {
          "output_type": "stream",
          "text": [
            "0.694896\n"
          ],
          "name": "stdout"
        }
      ]
    },
    {
      "cell_type": "code",
      "metadata": {
        "id": "qtNcibLW-sV0"
      },
      "source": [
        "def precision_recall_tradeoff(thresholds, precisions, recalls, threshold, title=''):\n",
        "    fig, ax = plt.subplots(figsize=(5.5,3.5))\n",
        "    ax.set_title(title)\n",
        "    ax.plot(thresholds, precisions[:-1], lw=2, label='Precision')\n",
        "    ax.plot(thresholds, recalls[:-1], lw=2, label='Recall')\n",
        "    plt.vlines(threshold, 0, 1, linestyles='--', color='dimgrey', \n",
        "               label='Threshold = {:.2f}'.format(threshold))\n",
        "    ax.set_xlabel('Thresholds')\n",
        "    ax.set_ylabel('Precision / Recall')\n",
        "    ax.legend(loc='center left')\n",
        "    ax.grid()\n",
        "    fig.tight_layout()\n",
        "    plt.show()\n",
        "    return"
      ],
      "execution_count": 33,
      "outputs": []
    },
    {
      "cell_type": "code",
      "metadata": {
        "id": "zgY9XEI4-vN8",
        "colab": {
          "base_uri": "https://localhost:8080/",
          "height": 258
        },
        "outputId": "fa969a05-893f-4871-b108-ab3c4b64618f"
      },
      "source": [
        "# Show precision/recall curves\n",
        "precision_recall_tradeoff(thresholds, precisions, recalls, THRESHOLD, title='DNN classifier')"
      ],
      "execution_count": 34,
      "outputs": [
        {
          "output_type": "display_data",
          "data": {
            "image/png": "[encoded data removed]",
            "text/plain": [
              "<Figure size 396x252 with 1 Axes>"
            ]
          },
          "metadata": {
            "tags": []
          }
        }
      ]
    },
    {
      "cell_type": "code",
      "metadata": {
        "id": "lfIUPg0C-30_"
      },
      "source": [
        "pred = np.where(y_scores >= THRESHOLD, 1, 0)"
      ],
      "execution_count": 35,
      "outputs": []
    },
    {
      "cell_type": "code",
      "metadata": {
        "id": "QIr8LR7l-6uQ",
        "colab": {
          "base_uri": "https://localhost:8080/"
        },
        "outputId": "9be5c62e-943a-4e76-dd17-db37873189d3"
      },
      "source": [
        " #Monte Carlo predictions\n",
        "predictions = np.stack([classifier_model(X_test, training=True) for sample in range(100)])\n",
        "predictions = predictions.reshape(100, -1)\n",
        "predictions.shape"
      ],
      "execution_count": 36,
      "outputs": [
        {
          "output_type": "execute_result",
          "data": {
            "text/plain": [
              "(100, 2400)"
            ]
          },
          "metadata": {
            "tags": []
          },
          "execution_count": 36
        }
      ]
    },
    {
      "cell_type": "code",
      "metadata": {
        "id": "yVRGsBmf_Cdj"
      },
      "source": [
        "# Showing boxplots for select cases\n",
        "predicts = pd.DataFrame(predictions[:,[11,12,13,16,19]], \n",
        "                        columns=['Case {:d}'.format(i+1) for i in range(5)])"
      ],
      "execution_count": 37,
      "outputs": []
    },
    {
      "cell_type": "code",
      "metadata": {
        "id": "ThrTMh1o_DUX",
        "colab": {
          "base_uri": "https://localhost:8080/",
          "height": 350
        },
        "outputId": "542c6c50-d8c4-44fd-be3b-604758d83562"
      },
      "source": [
        "fig, ax = plt.subplots(figsize=(6,4))\n",
        "sns.boxplot(data=predicts, orient='v', ax=ax, showmeans=True, \n",
        "            meanprops={'marker': '*', 'markeredgecolor': 'black', 'markersize': '10'})\n",
        "sns.swarmplot(data=predicts, orient='v', size=3, color='.3', alpha=0.7, ax=ax)\n",
        "ax.axhline(THRESHOLD, ls='--', lw=2, color='dimgrey', label='Threshold = {:.2f}'.format(THRESHOLD))\n",
        "ax.legend(loc='upper left')\n",
        "ax.set_ylabel('Probability')\n",
        "fig.tight_layout()\n",
        "plt.show()"
      ],
      "execution_count": 38,
      "outputs": [
        {
          "output_type": "stream",
          "text": [
            "/usr/local/lib/python3.7/dist-packages/seaborn/categorical.py:1296: UserWarning: 22.0% of the points cannot be placed; you may want to decrease the size of the markers or use stripplot.\n",
            "  warnings.warn(msg, UserWarning)\n"
          ],
          "name": "stderr"
        },
        {
          "output_type": "display_data",
          "data": {
            "image/png": "[encoded data removed]",
            "text/plain": [
              "<Figure size 432x288 with 1 Axes>"
            ]
          },
          "metadata": {
            "tags": []
          }
        }
      ]
    },
    {
      "cell_type": "code",
      "metadata": {
        "id": "c5DLohOU_JGF"
      },
      "source": [
        "def show_confusion_matrix(y_true, y_pred, labels, title):\n",
        "    scores_image = heatmap(metrics.confusion_matrix(y_true, y_pred), xlabel='Predicted label', \n",
        "                       ylabel='True label', xticklabels=labels, yticklabels=labels, \n",
        "                       cmap=plt.cm.gray_r, fmt=\"%d\")\n",
        "    plt.title(title)\n",
        "    plt.gca().invert_yaxis()\n",
        "    plt.show()\n",
        "    return"
      ],
      "execution_count": 39,
      "outputs": []
    },
    {
      "cell_type": "code",
      "metadata": {
        "id": "Nk1U2Dnv_S2P",
        "colab": {
          "base_uri": "https://localhost:8080/",
          "height": 295
        },
        "outputId": "4cee09f0-b66b-496e-9680-6db716f97a85"
      },
      "source": [
        "labels = ['Stable', 'Unstable']\n",
        "# confusion matrix\n",
        "show_confusion_matrix(y_test, pred, labels, title='DNN classifier')"
      ],
      "execution_count": 40,
      "outputs": [
        {
          "output_type": "display_data",
          "data": {
            "image/png": "[encoded data removed]",
            "text/plain": [
              "<Figure size 432x288 with 1 Axes>"
            ]
          },
          "metadata": {
            "tags": []
          }
        }
      ]
    },
    {
      "cell_type": "code",
      "metadata": {
        "id": "m0XvtY21_V4R",
        "colab": {
          "base_uri": "https://localhost:8080/"
        },
        "outputId": "00173f18-4c71-4bfc-89a4-a966466b04e2"
      },
      "source": [
        "# classification report\n",
        "print(metrics.classification_report(y_test, pred, target_names=labels))"
      ],
      "execution_count": 41,
      "outputs": [
        {
          "output_type": "stream",
          "text": [
            "              precision    recall  f1-score   support\n",
            "\n",
            "      Stable       0.95      0.95      0.95      2044\n",
            "    Unstable       0.72      0.72      0.72       356\n",
            "\n",
            "    accuracy                           0.92      2400\n",
            "   macro avg       0.84      0.84      0.84      2400\n",
            "weighted avg       0.92      0.92      0.92      2400\n",
            "\n"
          ],
          "name": "stdout"
        }
      ]
    },
    {
      "cell_type": "code",
      "metadata": {
        "id": "zrqdSWPg_gXW"
      },
      "source": [
        "dnn_data = pd.DataFrame(data=[metrics.accuracy_score(y_test, pred), \n",
        "                              metrics.recall_score(y_test, pred),\n",
        "                              metrics.precision_score(y_test, pred), \n",
        "                              metrics.roc_auc_score(y_test, pred),\n",
        "                              metrics.f1_score(y_test, pred), \n",
        "                              matthews_score(y_test, pred), \n",
        "                              brier_score(y_test, y_scores)],\n",
        "                        index=[\"accuracy\", \"recall\", \"precision\", \"roc_auc_score\", \n",
        "                               \"f1-score\", \"matthews\", \"brier\"], \n",
        "                        columns=['Values'])"
      ],
      "execution_count": 42,
      "outputs": []
    },
    {
      "cell_type": "code",
      "metadata": {
        "id": "dZcK-jQ__mp4"
      },
      "source": [
        ""
      ],
      "execution_count": 42,
      "outputs": []
    },
    {
      "cell_type": "code",
      "metadata": {
        "id": "iusZm18c_xvZ"
      },
      "source": [
        ""
      ],
      "execution_count": 42,
      "outputs": []
    },
    {
      "cell_type": "code",
      "metadata": {
        "id": "R77N0zA0_0cs"
      },
      "source": [
        ""
      ],
      "execution_count": 42,
      "outputs": []
    }
  ]
}